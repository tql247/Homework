{
 "cells": [
  {
   "cell_type": "code",
   "execution_count": 1,
   "metadata": {},
   "outputs": [],
   "source": [
    "import re\n",
    "from dateutil.parser import parse"
   ]
  },
  {
   "cell_type": "code",
   "execution_count": 2,
   "metadata": {},
   "outputs": [],
   "source": [
    "class Token():\n",
    "    def __init__(self, val):\n",
    "        self.val = val\n",
    "        \n",
    "    def is_number(self):\n",
    "        if re.search(r'^\\d+$', self.val):\n",
    "            return True\n",
    "        return False\n",
    "        \n",
    "    def is_contain_digit (self):\n",
    "        if re.search(r'\\d', self.val):\n",
    "            return True\n",
    "        return False\n",
    "    \n",
    "    def is_date(self):\n",
    "        try: \n",
    "            parse(self.val, fuzzy=True)\n",
    "            return True\n",
    "        except ValueError:\n",
    "            return False"
   ]
  },
  {
   "cell_type": "code",
   "execution_count": 3,
   "metadata": {},
   "outputs": [],
   "source": [
    "Token('1121a2').is_number()"
   ]
  },
  {
   "cell_type": "code",
   "execution_count": 4,
   "metadata": {},
   "outputs": [],
   "source": [
    "Token('2/2020').is_date()"
   ]
  },
  {
   "cell_type": "code",
   "execution_count": 5,
   "metadata": {},
   "outputs": [],
   "source": [
    "def tokenize(sentence):\n",
    "    ls = []\n",
    "    sentence = re.sub(r'[.,]', ' ', sentence)\n",
    "    for word in re.split(r' +', sentence):\n",
    "        if word != '':\n",
    "            ls.append(Token(word))\n",
    "            \n",
    "    return ls"
   ]
  },
  {
   "cell_type": "code",
   "execution_count": 6,
   "metadata": {},
   "outputs": [],
   "source": [
    "def split_sentences(p):\n",
    "    ls = []\n",
    "    for s in re.split(r'\\n+',p):\n",
    "        if not re.match(r' +?$', s):\n",
    "            ls.append(s.strip())\n",
    "        \n",
    "    return ls"
   ]
  },
  {
   "cell_type": "code",
   "execution_count": 7,
   "metadata": {},
   "outputs": [],
   "source": [
    "def freq_token(text):\n",
    "    freq = {}\n",
    "    \n",
    "    for s in split_sentences(text):\n",
    "        for word in tokenize(s):\n",
    "            if word.val not in freq:\n",
    "                freq[word.val] = 1\n",
    "            else:\n",
    "                freq[word.val] += 1\n",
    "                    \n",
    "    return freq"
   ]
  },
  {
   "cell_type": "code",
   "execution_count": 8,
   "metadata": {},
   "outputs": [
    {
     "name": "stdout",
     "output_type": "stream",
     "text": [
      "{'Bộ': 7, 'Y': 7, 'tế': 12, 'phát': 3, 'động': 8, 'Chiến': 4, 'dịch': 30, 'truyền': 8, 'thông': 12, '“Niềm': 3, 'tin': 4, 'chiến': 9, 'thắng”': 3, '07/08/2020': 1, '|': 2, '11:58': 1, 'AM': 1, 'Ngày': 1, '06/8/2020': 2, 'lan': 4, 'tỏa': 3, 'điệp': 3, 'kêu': 4, 'gọi': 5, 'cộng': 7, 'đồng': 9, 'phòng': 7, 'chống': 11, 'bệnh': 15, 'COVID-19': 8, 'trong': 11, 'trạng': 5, 'thái': 4, 'bình': 3, 'thường': 4, 'mới': 6, 'nhằm': 1, 'mọi': 5, 'tầng': 3, 'lớp': 3, 'người': 10, 'dân': 4, 'cùng': 3, 'thực': 4, 'hiện': 6, 'đầy': 3, 'đủ': 3, 'các': 11, 'biện': 2, 'và': 19, 'xây': 3, 'dựng': 3, 'lối': 2, 'sống': 8, 'phù': 2, 'hợp': 4, 'tạo': 2, 'thói': 3, 'quen': 3, 'có': 10, 'lợi': 2, 'sức': 6, 'khỏe': 3, 'để': 8, 'chung': 5, 'với': 7, 'thiết': 2, 'lập': 2, 'cuộc': 4, 'vừa': 4, 'hiệu': 2, 'quả': 2, 'khôi': 1, 'phục': 1, 'triển': 1, 'kinh': 2, 'Bên': 1, 'cạnh': 1, 'đó': 3, 'đi': 2, 'đoàn': 2, 'kết': 4, 'hành': 4, 'yêu': 2, 'thương': 3, 'đến': 5, 'đặc': 2, 'biệt': 3, 'là': 4, 'nhóm': 1, 'dễ': 1, 'bị': 2, 'tổn': 1, 'xã': 7, 'hội': 7, 'tâm': 3, 'hiệp': 1, 'GS': 1, 'TS': 1, 'Nguyễn': 1, 'Thanh': 1, 'Long': 1, 'Quyền': 1, 'trưởng': 1, 'cho': 4, 'biết:': 1, 'Đây': 1, 'diễn': 4, 'biến': 1, 'của': 9, 'giai': 2, 'đoạn': 2, 'mong': 1, 'muốn': 1, 'Việt': 4, 'Nam': 5, 'thanh': 1, 'thiếu': 1, 'niên': 1, 'cần': 3, 'nâng': 1, 'cao': 3, 'ý': 1, 'thức': 4, 'pháp': 1, 'Từ': 1, 'chia': 2, 'sẻ': 3, 'những': 5, 'trải': 2, 'nghiệm': 2, 'mình': 2, 'thay': 2, 'đổi': 2, 'nhận': 5, 'Chúng': 1, 'tôi': 1, 'hy': 1, 'vọng': 1, 'sẽ': 3, 'lực': 3, 'cống': 1, 'hiến': 1, 'tay': 5, 'đẩy': 2, 'lùi': 2, 'Mỗi': 1, 'hãy': 2, 'một': 1, 'sỹ': 3, 'trên': 3, 'mặt': 2, 'trận': 1, 'Đoàn': 1, 'lòng': 1, 'chúng': 1, 'ta': 1, 'thắng': 2, 'này': 1, 'Trong': 1, '1': 2, 'đã': 4, 'đạt': 1, 'tích': 1, 'cực': 1, 'được': 3, 'thế': 2, 'giới': 1, 'công': 3, 'đánh': 1, 'giá': 1, 'Tuy': 1, 'nhiên': 1, 'sau': 2, '99': 1, 'ngày': 3, 'không': 2, 'ca': 6, 'mắc': 4, '25/7/2020': 1, 'ghi': 2, 'đầu': 1, 'tiên': 2, 'lây': 3, 'nhiễm': 2, 'tại': 4, 'Đà': 1, 'Nẵng': 1, 'thêm': 1, 'nhiều': 3, 'Quảng': 2, 'Ngãi': 1, 'Đắk': 1, 'Lắk': 1, 'Hà': 1, 'Nội': 1, 'Thành': 1, 'phố': 1, 'Hồ': 1, 'Chí': 1, 'Minh': 1, 'địa': 2, 'phương': 2, 'khác': 3, 'thấy': 1, 'nguy': 2, 'cơ': 4, 'ra': 3, 'Với': 1, 'quan': 2, 'điểm': 1, 'chỉ': 2, 'đạo': 1, 'Đảng': 1, 'Chính': 1, 'phủ': 1, '“mục': 1, 'tiêu': 1, 'kép”': 1, 'ưu': 1, 'kiểm': 1, 'soát': 1, 'ngăn': 1, 'chặn': 1, 'tiếp': 2, 'tục': 1, 'giữ': 1, 'vững': 1, 'ổn': 1, 'định': 1, 'chính': 2, 'quyền': 1, 'cấp': 1, 'ngành': 1, 'toàn': 1, 'bộ': 1, 'hệ': 1, 'thống': 1, 'trị': 2, 'đang': 1, 'nỗ': 1, 'khống': 1, 'chế': 1, 'Hơn': 1, 'lúc': 1, 'nào': 1, 'hết': 1, 'sự': 3, 'ủng': 1, 'hộ': 1, 'đại': 1, 'do': 1, 'phối': 1, '8': 2, 'đơn': 1, 'vị': 1, 'từ': 3, '30/9/2020': 1, 'hoạt': 2, 'phong': 1, 'phú': 1, 'như:': 1, 'Chương': 2, 'trình': 2, 'đối': 2, 'thoại': 1, 'nhà': 3, 'lý': 3, 'chuyên': 1, 'gia': 4, 'tầm': 2, 'ảnh': 2, 'hưởng': 2, 'về': 2, 'chuẩn': 1, 'hình': 2, 'thành': 1, 'mới;': 1, 'Khuyến': 1, 'khích': 1, 'tham': 2, 'Thử': 1, 'thách': 1, '“Bạn': 1, 'như': 2, 'nào?”chia': 1, 'tinh': 1, 'thần': 1, 'lạc': 1, 'qua': 1, 'đàn': 1, 'mạng': 1, 'tế)': 1, 'nền': 1, 'tảng': 1, 'App': 1, 'ứng': 3, 'dụng': 3, 'hỗ': 2, 'trợ': 2, 'Sự': 1, 'hàng': 1, 'trăm': 1, 'nghệ': 1, 'viên': 1, 'hoa': 1, 'hậu': 1, 'cầu': 1, 'thủ': 1, 'dự': 1, 'án': 1, 'vì': 1, '…': 2, 'thể': 2, 'nhau': 1, 'show': 1, 'nhạc': 2, 'trực': 3, 'tuyến': 3, 'MV': 1, 'Vững': 1, 'Cuộc': 1, 'thi': 1, 'Rapper': 1, 'Game': 1, 'giao': 2, 'lưu': 1, 'ký': 1, 'bài': 1, 'viết': 1, 'video': 1, 'cụ': 1, 'thể:': 1, 'Thường': 1, 'xuyên': 2, 'rửa': 2, 'đúng': 1, 'cách': 3, 'bằng': 3, 'xà': 1, 'dưới': 1, 'vòi': 1, 'nước': 1, 'sạch': 1, 'hoặc': 3, 'dung': 1, 'sát': 1, 'khuẩn': 1, 'cồn': 1, '(ít': 1, 'nhất': 2, '60%': 1, 'cồn)': 1, '2': 1, 'Đeo': 1, 'khẩu': 2, 'trang': 2, 'khi': 2, 'ngoài': 1, 'nơi': 1, 'tiện': 1, 'sở': 2, 'y': 4, '3': 1, 'Tránh': 1, 'đưa': 1, 'lên': 1, 'mắt': 1, 'mũi': 2, 'miệng': 2, 'Che': 1, 'ho': 2, 'hắt': 2, 'hơi': 2, 'khăn': 2, 'giấy': 1, 'vải': 1, 'khuỷu': 1, 'áo': 1, '4': 1, 'Tăng': 1, 'cường': 1, 'vận': 1, 'rèn': 1, 'luyện': 1, 'dinh': 1, 'dưỡng': 1, 'lành': 1, 'mạnh': 1, '5': 1, 'Vệ': 1, 'sinh': 1, 'thoáng': 1, 'cửa': 1, 'lau': 1, 'bề': 1, 'hay': 1, 'xúc': 1, '6': 1, 'Nếu': 2, 'bạn': 2, 'dấu': 1, 'sốt': 1, 'khó': 1, 'thở': 1, 'tự': 2, 'ly': 2, 'đeo': 1, 'gần': 1, 'tư': 1, 'vấn': 1, 'khám': 1, 'điều': 1, '7': 1, 'vùng': 1, 'trở': 1, 'theo': 1, 'dõi': 1, 'khai': 2, 'báo': 3, 'Thực': 1, 'website': 1, 'https://tokhaiyte': 1, 'vn': 2, 'tải': 1, 'NCOVI': 1, 'https://ncovi': 1, 'cập': 1, 'nhật': 1, 'tình': 1, 'khoẻ': 1, 'bản': 2, 'thân': 2, '9': 1, 'Cài': 1, 'đặt': 1, 'Bluezone': 1, 'cảnh': 1, 'giúp': 1, 'bảo': 1, 'vệ': 1, 'đình': 1, 'https://www': 1, 'bluezone': 1, 'gov': 1, 'vn/': 1, 'Cùng': 1, 'kỳ': 1, 'thị': 1, 'phân': 1, 'xử': 1, 'nghi': 1, 'ngờ': 1, '/': 1}\n"
     ]
    }
   ],
   "source": [
    "if __name__ == '__main__':\n",
    "    text = '''\n",
    "            Bộ Y tế phát động Chiến dịch truyền thông “Niềm tin chiến thắng”\n",
    "            07/08/2020 | 11:58 AM |  \n",
    "\n",
    "            Ngày 06/8/2020, Bộ Y tế phát động chiến dịch truyền thông lan tỏa thông điệp “Niềm tin chiến thắng” kêu gọi cộng đồng phòng, chống dịch bệnh COVID-19 trong trạng thái bình thường mới. Chiến dịch truyền thông nhằm kêu gọi mọi tầng lớp người dân cùng thực hiện đầy đủ các biện phòng, chống dịch bệnh và xây dựng lối sống phù hợp, tạo thói quen có lợi sức khỏe để chung sống với dịch, thiết lập cuộc sống bình thường trong trạng thái mới, vừa chống dịch hiệu quả, vừa khôi phục và phát triển kinh tế. Bên cạnh đó, truyền đi thông điệp đoàn kết, kêu gọi hành động, lan tỏa yêu thương đến cộng đồng, đặc biệt là nhóm người dễ bị tổn thương trong xã hội đồng tâm hiệp sức chống dịch.\n",
    "\n",
    "            GS. TS.Nguyễn Thanh Long, Quyền Bộ trưởng Bộ Y tế cho biết: Đây là chiến dịch truyền thông phòng, chống dịch bệnh COVID-19 phù hợp với diễn biến của dịch bệnh trong giai đoạn mới. Bộ Y tế mong muốn kêu gọi mọi người dân Việt Nam, đặc biệt là thanh thiếu niên cần nâng cao ý thức, thực hiện đầy đủ các biện pháp phòng, chống dịch COVID-19. Từ đó, chia sẻ những trải nghiệm của mình để thay đổi nhận thức và thói quen có lợi cho sức khỏe, xây dựng cuộc sống bình thường trong trạng thái mới. Chúng tôi hy vọng, chiến dịch sẽ tạo động lực để mọi người cống hiến, chia sẻ và lan tỏa yêu thương đến mọi tầng lớp chung tay đẩy lùi dịch bệnh. Mỗi người dân hãy là một chiến sỹ trên mặt trận phòng, chống dịch bệnh. Đoàn kết, đồng lòng chúng ta sẽ chiến thắng dịch bệnh này.\n",
    "\n",
    "            Trong giai đoạn 1 chống dịch COVID-19, Việt Nam đã đạt những kết quả tích cực được thế giới công nhận và đánh giá cao. Tuy nhiên, sau 99 ngày không có ca mắc COVID-19, ngày 25/7/2020, Việt Nam ghi nhận ca đầu tiên lây nhiễm trong cộng đồng tại Đà Nẵng và sau đó đã ghi nhận thêm nhiều ca mắc mới tại Quảng Ngãi, Quảng Nam, Đắk Lắk, Hà Nội, Thành phố Hồ Chí Minh và các địa phương khác, cho thấy dịch bệnh có nguy cơ cao lây lan ra cộng đồng. Với quan điểm chỉ đạo của Đảng, Chính phủ thực hiện “mục tiêu kép”, vừa ưu tiên kiểm soát, ngăn chặn dịch bệnh COVID-19, vừa tiếp tục giữ vững ổn định kinh tế xã hội, chính quyền các cấp, ngành Y tế và toàn bộ hệ thống chính trị đã và đang nỗ lực để khống chế dịch bệnh. Hơn lúc nào hết, cần sự đoàn kết, ủng hộ của các tầng lớp trong xã hội để chung sức chiến thắng đại dịch COVID-19.\n",
    "\n",
    "            Chiến dịch do Bộ Y tế phối hợp cùng 8 đơn vị đồng hành sẽ diễn ra từ ngày 06/8/2020 đến 30/9/2020, với nhiều hoạt động phong phú như: Chương trình đối thoại với các nhà tâm lý, chuyên gia, những người có tầm ảnh hưởng trong xã hội về thay đổi nhận thức, chuẩn bị tâm lý, hình thành thói quen mới trong cuộc sống để chung sống với dịch bệnh, thiết lập cuộc sống trong trạng thái mới; Khuyến khích mọi người dân tham gia Thử thách “Bạn đã chống dịch như thế nào?”chia sẻ trải nghiệm, tinh thần lạc quan chống dịch của mình thông qua các diễn đàn trên mạng xã hội của Bộ Y tế) và các nền tảng truyền thông, App ứng dụng khác.\n",
    "\n",
    "            Chương trình có sự hỗ trợ của Sự hỗ trợ, đồng hành của hàng trăm nghệ sỹ, ca sỹ, diễn viên, hoa hậu, cầu thủ, những người có tầm ảnh hưởng trong xã hội truyền đi thông điệp phòng, chống dịch bệnh, tham gia các hoạt động xã hội, các dự án vì cộng đồng,… với nhiều hình thức thể hiện khác nhau như show ca nhạc trực tuyến, MV ca nhạc Vững tin Việt Nam, Cuộc thi Rapper, Game, giao lưu trực tuyến, ký sự, bài viết, video,…\n",
    "\n",
    "            Chiến dịch truyền thông “Niềm tin chiến thắng” cùng thực hiện những hành động cụ thể:\n",
    "\n",
    "            1. Thường xuyên rửa tay đúng cách bằng xà phòng dưới vòi nước sạch, hoặc bằng dung dịch sát khuẩn có cồn (ít nhất 60% cồn).\n",
    "\n",
    "            2. Đeo khẩu trang khi ra ngoài, đến nơi công cộng, trên phương tiện giao thông công cộng và đến cơ sở y tế.\n",
    "\n",
    "            3. Tránh đưa tay lên mắt, mũi, miệng. Che miệng và mũi khi ho hoặc hắt hơi bằng khăn giấy, khăn vải, khuỷu tay áo.\n",
    "\n",
    "            4. Tăng cường vận động, rèn luyện thể lực, dinh dưỡng hợp lý xây dựng lối sống lành mạnh.\n",
    "\n",
    "            5. Vệ sinh thông thoáng nhà cửa, lau rửa các bề mặt hay tiếp xúc.\n",
    "\n",
    "            6. Nếu bạn có dấu hiệu sốt, ho, hắt hơi, và khó thở, hãy tự cách ly tại nhà, đeo khẩu trang và gọi cho cơ sở y tế gần nhất để được tư vấn, khám và điều trị.\n",
    "\n",
    "            7. Nếu bạn từ vùng có dịch bệnh trở về cần tự cách ly, theo dõi sức khỏe, khai báo y tế đầy đủ.\n",
    "\n",
    "            8. Thực hiện khai báo y tế trực tuyến tại website https://tokhaiyte.vn hoặc tải ứng dụng NCOVI từ địa chỉ https://ncovi.vn và thường xuyên cập nhật tình trạng sức khoẻ của bản thân.\n",
    "\n",
    "            9. Cài đặt ứng dụng Bluezone để được cảnh báo nguy cơ lây nhiễm COVID-19, giúp bảo vệ bản thân và gia đình. https://www.bluezone.gov.vn/\n",
    "\n",
    "            Cùng chung tay đẩy lùi dịch bệnh, không kỳ thị và phân biệt đối xử với người mắc và người nghi ngờ mắc bệnh./.\n",
    "            '''\n",
    "    \n",
    "    freq = freq_token(text)\n",
    "    print(freq)"
   ]
  },
  {
   "cell_type": "code",
   "execution_count": null,
   "metadata": {},
   "outputs": [],
   "source": []
  },
  {
   "cell_type": "code",
   "execution_count": null,
   "metadata": {},
   "outputs": [],
   "source": []
  }
 ],
 "metadata": {
  "kernelspec": {
   "display_name": "Python 3.8.2 64-bit",
   "language": "python",
   "name": "python38264bit9daf360dec88400b8df0b209562a48c0"
  },
  "language_info": {
   "codemirror_mode": {
    "name": "ipython",
    "version": 3
   },
   "file_extension": ".py",
   "mimetype": "text/x-python",
   "name": "python",
   "nbconvert_exporter": "python",
   "pygments_lexer": "ipython3",
   "version": "3.8.2"
  }
 },
 "nbformat": 4,
 "nbformat_minor": 4
}
