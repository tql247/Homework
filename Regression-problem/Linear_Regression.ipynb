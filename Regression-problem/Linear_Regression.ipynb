{
 "cells": [
  {
   "cell_type": "code",
   "execution_count": 1,
   "metadata": {},
   "outputs": [],
   "source": [
    "import matplotlib.pyplot as plt"
   ]
  },
  {
   "cell_type": "code",
   "execution_count": 2,
   "metadata": {},
   "outputs": [],
   "source": [
    "def load_data(filename):\n",
    "    return [[float(j) for j in i.split(',')] for i in open(filename, 'r').read().split('\\n')]"
   ]
  },
  {
   "cell_type": "code",
   "execution_count": 3,
   "metadata": {},
   "outputs": [],
   "source": [
    "def cost_f(ls_theta):\n",
    "    '''\n",
    "        Return average of error predict y = θ_0 + θ_1*x_1 + θ_2*x_2 + ... + θ_n*x_n \n",
    "    '''\n",
    "    sum_error = 0.0\n",
    "    for data_i in data:\n",
    "        predict_value = ls_theta[0]\n",
    "        for i in range(data_i.__len__() - 1):\n",
    "            predict_value += data_i[i]*ls_theta[i + 1]\n",
    "            \n",
    "        sum_error += abs(predict_value - data_i[-1])\n",
    "        \n",
    "    return sum_error/data.__len__()"
   ]
  },
  {
   "cell_type": "code",
   "execution_count": 4,
   "metadata": {},
   "outputs": [],
   "source": [
    "def sum_subs_fx_theta(ls_theta, idx):\n",
    "    '''\n",
    "       ls_theta: list\n",
    "       idx: int, idx of theta_i in ls_theta\n",
    "       Calculate:\n",
    "           1/m  Σ(θ_0 + θ_1*x_1_i θ_2*x_2_i + ... + θ_n*x_n_i - y_i)\n",
    "    '''\n",
    "    sum_subs = 0.0\n",
    "    for data_i in data:\n",
    "        sum_subs_tmp = ls_theta[0]\n",
    "        for i in range(data_i.__len__() - 1):\n",
    "            sum_subs_tmp += ls_theta[i + 1]*data_i[i]\n",
    "            \n",
    "        sum_subs_tmp -= data_i[-1]\n",
    "        \n",
    "        if idx > 0:\n",
    "            sum_subs_tmp *= data_i[idx - 1]\n",
    "        sum_subs += sum_subs_tmp\n",
    "        \n",
    "    return sum_subs"
   ]
  },
  {
   "cell_type": "code",
   "execution_count": 5,
   "metadata": {},
   "outputs": [],
   "source": [
    "def grad(ls_theta):\n",
    "    '''\n",
    "        Calculate derivative of J(θ_0, θ_1) = 1/2m * Σ(θ_0 + θ_1*x_i - y_i)^2. With i:= 0-> m.\n",
    "        In this:\n",
    "        (∂*J)/(∂*θ_0) = 1/m  Σ(θ_0 + θ_1*x_i - y_i)\n",
    "        (∂*J)/(∂*θ_1) = 1/m  Σ[x_i*(θ_0 + θ_1*x_i - y_i)]\n",
    "            * Note:\n",
    "                data = [[x_1, y_1], [x_2, y_2],...[x_i, y_i],...[x_m, y_m]]\n",
    "    '''\n",
    "    return [sum_subs_fx_theta(ls_theta, i)/data.__len__() for i in range(ls_theta.__len__())]"
   ]
  },
  {
   "cell_type": "code",
   "execution_count": 6,
   "metadata": {},
   "outputs": [],
   "source": [
    "def gradient_descent(ls_theta):\n",
    "    '''\n",
    "        theta_0, theta_1: some initial input to start adjust bit by bit\n",
    "        return: theta_0, theta_1 after adjust\n",
    "    '''\n",
    "    crr_cost = cost_f(ls_theta)\n",
    "    for loop in range(1000):\n",
    "        descent_number = [alpha*theta_i for theta_i in grad(ls_theta)]\n",
    "        new_ls_theta = [ls_theta[i] - descent_number[i] for i in range(ls_theta.__len__())]\n",
    "\n",
    "#         if cost_f(ls_theta) > crr_cost:\n",
    "#             break\n",
    "\n",
    "        ls_theta = new_ls_theta\n",
    "        crr_cost = cost_f(ls_theta)\n",
    "    return ls_theta"
   ]
  },
  {
   "cell_type": "markdown",
   "metadata": {},
   "source": [
    "## For graph"
   ]
  },
  {
   "cell_type": "code",
   "execution_count": 7,
   "metadata": {},
   "outputs": [],
   "source": [
    "def get_min_max_value():\n",
    "    min_value = [100000.0 for num in range(data[0].__len__() - 1)]\n",
    "    max_value = [-100000.0 for num in range(data[0].__len__() - 1)]\n",
    "    for data_i in data:\n",
    "        for i in range(data_i.__len__() - 1):\n",
    "            if min_value[i] > data_i[i]:\n",
    "                min_value[i] = data_i[i]\n",
    "            if max_value[i] < data_i[i]:\n",
    "                max_value[i] = data_i[i]\n",
    "    return min_value, max_value"
   ]
  },
  {
   "cell_type": "code",
   "execution_count": 8,
   "metadata": {},
   "outputs": [],
   "source": [
    "def get_point(ls_theta):\n",
    "    min_value, max_value = get_min_max_value()\n",
    "    x = [min_value[0], max_value[0]]\n",
    "    y = [ls_theta[1]*x[0] + ls_theta[0], ls_theta[1]*x[1] + ls_theta[0]]\n",
    "    return x, y"
   ]
  },
  {
   "cell_type": "code",
   "execution_count": 9,
   "metadata": {},
   "outputs": [],
   "source": [
    "def show_graph(ls_theta):\n",
    "\n",
    "#     Draw point\n",
    "    x_point = [data_i[0] for data_i in data] \n",
    "    y_point = [data_i[1] for data_i in data]  \n",
    "    plt.scatter(x_point, y_point, label='some real value', color= \"red\", marker= \"x\", s=10)\n",
    "    \n",
    "#     Draw line\n",
    "    x_line, y_line = get_point(ls_theta)\n",
    "    plt.plot(x_line, y_line, label='predict line', linewidth=2)\n",
    "\n",
    "#     Set frame\n",
    "#     plt.ylim(0,8) \n",
    "#     plt.xlim(0,8)\n",
    "\n",
    "    plt.xlabel('x - axis') \n",
    "    plt.ylabel('y - axis')\n",
    "    plt.title('Linear regression!')\n",
    "    plt.legend()\n",
    "\n",
    "    plt.show() "
   ]
  },
  {
   "cell_type": "markdown",
   "metadata": {},
   "source": [
    "# Main"
   ]
  },
  {
   "cell_type": "code",
   "execution_count": 16,
   "metadata": {},
   "outputs": [
    {
     "data": {
      "image/png": "[encoded data removed]",
      "text/plain": [
       "<Figure size 432x288 with 1 Axes>"
      ]
     },
     "metadata": {
      "needs_background": "light"
     },
     "output_type": "display_data"
    }
   ],
   "source": [
    "alpha = 0.015\n",
    "data = list()\n",
    "\n",
    "def main():\n",
    "    global data\n",
    "    data = load_data('ex1data1.txt')\n",
    "\n",
    "    average = sum([sum([i for i in data_i])/len(data_i) for data_i in data[:-1]])/len(data)\n",
    "    ls_theta = [average for i in range(data[0].__len__())]\n",
    "    ls_theta = gradient_descent(ls_theta)\n",
    "    if len(data[0]) == 2:\n",
    "        show_graph(ls_theta)\n",
    "    \n",
    "    \n",
    "if __name__ == '__main__':\n",
    "    main()"
   ]
  },
  {
   "cell_type": "code",
   "execution_count": null,
   "metadata": {},
   "outputs": [],
   "source": []
  }
 ],
 "metadata": {
  "kernelspec": {
   "display_name": "Python 3",
   "language": "python",
   "name": "python3"
  },
  "language_info": {
   "codemirror_mode": {
    "name": "ipython",
    "version": 3
   },
   "file_extension": ".py",
   "mimetype": "text/x-python",
   "name": "python",
   "nbconvert_exporter": "python",
   "pygments_lexer": "ipython3",
   "version": "3.7.4"
  }
 },
 "nbformat": 4,
 "nbformat_minor": 2
}
