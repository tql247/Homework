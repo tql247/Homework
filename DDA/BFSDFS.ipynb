{
 "cells": [
  {
   "cell_type": "code",
   "execution_count": 1,
   "metadata": {
    "collapsed": true
   },
   "outputs": [],
   "source": [
    "def DFS(graph, vs, begin):\n",
    "    print(begin, end=\" \")\n",
    "    vs[begin] = True\n",
    "    for i in range(len(graph)):\n",
    "        if graph[begin][i] != 0 and vs[i] == False:\n",
    "            DFS(graph, vs, i)"
   ]
  },
  {
   "cell_type": "code",
   "execution_count": 2,
   "metadata": {
    "collapsed": true
   },
   "outputs": [],
   "source": [
    "def BFS(graph, start_point):\n",
    "    vs = [False]*graph.__len__()\n",
    "    Q = [start_point]\n",
    "    vs[0] = True\n",
    "    \n",
    "    while Q.__len__() != 0:\n",
    "        curr_point = Q[0]\n",
    "        Q.remove(curr_point)\n",
    "        print(curr_point, end=\" \")\n",
    "        for j in range(len(graph)):\n",
    "            if graph[curr_point][j] != 0 and vs[j] == False:\n",
    "                vs[j] = True\n",
    "                Q.append(j)"
   ]
  },
  {
   "cell_type": "code",
   "execution_count": 3,
   "metadata": {
    "collapsed": true
   },
   "outputs": [],
   "source": [
    "def adjacent_to_weight(matrix):\n",
    "    result = [[0 for i in range(matrix[-1][0] + 2)] for j in range(matrix[-1][0] + 2)]\n",
    "    for i in matrix:\n",
    "        result[i[0]][i[1]] = i[2]\n",
    "        result[i[1]][i[0]] = i[2]\n",
    "    return result"
   ]
  },
  {
   "cell_type": "code",
   "execution_count": 4,
   "metadata": {},
   "outputs": [
    {
     "name": "stdout",
     "output_type": "stream",
     "text": [
      "0 1 2 3 4 5 \n",
      "0 1 2 4 5 3 "
     ]
    }
   ],
   "source": [
    "matrix = [[0, 1, 1],\n",
    "          [0, 2, 3],\n",
    "          [1, 2, 4],\n",
    "          [1, 3, 2],\n",
    "          [2, 4, 2],\n",
    "          [2, 5, 1],\n",
    "          [3, 5, 2],\n",
    "          [4, 5, 2]]\n",
    "\n",
    "graph = adjacent_to_weight(matrix)\n",
    "BFS(graph, 0)\n",
    "print()\n",
    "DFS(graph, [False]*len(graph),0)"
   ]
  },
  {
   "cell_type": "code",
   "execution_count": null,
   "metadata": {
    "collapsed": true
   },
   "outputs": [],
   "source": []
  }
 ],
 "metadata": {
  "kernelspec": {
   "display_name": "Python 3",
   "language": "python",
   "name": "python3"
  },
  "language_info": {
   "codemirror_mode": {
    "name": "ipython",
    "version": 3
   },
   "file_extension": ".py",
   "mimetype": "text/x-python",
   "name": "python",
   "nbconvert_exporter": "python",
   "pygments_lexer": "ipython3",
   "version": "3.6.3"
  }
 },
 "nbformat": 4,
 "nbformat_minor": 2
}
