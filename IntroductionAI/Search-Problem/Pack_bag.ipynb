{
 "cells": [
  {
   "cell_type": "code",
   "execution_count": 77,
   "metadata": {},
   "outputs": [],
   "source": [
    "def sum_weight(bag):\n",
    "    sum_w = 0\n",
    "    for i in bag:\n",
    "        sum_w += weight_in_brick[i]\n",
    "    return sum_w\n",
    "\n",
    "def sum_dollar(bag):\n",
    "    sum_d = 0\n",
    "    for i in bag:\n",
    "        sum_d += dollar_in_brick[i]\n",
    "    return sum_d\n",
    "\n",
    "def get_best(fringe):\n",
    "    best_bag = fringe[0]\n",
    "    \n",
    "    for i in fringe[1:]:\n",
    "        if sum_weight(best_bag) >= sum_weight(i) and sum_dollar(best_bag) <= sum_dollar(i):\n",
    "            best_bag = i\n",
    "    \n",
    "    return best_bag\n",
    "\n",
    "def expand(fringe, bag, brick):\n",
    "    tmp = bag\n",
    "    for i in brick:\n",
    "        if sum_weight(bag) + weight_in_brick[i] <= 15 and i not in bag:\n",
    "            tmp.append(i)\n",
    "            fringe.append(tmp)\n",
    "        tmp = bag\n",
    "    \n",
    "def hill_climbing(weight, brick):\n",
    "    fringe = list()\n",
    "    bag = list()\n",
    "    while True:\n",
    "        expand(fringe, bag, brick)\n",
    "        \n",
    "        if len(fringe) == 0:\n",
    "            return bag\n",
    "        \n",
    "        bag = get_best(fringe)\n",
    "        fringe = []"
   ]
  },
  {
   "cell_type": "code",
   "execution_count": 78,
   "metadata": {},
   "outputs": [
    {
     "data": {
      "text/plain": [
       "['yellow', 'orange', 'blue', 'brown']"
      ]
     },
     "execution_count": 78,
     "metadata": {},
     "output_type": "execute_result"
    }
   ],
   "source": [
    "brick = ['yellow', 'orange', 'blue', 'green', 'brown']\n",
    "weight_in_brick = {'yellow':4, 'orange':1, 'blue':2, 'green':12, 'brown': 1}\n",
    "dollar_in_brick = {'yellow':10, 'orange':1, 'blue':2, 'green':4, 'brown': 2}\n",
    "hill_climbing(15, brick)"
   ]
  },
  {
   "cell_type": "code",
   "execution_count": 68,
   "metadata": {},
   "outputs": [
    {
     "data": {
      "text/plain": [
       "['1', '2', '4']"
      ]
     },
     "execution_count": 68,
     "metadata": {},
     "output_type": "execute_result"
    }
   ],
   "source": [
    "item = ['1','2','3','4']\n",
    "weight_in_brick = {'1':2,'2':5,'3':10,'4':5}\n",
    "dollar_in_brick = {'1':20,'2':30, '3':50,'4':10}\n",
    "hill_climbing(15, item)"
   ]
  },
  {
   "cell_type": "code",
   "execution_count": null,
   "metadata": {},
   "outputs": [],
   "source": []
  }
 ],
 "metadata": {
  "kernelspec": {
   "display_name": "Python 3",
   "language": "python",
   "name": "python3"
  },
  "language_info": {
   "codemirror_mode": {
    "name": "ipython",
    "version": 3
   },
   "file_extension": ".py",
   "mimetype": "text/x-python",
   "name": "python",
   "nbconvert_exporter": "python",
   "pygments_lexer": "ipython3",
   "version": "3.7.4"
  }
 },
 "nbformat": 4,
 "nbformat_minor": 2
}
