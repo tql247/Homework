{
 "cells": [
  {
   "cell_type": "code",
   "execution_count": 34,
   "metadata": {},
   "outputs": [],
   "source": [
    "initial = [[1, 0, 5],\n",
    "           [3, 2, 4],\n",
    "           [6, 7, 8]]\n",
    "goal = [[0, 1, 2], \n",
    "        [3, 4, 5], \n",
    "        [6, 7, 8]]\n",
    "goal_dict = {0 : '0-0', 1 : '0-1', 2 : '0-2', \n",
    "             3 : '1-0', 4 : '1-1', 5 : '1-2',\n",
    "             6 : '2-0', 7 : '2-1', 8 : '2-2'}\n",
    "fringe = list()"
   ]
  },
  {
   "cell_type": "code",
   "execution_count": 35,
   "metadata": {},
   "outputs": [],
   "source": [
    "def g(item): # Mahattan\n",
    "    global goal_dict\n",
    "    sum_wrong = 0\n",
    "    for x in range(3):\n",
    "        for y in range(3):\n",
    "            xG = int(goal_dict[item[x][y]].split('-')[0])\n",
    "            yG = int(goal_dict[item[x][y]].split('-')[1])\n",
    "            sum_wrong += abs(xG - x) + abs(yG - y)\n",
    "    return sum_wrong"
   ]
  },
  {
   "cell_type": "code",
   "execution_count": 36,
   "metadata": {},
   "outputs": [],
   "source": [
    "def get_best(fringe):\n",
    "    item = [[]]\n",
    "    min_wrong = 10000\n",
    "    for element in fringe:\n",
    "        if min_wrong > g(element.get_item()) + element.get_step():\n",
    "            item = element\n",
    "            min_wrong = g(element.get_item()) + element.get_step()\n",
    "    \n",
    "    return item"
   ]
  },
  {
   "cell_type": "code",
   "execution_count": 37,
   "metadata": {},
   "outputs": [],
   "source": [
    "def blank_square(item):\n",
    "    for x in range(3):\n",
    "        for y in range(3):\n",
    "            if item[x][y] == 0:\n",
    "                return x, y\n",
    "\n",
    "def copy(item):\n",
    "    result = [list(item[0]), list(item[1]), list(item[2])]\n",
    "    return result        \n",
    "            \n",
    "def move(item, where):\n",
    "    x, y = blank_square(item)\n",
    "    if where == 'up' and x > 0:\n",
    "        item[x][y], item[x - 1][y] = item[x - 1][y], item[x][y]\n",
    "    elif where == 'down' and x < 2:\n",
    "        item[x][y], item[x + 1][y] = item[x + 1][y], item[x][y]\n",
    "    elif where == 'left' and y > 0:\n",
    "        item[x][y], item[x][y - 1] = item[x][y - 1], item[x][y]\n",
    "    elif where == 'right' and y < 2:\n",
    "        item[x][y], item[x][y + 1] = item[x][y + 1], item[x][y]\n",
    "    else:\n",
    "        return False\n",
    "    return True\n",
    "\n",
    "def display(item):\n",
    "    print('---------')\n",
    "    for x in range(3):\n",
    "        for y in range(3):\n",
    "            print(item[x][y], end=' ')\n",
    "        print()"
   ]
  },
  {
   "cell_type": "code",
   "execution_count": 38,
   "metadata": {},
   "outputs": [],
   "source": [
    "class Puzzle:\n",
    "    def __init__(self, item, step):\n",
    "        self.item = item\n",
    "        self.step = step\n",
    "        \n",
    "    def get_item(self):\n",
    "        return self.item\n",
    "    \n",
    "    def get_step(self):\n",
    "        return self.step\n",
    "    \n",
    "    def set_parent(self, parent):\n",
    "        self.parent = parent\n",
    "    \n",
    "    def get_parent(self):\n",
    "        return self.parent\n",
    "    \n",
    "    def display(self):\n",
    "        print('---------')\n",
    "        for x in range(3):\n",
    "            for y in range(3):\n",
    "                print(self.item[x][y], end=' ')\n",
    "            print()"
   ]
  },
  {
   "cell_type": "code",
   "execution_count": 39,
   "metadata": {},
   "outputs": [],
   "source": [
    "def BFS(initial, goal):\n",
    "    global fringe\n",
    "    \n",
    "    start = Puzzle(initial, 0)\n",
    "    start.set_parent(None)\n",
    "    \n",
    "    fringe.append(start)\n",
    "    \n",
    "    while len(fringe) > 0:\n",
    "#     for i in range(100):\n",
    "        item = get_best(fringe)\n",
    "        fringe.remove(item)\n",
    "\n",
    "        clone_item = copy(item.get_item())\n",
    "\n",
    "        if move(clone_item, 'up'):\n",
    "            new_instance = Puzzle(clone_item, item.get_step() + 1)\n",
    "            new_instance.set_parent(item)\n",
    "            \n",
    "            if new_instance.get_item() == goal:\n",
    "                return new_instance\n",
    "            \n",
    "            if new_instance not in fringe:\n",
    "                fringe.append(new_instance)\n",
    "            clone_item = copy(item.get_item())\n",
    "\n",
    "        if move(clone_item, 'down'):\n",
    "            new_instance = Puzzle(clone_item, item.get_step() + 1)\n",
    "            new_instance.set_parent(item)\n",
    "            \n",
    "            if new_instance.get_item() == goal:\n",
    "                return new_instance\n",
    "\n",
    "            if new_instance not in fringe:\n",
    "                fringe.append(new_instance)\n",
    "            clone_item = copy(item.get_item())\n",
    "\n",
    "        if move(clone_item, 'left'):\n",
    "            new_instance = Puzzle(clone_item, item.get_step() + 1)\n",
    "            new_instance.set_parent(item)\n",
    "            \n",
    "            if new_instance.get_item() == goal:\n",
    "                return new_instance\n",
    "\n",
    "            if new_instance not in fringe:\n",
    "                fringe.append(new_instance)\n",
    "            clone_item = copy(item.get_item())\n",
    "\n",
    "        if move(clone_item, 'right'):\n",
    "            new_instance = Puzzle(clone_item, item.get_step() + 1)\n",
    "            new_instance.set_parent(item)\n",
    "            \n",
    "            if new_instance.get_item() == goal:\n",
    "                return new_instance\n",
    "\n",
    "            if new_instance not in fringe:\n",
    "                fringe.append(new_instance)\n",
    "            clone_item = copy(item.get_item())"
   ]
  },
  {
   "cell_type": "code",
   "execution_count": 40,
   "metadata": {},
   "outputs": [],
   "source": [
    "def get_path(item):\n",
    "    global initial\n",
    "    \n",
    "    path = [item, ]\n",
    "    way = item.get_parent()\n",
    "    \n",
    "    while way.get_parent() != None:\n",
    "        path.append(way)\n",
    "        way = way.get_parent()\n",
    "    path.append(way)\n",
    "    \n",
    "    for i in reversed(path):\n",
    "        i.display()"
   ]
  },
  {
   "cell_type": "code",
   "execution_count": 41,
   "metadata": {},
   "outputs": [],
   "source": [
    "destination = BFS(initial, goal)"
   ]
  },
  {
   "cell_type": "code",
   "execution_count": 42,
   "metadata": {},
   "outputs": [
    {
     "data": {
      "text/plain": [
       "<__main__.Puzzle at 0xedec90>"
      ]
     },
     "execution_count": 42,
     "metadata": {},
     "output_type": "execute_result"
    }
   ],
   "source": [
    "destination"
   ]
  },
  {
   "cell_type": "code",
   "execution_count": 43,
   "metadata": {},
   "outputs": [
    {
     "name": "stdout",
     "output_type": "stream",
     "text": [
      "---------\n",
      "1 0 5 \n",
      "3 2 4 \n",
      "6 7 8 \n",
      "---------\n",
      "1 2 5 \n",
      "3 0 4 \n",
      "6 7 8 \n",
      "---------\n",
      "1 2 5 \n",
      "3 4 0 \n",
      "6 7 8 \n",
      "---------\n",
      "1 2 0 \n",
      "3 4 5 \n",
      "6 7 8 \n",
      "---------\n",
      "1 0 2 \n",
      "3 4 5 \n",
      "6 7 8 \n",
      "---------\n",
      "0 1 2 \n",
      "3 4 5 \n",
      "6 7 8 \n"
     ]
    }
   ],
   "source": [
    "get_path(destination)"
   ]
  },
  {
   "cell_type": "code",
   "execution_count": null,
   "metadata": {},
   "outputs": [],
   "source": []
  }
 ],
 "metadata": {
  "kernelspec": {
   "display_name": "Python 3",
   "language": "python",
   "name": "python3"
  },
  "language_info": {
   "codemirror_mode": {
    "name": "ipython",
    "version": 3
   },
   "file_extension": ".py",
   "mimetype": "text/x-python",
   "name": "python",
   "nbconvert_exporter": "python",
   "pygments_lexer": "ipython3",
   "version": "3.7.4"
  }
 },
 "nbformat": 4,
 "nbformat_minor": 2
}
