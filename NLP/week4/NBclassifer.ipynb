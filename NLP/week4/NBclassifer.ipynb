{
 "cells": [
  {
   "cell_type": "code",
   "execution_count": 54,
   "metadata": {},
   "outputs": [],
   "source": [
    "import re\n",
    "from dateutil.parser import parse"
   ]
  },
  {
   "cell_type": "code",
   "execution_count": 158,
   "metadata": {},
   "outputs": [],
   "source": [
    "class Token():\n",
    "    def __init__(self, val):\n",
    "        self.val = val\n",
    "        \n",
    "    def is_number(self):\n",
    "        if re.search(r'^\\d+$', self.val):\n",
    "            return True\n",
    "        return False\n",
    "        \n",
    "    def is_contain_digit (self):\n",
    "        if re.search(r'\\d', self.val):\n",
    "            return True\n",
    "        return False\n",
    "    \n",
    "    def is_date(self):\n",
    "        try: \n",
    "            parse(self.val, fuzzy=True)\n",
    "            return True\n",
    "        except ValueError:\n",
    "            return False"
   ]
  },
  {
   "cell_type": "code",
   "execution_count": 159,
   "metadata": {},
   "outputs": [],
   "source": [
    "def tokenize(sentence):\n",
    "    ls = []\n",
    "    sentence = re.sub(r'[.,]', ' ', sentence)\n",
    "    for word in re.split(r' +', sentence):\n",
    "        if word != '':\n",
    "            ls.append(Token(word))\n",
    "            \n",
    "    return ls"
   ]
  },
  {
   "cell_type": "code",
   "execution_count": 5,
   "metadata": {},
   "outputs": [],
   "source": [
    "import pandas as pd\n",
    "import numpy as np"
   ]
  },
  {
   "cell_type": "code",
   "execution_count": 162,
   "metadata": {},
   "outputs": [],
   "source": [
    "def bigram(sentences):\n",
    "    ls = []\n",
    "    \n",
    "    sentences = f'<s> {sentences} </s>'\n",
    "    sentences = tokenize(sentences)\n",
    "    for i in range(len(sentences) - 1):\n",
    "        word = sentences[i].val\n",
    "        word_i = sentences[i + 1].val\n",
    "        ls.append(f'{word}_{word_i}')\n",
    "    \n",
    "    return ls"
   ]
  },
  {
   "cell_type": "code",
   "execution_count": 67,
   "metadata": {},
   "outputs": [
    {
     "data": {
      "text/plain": [
       "747"
      ]
     },
     "execution_count": 67,
     "metadata": {},
     "output_type": "execute_result"
    }
   ],
   "source": [
    "def classifer(train_set, num_word = 1):\n",
    "    \n",
    "#     padding\n"
   ]
  },
  {
   "cell_type": "code",
   "execution_count": null,
   "metadata": {},
   "outputs": [],
   "source": [
    "def calc(train_set, test_set):\n",
    "#     label = data.label\n",
    "#     value = data.doc\n",
    "    num_spam = train_set.loc[train_set.label == \"spam\"].__len__()\n",
    "    \n",
    "    for test in test_set:\n",
    "        label = test_set.label\n",
    "        doc = test_set.value\n",
    "        \n",
    "        \n",
    "        \n",
    "        predict_unigram = classifer(train_set, doc)\n",
    "        predict_bigram = classifer(train_set, doc, num_word=2)\n",
    "    \n",
    "    \n",
    "#         valid(predict_unigram, label)\n",
    "#         valid(predict_bigram, label)"
   ]
  },
  {
   "cell_type": "code",
   "execution_count": 52,
   "metadata": {},
   "outputs": [],
   "source": [
    "from math import floor\n",
    "\n",
    "def data_loader(data, test=False, train_split=8, test_split=2):\n",
    "    '''\n",
    "        data: dataframe, contain labels and values\n",
    "        test: if true, split data to test if not\n",
    "        train_split, test_split: % split\n",
    "    '''\n",
    "    _len = data.__len__()\n",
    "    _split = floor(_len/10)*train_split\n",
    "    if test:\n",
    "        return data.iloc[_split:-1]\n",
    "\n",
    "    return data.iloc[0:_split]"
   ]
  },
  {
   "cell_type": "code",
   "execution_count": 53,
   "metadata": {},
   "outputs": [],
   "source": [
    "def load(file_name):\n",
    "    # TODO preprocess\n",
    "    file = pd.read_csv(file_name,encoding='ISO-8859-1')\n",
    "    data = pd.DataFrame({'label': file[file.columns[0]], 'doc': file[file.columns[1]]})\n",
    "    return data"
   ]
  },
  {
   "cell_type": "code",
   "execution_count": 60,
   "metadata": {},
   "outputs": [],
   "source": [
    "FILE_NAME = 'spam.csv'\n",
    "\n",
    "if __name__ == '__main__':\n",
    "    \n",
    "    data = load(FILE_NAME)\n",
    "    train_set = data_loader(data)\n",
    "    test_set = data_loader(data, test=True)\n",
    "\n",
    "#     calc(train_set, test_set)"
   ]
  },
  {
   "cell_type": "code",
   "execution_count": null,
   "metadata": {},
   "outputs": [],
   "source": []
  }
 ],
 "metadata": {
  "kernelspec": {
   "display_name": "Python 3",
   "language": "python",
   "name": "python3"
  },
  "language_info": {
   "codemirror_mode": {
    "name": "ipython",
    "version": 3
   },
   "file_extension": ".py",
   "mimetype": "text/x-python",
   "name": "python",
   "nbconvert_exporter": "python",
   "pygments_lexer": "ipython3",
   "version": "3.7.9"
  }
 },
 "nbformat": 4,
 "nbformat_minor": 4
}
