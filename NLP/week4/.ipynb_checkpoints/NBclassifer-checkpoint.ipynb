{
 "cells": [
  {
   "cell_type": "code",
   "execution_count": 54,
   "metadata": {},
   "outputs": [],
   "source": [
    "import re\n",
    "from dateutil.parser import parse"
   ]
  },
  {
   "cell_type": "code",
   "execution_count": 158,
   "metadata": {},
   "outputs": [],
   "source": [
    "class Token():\n",
    "    def __init__(self, val):\n",
    "        self.val = val\n",
    "        \n",
    "    def is_number(self):\n",
    "        if re.search(r'^\\d+$', self.val):\n",
    "            return True\n",
    "        return False\n",
    "        \n",
    "    def is_contain_digit (self):\n",
    "        if re.search(r'\\d', self.val):\n",
    "            return True\n",
    "        return False\n",
    "    \n",
    "    def is_date(self):\n",
    "        try: \n",
    "            parse(self.val, fuzzy=True)\n",
    "            return True\n",
    "        except ValueError:\n",
    "            return False"
   ]
  },
  {
   "cell_type": "code",
   "execution_count": 159,
   "metadata": {},
   "outputs": [],
   "source": [
    "def tokenize(sentence):\n",
    "    ls = []\n",
    "    sentence = re.sub(r'[.,]', ' ', sentence)\n",
    "    for word in re.split(r' +', sentence):\n",
    "        if word != '':\n",
    "            ls.append(Token(word))\n",
    "            \n",
    "    return ls"
   ]
  },
  {
   "cell_type": "code",
   "execution_count": 160,
   "metadata": {},
   "outputs": [],
   "source": [
    "def split_sentences(p):\n",
    "    ls = []\n",
    "    for s in re.split(r'\\n+',p):\n",
    "        if not re.match(r' +?$', s):\n",
    "            ls.append(s.strip())\n",
    "        \n",
    "    return ls"
   ]
  },
  {
   "cell_type": "code",
   "execution_count": 161,
   "metadata": {},
   "outputs": [],
   "source": [
    "def unigram(sentences):\n",
    "    ls = []\n",
    "    \n",
    "    sentences = tokenize(sentences)\n",
    "    for i in range(len(sentences)):\n",
    "        word = sentences[i].val\n",
    "        ls.append(f'{word}')\n",
    "    \n",
    "    return ls"
   ]
  },
  {
   "cell_type": "code",
   "execution_count": 162,
   "metadata": {},
   "outputs": [],
   "source": [
    "def bigram(sentences):\n",
    "    ls = []\n",
    "    \n",
    "    sentences = f'<s> {sentences} </s>'\n",
    "    sentences = tokenize(sentences)\n",
    "    for i in range(len(sentences) - 1):\n",
    "        word = sentences[i].val\n",
    "        word_i = sentences[i + 1].val\n",
    "        ls.append(f'{word}_{word_i}')\n",
    "    \n",
    "    return ls"
   ]
  },
  {
   "cell_type": "code",
   "execution_count": 163,
   "metadata": {},
   "outputs": [],
   "source": [
    "def trigram(sentences):\n",
    "    ls = []\n",
    "    \n",
    "    sentences = f'<s> <s> {sentences} </s> </s>'\n",
    "    sentences = tokenize(sentences)\n",
    "    \n",
    "    for i in range(len(sentences) - 2):\n",
    "        word = sentences[i].val\n",
    "        word_i = sentences[i + 1].val\n",
    "        word_ii = sentences[i + 2].val\n",
    "        ls.append(f'{word}_{word_i}_{word_ii}')\n",
    "    \n",
    "    return ls"
   ]
  },
  {
   "cell_type": "code",
   "execution_count": 234,
   "metadata": {},
   "outputs": [],
   "source": [
    "def make_n_gram_dict(data):\n",
    "    unigram_dict = {}\n",
    "    bigram_dict = {}\n",
    "    trigram_dict = {}\n",
    "    N = 0\n",
    "    V = 0\n",
    "    \n",
    "    num_sentences = 0\n",
    "    for sentences in split_sentences(data):\n",
    "        num_sentences += 1\n",
    "        \n",
    "        for n_gram in unigram(sentences):\n",
    "            N += 1\n",
    "            if n_gram in unigram_dict:\n",
    "                unigram_dict[n_gram] += 1\n",
    "            else:\n",
    "                unigram_dict[n_gram] = 1\n",
    "                V += 1\n",
    "        \n",
    "        for n_gram in bigram(sentences):\n",
    "            if n_gram in bigram_dict:\n",
    "                bigram_dict[n_gram] += 1\n",
    "            else:\n",
    "                bigram_dict[n_gram] = 1\n",
    "                \n",
    "        for n_gram in trigram(sentences):\n",
    "            if n_gram in trigram_dict:\n",
    "                trigram_dict[n_gram] += 1\n",
    "            else:\n",
    "                trigram_dict[n_gram] = 1\n",
    "    \n",
    "    unigram_dict['</s>'] = num_sentences\n",
    "    return N, V, unigram_dict, bigram_dict, trigram_dict"
   ]
  },
  {
   "cell_type": "code",
   "execution_count": 5,
   "metadata": {},
   "outputs": [],
   "source": [
    "import pandas as pd\n",
    "import numpy as np"
   ]
  },
  {
   "cell_type": "code",
   "execution_count": 26,
   "metadata": {},
   "outputs": [
    {
     "data": {
      "text/html": [
       "<div>\n",
       "<style scoped>\n",
       "    .dataframe tbody tr th:only-of-type {\n",
       "        vertical-align: middle;\n",
       "    }\n",
       "\n",
       "    .dataframe tbody tr th {\n",
       "        vertical-align: top;\n",
       "    }\n",
       "\n",
       "    .dataframe thead th {\n",
       "        text-align: right;\n",
       "    }\n",
       "</style>\n",
       "<table border=\"1\" class=\"dataframe\">\n",
       "  <thead>\n",
       "    <tr style=\"text-align: right;\">\n",
       "      <th></th>\n",
       "      <th>label</th>\n",
       "      <th>doc</th>\n",
       "    </tr>\n",
       "  </thead>\n",
       "  <tbody>\n",
       "    <tr>\n",
       "      <th>0</th>\n",
       "      <td>ham</td>\n",
       "      <td>Go until jurong point, crazy.. Available only ...</td>\n",
       "    </tr>\n",
       "    <tr>\n",
       "      <th>1</th>\n",
       "      <td>ham</td>\n",
       "      <td>Ok lar... Joking wif u oni...</td>\n",
       "    </tr>\n",
       "    <tr>\n",
       "      <th>2</th>\n",
       "      <td>spam</td>\n",
       "      <td>Free entry in 2 a wkly comp to win FA Cup fina...</td>\n",
       "    </tr>\n",
       "    <tr>\n",
       "      <th>3</th>\n",
       "      <td>ham</td>\n",
       "      <td>U dun say so early hor... U c already then say...</td>\n",
       "    </tr>\n",
       "    <tr>\n",
       "      <th>4</th>\n",
       "      <td>ham</td>\n",
       "      <td>Nah I don't think he goes to usf, he lives aro...</td>\n",
       "    </tr>\n",
       "    <tr>\n",
       "      <th>...</th>\n",
       "      <td>...</td>\n",
       "      <td>...</td>\n",
       "    </tr>\n",
       "    <tr>\n",
       "      <th>5567</th>\n",
       "      <td>spam</td>\n",
       "      <td>This is the 2nd time we have tried 2 contact u...</td>\n",
       "    </tr>\n",
       "    <tr>\n",
       "      <th>5568</th>\n",
       "      <td>ham</td>\n",
       "      <td>Will Ì_ b going to esplanade fr home?</td>\n",
       "    </tr>\n",
       "    <tr>\n",
       "      <th>5569</th>\n",
       "      <td>ham</td>\n",
       "      <td>Pity, * was in mood for that. So...any other s...</td>\n",
       "    </tr>\n",
       "    <tr>\n",
       "      <th>5570</th>\n",
       "      <td>ham</td>\n",
       "      <td>The guy did some bitching but I acted like i'd...</td>\n",
       "    </tr>\n",
       "    <tr>\n",
       "      <th>5571</th>\n",
       "      <td>ham</td>\n",
       "      <td>Rofl. Its true to its name</td>\n",
       "    </tr>\n",
       "  </tbody>\n",
       "</table>\n",
       "<p>5572 rows × 2 columns</p>\n",
       "</div>"
      ],
      "text/plain": [
       "     label                                                doc\n",
       "0      ham  Go until jurong point, crazy.. Available only ...\n",
       "1      ham                      Ok lar... Joking wif u oni...\n",
       "2     spam  Free entry in 2 a wkly comp to win FA Cup fina...\n",
       "3      ham  U dun say so early hor... U c already then say...\n",
       "4      ham  Nah I don't think he goes to usf, he lives aro...\n",
       "...    ...                                                ...\n",
       "5567  spam  This is the 2nd time we have tried 2 contact u...\n",
       "5568   ham              Will Ì_ b going to esplanade fr home?\n",
       "5569   ham  Pity, * was in mood for that. So...any other s...\n",
       "5570   ham  The guy did some bitching but I acted like i'd...\n",
       "5571   ham                         Rofl. Its true to its name\n",
       "\n",
       "[5572 rows x 2 columns]"
      ]
     },
     "execution_count": 26,
     "metadata": {},
     "output_type": "execute_result"
    }
   ],
   "source": [
    "data"
   ]
  },
  {
   "cell_type": "code",
   "execution_count": 39,
   "metadata": {},
   "outputs": [
    {
     "data": {
      "text/html": [
       "<div>\n",
       "<style scoped>\n",
       "    .dataframe tbody tr th:only-of-type {\n",
       "        vertical-align: middle;\n",
       "    }\n",
       "\n",
       "    .dataframe tbody tr th {\n",
       "        vertical-align: top;\n",
       "    }\n",
       "\n",
       "    .dataframe thead th {\n",
       "        text-align: right;\n",
       "    }\n",
       "</style>\n",
       "<table border=\"1\" class=\"dataframe\">\n",
       "  <thead>\n",
       "    <tr style=\"text-align: right;\">\n",
       "      <th></th>\n",
       "      <th>label</th>\n",
       "      <th>doc</th>\n",
       "    </tr>\n",
       "  </thead>\n",
       "  <tbody>\n",
       "    <tr>\n",
       "      <th>1</th>\n",
       "      <td>ham</td>\n",
       "      <td>Ok lar... Joking wif u oni...</td>\n",
       "    </tr>\n",
       "    <tr>\n",
       "      <th>2</th>\n",
       "      <td>spam</td>\n",
       "      <td>Free entry in 2 a wkly comp to win FA Cup fina...</td>\n",
       "    </tr>\n",
       "    <tr>\n",
       "      <th>3</th>\n",
       "      <td>ham</td>\n",
       "      <td>U dun say so early hor... U c already then say...</td>\n",
       "    </tr>\n",
       "    <tr>\n",
       "      <th>4</th>\n",
       "      <td>ham</td>\n",
       "      <td>Nah I don't think he goes to usf, he lives aro...</td>\n",
       "    </tr>\n",
       "    <tr>\n",
       "      <th>5</th>\n",
       "      <td>spam</td>\n",
       "      <td>FreeMsg Hey there darling it's been 3 week's n...</td>\n",
       "    </tr>\n",
       "    <tr>\n",
       "      <th>6</th>\n",
       "      <td>ham</td>\n",
       "      <td>Even my brother is not like to speak with me. ...</td>\n",
       "    </tr>\n",
       "    <tr>\n",
       "      <th>7</th>\n",
       "      <td>ham</td>\n",
       "      <td>As per your request 'Melle Melle (Oru Minnamin...</td>\n",
       "    </tr>\n",
       "    <tr>\n",
       "      <th>8</th>\n",
       "      <td>spam</td>\n",
       "      <td>WINNER!! As a valued network customer you have...</td>\n",
       "    </tr>\n",
       "    <tr>\n",
       "      <th>9</th>\n",
       "      <td>spam</td>\n",
       "      <td>Had your mobile 11 months or more? U R entitle...</td>\n",
       "    </tr>\n",
       "  </tbody>\n",
       "</table>\n",
       "</div>"
      ],
      "text/plain": [
       "  label                                                doc\n",
       "1   ham                      Ok lar... Joking wif u oni...\n",
       "2  spam  Free entry in 2 a wkly comp to win FA Cup fina...\n",
       "3   ham  U dun say so early hor... U c already then say...\n",
       "4   ham  Nah I don't think he goes to usf, he lives aro...\n",
       "5  spam  FreeMsg Hey there darling it's been 3 week's n...\n",
       "6   ham  Even my brother is not like to speak with me. ...\n",
       "7   ham  As per your request 'Melle Melle (Oru Minnamin...\n",
       "8  spam  WINNER!! As a valued network customer you have...\n",
       "9  spam  Had your mobile 11 months or more? U R entitle..."
      ]
     },
     "execution_count": 39,
     "metadata": {},
     "output_type": "execute_result"
    }
   ],
   "source": [
    "data.iloc[1:10]"
   ]
  },
  {
   "cell_type": "code",
   "execution_count": 67,
   "metadata": {},
   "outputs": [
    {
     "data": {
      "text/plain": [
       "747"
      ]
     },
     "execution_count": 67,
     "metadata": {},
     "output_type": "execute_result"
    }
   ],
   "source": [
    "def classifer(train_set, num_word = 1)"
   ]
  },
  {
   "cell_type": "code",
   "execution_count": null,
   "metadata": {},
   "outputs": [],
   "source": [
    "def calc(train_set, test_set):\n",
    "#     label = data.label\n",
    "#     value = data.doc\n",
    "    num_spam = train_set.loc[train_set.label == \"spam\"].__len__()\n",
    "    \n",
    "    for test in test_set:\n",
    "        label = test_set.label\n",
    "        doc = test_set.value\n",
    "        \n",
    "        \n",
    "        \n",
    "        predict_unigram = classifer(train_set, doc)\n",
    "        predict_bigram = classifer(train_set, doc, num_word=2)\n",
    "    \n",
    "    \n",
    "#         valid(predict_unigram, label)\n",
    "#         valid(predict_bigram, label)"
   ]
  },
  {
   "cell_type": "code",
   "execution_count": 52,
   "metadata": {},
   "outputs": [],
   "source": [
    "from math import floor\n",
    "\n",
    "def data_loader(data, test=False, train_split=8, test_split=2):\n",
    "    '''\n",
    "        data: dataframe, contain labels and values\n",
    "        test: if true, split data to test if not\n",
    "        train_split, test_split: % split\n",
    "    '''\n",
    "    _len = data.__len__()\n",
    "    _split = floor(_len/10)*train_split\n",
    "    if test:\n",
    "        return data.iloc[_split:-1]\n",
    "\n",
    "    return data.iloc[0:_split]"
   ]
  },
  {
   "cell_type": "code",
   "execution_count": 53,
   "metadata": {},
   "outputs": [],
   "source": [
    "def load(file_name):\n",
    "    # TODO preprocess\n",
    "    file = pd.read_csv(file_name,encoding='ISO-8859-1')\n",
    "    data = pd.DataFrame({'label': file[file.columns[0]], 'doc': file[file.columns[1]]})\n",
    "    return data"
   ]
  },
  {
   "cell_type": "code",
   "execution_count": 60,
   "metadata": {},
   "outputs": [],
   "source": [
    "FILE_NAME = 'spam.csv'\n",
    "\n",
    "if __name__ == '__main__':\n",
    "    \n",
    "    data = load(FILE_NAME)\n",
    "    train_set = data_loader(data)\n",
    "    test_set = data_loader(data, test=True)\n",
    "\n",
    "#     calc(train_set, test_set)"
   ]
  },
  {
   "cell_type": "code",
   "execution_count": null,
   "metadata": {},
   "outputs": [],
   "source": []
  }
 ],
 "metadata": {
  "kernelspec": {
   "display_name": "Python 3",
   "language": "python",
   "name": "python3"
  },
  "language_info": {
   "codemirror_mode": {
    "name": "ipython",
    "version": 3
   },
   "file_extension": ".py",
   "mimetype": "text/x-python",
   "name": "python",
   "nbconvert_exporter": "python",
   "pygments_lexer": "ipython3",
   "version": "3.7.9"
  }
 },
 "nbformat": 4,
 "nbformat_minor": 4
}
