{
 "cells": [
  {
   "cell_type": "code",
   "execution_count": 1,
   "metadata": {},
   "outputs": [],
   "source": [
    "data = [[]]\n",
    "min_sup = 0.3\n",
    "min_conf = 1\n",
    "ls_max_itemset = list()\n",
    "ls_assoc = list()"
   ]
  },
  {
   "cell_type": "code",
   "execution_count": 2,
   "metadata": {},
   "outputs": [],
   "source": [
    "def is_in_set(setA, setB):\n",
    "    for item in setA:\n",
    "        if item not in setB:\n",
    "            return False\n",
    "    return True"
   ]
  },
  {
   "cell_type": "code",
   "execution_count": 3,
   "metadata": {},
   "outputs": [],
   "source": [
    "def freq_of_set(setA):\n",
    "    freq_set = 0\n",
    "    for itemset in data:\n",
    "        freq_item = 0\n",
    "        for item in setA:\n",
    "            if item in itemset:\n",
    "                freq_item += 1\n",
    "        if freq_item == len(setA):\n",
    "            freq_set += 1\n",
    "    return freq_set"
   ]
  },
  {
   "cell_type": "code",
   "execution_count": 4,
   "metadata": {},
   "outputs": [],
   "source": [
    "def is_satisf_minsup(setA):\n",
    "    return freq_of_set(setA)/len(data) >= min_sup"
   ]
  },
  {
   "cell_type": "code",
   "execution_count": 5,
   "metadata": {},
   "outputs": [],
   "source": [
    "def can_make_newset(setA, setB):\n",
    "    if not is_satisf_minsup(setA) or not is_satisf_minsup(setB):\n",
    "        return None\n",
    "    \n",
    "    num_item = 0\n",
    "    add_item = list()\n",
    "    for item in setB:\n",
    "        if item in setA:\n",
    "            num_item += 1\n",
    "        else:\n",
    "            add_item.append(item)\n",
    "    if add_item.__len__() == 1 and is_satisf_minsup(setA + add_item):\n",
    "        return setA + add_item\n",
    "    return None"
   ]
  },
  {
   "cell_type": "code",
   "execution_count": 6,
   "metadata": {},
   "outputs": [],
   "source": [
    "def is_set_in_ls(setA, ls_itemset):\n",
    "    for itemset in ls_itemset:\n",
    "        if is_in_set(setA, itemset):\n",
    "            return True\n",
    "    return False"
   ]
  },
  {
   "cell_type": "code",
   "execution_count": 7,
   "metadata": {},
   "outputs": [],
   "source": [
    "def generation(ls_itemset):\n",
    "    new_ls_itemset = list()\n",
    "    for itemsetA in ls_itemset:\n",
    "        for itemsetB in ls_itemset[ls_itemset.index(itemsetA):]:\n",
    "            new_set = can_make_newset(itemsetA, itemsetB) \n",
    "            if new_set != None and not is_set_in_ls(new_set, new_ls_itemset):\n",
    "                new_ls_itemset.append(new_set)\n",
    "    return new_ls_itemset"
   ]
  },
  {
   "cell_type": "code",
   "execution_count": 8,
   "metadata": {},
   "outputs": [],
   "source": [
    "def load_initial():\n",
    "    first_set = list()\n",
    "    for itemset in data:\n",
    "        for item in itemset:\n",
    "            if [item,] not in first_set and is_satisf_minsup([item,]):\n",
    "                first_set.append([item, ])\n",
    "    return first_set"
   ]
  },
  {
   "cell_type": "code",
   "execution_count": 9,
   "metadata": {},
   "outputs": [],
   "source": [
    "def clear_old_set(ls_itemset):\n",
    "    new_ls_max_itemset = list()\n",
    "    for old_itemset in ls_max_itemset:\n",
    "        if not is_set_in_ls(old_itemset, ls_itemset):\n",
    "            new_ls_max_itemset.append(old_itemset)\n",
    "    return new_ls_max_itemset + ls_itemset"
   ]
  },
  {
   "cell_type": "code",
   "execution_count": 10,
   "metadata": {},
   "outputs": [],
   "source": [
    "def exc_cal_ls_max_itemset():\n",
    "    global ls_max_itemset\n",
    "    ls_itemset = load_initial()\n",
    "    ls_max_itemset = ls_itemset\n",
    "    \n",
    "    while ls_itemset.__len__() > 0:\n",
    "        print(ls_itemset)\n",
    "        ls_itemset = generation(ls_itemset)\n",
    "        ls_max_itemset = clear_old_set(ls_itemset)"
   ]
  },
  {
   "cell_type": "code",
   "execution_count": 11,
   "metadata": {},
   "outputs": [],
   "source": [
    "from itertools import combinations \n",
    "def get_ls_item(itemset, num_item):\n",
    "    return [[j for j in i ] for i in combinations(itemset, num_item)]"
   ]
  },
  {
   "cell_type": "code",
   "execution_count": 12,
   "metadata": {},
   "outputs": [],
   "source": [
    "def get_ls_assoc():\n",
    "    for itemset in ls_max_itemset:\n",
    "        for i in range(1, len(itemset)):\n",
    "            ls_src = get_ls_item(itemset, i)\n",
    "            for j in range(1, len(itemset) - i + 1):\n",
    "                ls_des = get_ls_item(itemset, j)\n",
    "                make_assoc(ls_src, ls_des, ls_assoc)"
   ]
  },
  {
   "cell_type": "code",
   "execution_count": 13,
   "metadata": {},
   "outputs": [],
   "source": [
    "def make_assoc(ls_src, ls_des, ls_assoc):    \n",
    "    for item_src in ls_src:\n",
    "        for item_des in ls_des:\n",
    "            if can_make_assoc(item_src, item_des):\n",
    "                ls_assoc.append(','.join(item_src) + '->' + ','.join(item_des))"
   ]
  },
  {
   "cell_type": "code",
   "execution_count": 14,
   "metadata": {},
   "outputs": [],
   "source": [
    "def can_make_assoc(p, q):\n",
    "    return not is_in_set(p, q) and not is_in_set(q, p) and freq_of_set(p + q)/freq_of_set(p) >= min_conf"
   ]
  },
  {
   "cell_type": "code",
   "execution_count": 15,
   "metadata": {},
   "outputs": [],
   "source": [
    "def load_data(filename):\n",
    "    return [[j for j in i.split(', ')] for i in open(filename, 'r').read().split('\\n')]"
   ]
  },
  {
   "cell_type": "code",
   "execution_count": 16,
   "metadata": {},
   "outputs": [],
   "source": [
    "def load_test():\n",
    "    '''\n",
    "        input: ...\n",
    "    '''\n",
    "    return 'i2,i1'"
   ]
  },
  {
   "cell_type": "code",
   "execution_count": 17,
   "metadata": {},
   "outputs": [],
   "source": [
    "def test():\n",
    "    itemset_test = load_test().split(',')\n",
    "    for itemset in ls_assoc:\n",
    "        item_src, item_des = itemset.split('->')\n",
    "        item_src = item_src.split(',')\n",
    "        if is_in_set(item_src, itemset_test) and len(item_src) == len(itemset_test):\n",
    "            print(item_des)"
   ]
  },
  {
   "cell_type": "code",
   "execution_count": 18,
   "metadata": {},
   "outputs": [
    {
     "name": "stdout",
     "output_type": "stream",
     "text": [
      "[['i1'], ['i7'], ['i2'], ['i6'], ['i8'], ['i4']]\n",
      "[['i1', 'i7'], ['i1', 'i2'], ['i1', 'i6'], ['i2', 'i6']]\n",
      "[['i1', 'i2', 'i6']]\n",
      "i6\n"
     ]
    }
   ],
   "source": [
    "def main():\n",
    "    global data\n",
    "    \n",
    "    data = load_data('data.txt')\n",
    "    exc_cal_ls_max_itemset()\n",
    "    get_ls_assoc()\n",
    "    test()\n",
    "    \n",
    "if __name__ == '__main__':\n",
    "    main()"
   ]
  },
  {
   "cell_type": "code",
   "execution_count": 19,
   "metadata": {},
   "outputs": [
    {
     "data": {
      "text/plain": [
       "[['i8'], ['i4'], ['i1', 'i7'], ['i1', 'i2', 'i6']]"
      ]
     },
     "execution_count": 19,
     "metadata": {},
     "output_type": "execute_result"
    }
   ],
   "source": [
    "ls_max_itemset"
   ]
  },
  {
   "cell_type": "code",
   "execution_count": 22,
   "metadata": {},
   "outputs": [
    {
     "data": {
      "text/plain": [
       "['i7->i1',\n",
       " 'i2->i1',\n",
       " 'i2->i6',\n",
       " 'i2->i1,i6',\n",
       " 'i1,i2->i6',\n",
       " 'i1,i6->i2',\n",
       " 'i2,i6->i1']"
      ]
     },
     "execution_count": 22,
     "metadata": {},
     "output_type": "execute_result"
    }
   ],
   "source": [
    "ls_assoc"
   ]
  }
 ],
 "metadata": {
  "kernelspec": {
   "display_name": "Python 3",
   "language": "python",
   "name": "python3"
  },
  "language_info": {
   "codemirror_mode": {
    "name": "ipython",
    "version": 3
   },
   "file_extension": ".py",
   "mimetype": "text/x-python",
   "name": "python",
   "nbconvert_exporter": "python",
   "pygments_lexer": "ipython3",
   "version": "3.7.4"
  }
 },
 "nbformat": 4,
 "nbformat_minor": 2
}
