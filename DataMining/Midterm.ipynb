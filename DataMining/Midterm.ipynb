{
 "cells": [
  {
   "cell_type": "markdown",
   "metadata": {
    "id": "2ku6W7uYGhfV"
   },
   "source": [
    "# XỬ LÝ DỮ LIỆU LỚN - Bài tập giữa kỳ\n",
    "## Đề tài: ??? Khai phá và phân tích dữ liệu\n",
    "##### Giảng viên: Tiến sĩ Bùi Thanh Hùng (https://sites.google.com/site/hungthanhbui1980)\n",
    "##### Trình bày: Mai Vinh Hiển - 51703078\n",
    "##### Bài 1: Phân tích trên 1 tập dữ liệu tự thu thập (5 điểm)\n",
    "##### 1. Mục đích của bài toán\n",
    "Nhằm mục đích khai thác dữ liệu sẵn có trên internet (cụ thể là trang báo mạng vnexpress) để phân tích, khai thác xu hướng đọc báo của người Việt.\n",
    "\n",
    "##### 2. Crawler"
   ]
  },
  {
   "cell_type": "code",
   "execution_count": 1,
   "metadata": {
    "colab": {
     "base_uri": "https://localhost:8080/",
     "height": 51
    },
    "executionInfo": {
     "elapsed": 5417,
     "status": "ok",
     "timestamp": 1602544691005,
     "user": {
      "displayName": "Vinh Hiển Mai",
      "photoUrl": "https://lh3.googleusercontent.com/a-/AOh14GhdaI9dSlkd4pL5YGU1HbB91j1rC4-0U5Ae8Jouig=s64",
      "userId": "09910107933255577147"
     },
     "user_tz": -420
    },
    "id": "c69RLGskGY28",
    "outputId": "e00ae745-0013-4756-bdc3-262d5b6f8ace"
   },
   "outputs": [
    {
     "name": "stdout",
     "output_type": "stream",
     "text": [
      "Requirement already satisfied: bs4 in c:\\programdata\\anaconda3\\lib\\site-packages (0.0.1)\n",
      "Requirement already satisfied: beautifulsoup4 in c:\\programdata\\anaconda3\\lib\\site-packages (from bs4) (4.9.1)\n",
      "Requirement already satisfied: soupsieve>1.2 in c:\\programdata\\anaconda3\\lib\\site-packages (from beautifulsoup4->bs4) (2.0.1)\n"
     ]
    }
   ],
   "source": [
    "!pip install bs4"
   ]
  },
  {
   "cell_type": "code",
   "execution_count": 2,
   "metadata": {
    "executionInfo": {
     "elapsed": 1282,
     "status": "ok",
     "timestamp": 1602544735464,
     "user": {
      "displayName": "Vinh Hiển Mai",
      "photoUrl": "https://lh3.googleusercontent.com/a-/AOh14GhdaI9dSlkd4pL5YGU1HbB91j1rC4-0U5Ae8Jouig=s64",
      "userId": "09910107933255577147"
     },
     "user_tz": -420
    },
    "id": "fI-I1IVSGzHh"
   },
   "outputs": [],
   "source": [
    "import re\n",
    "import bs4\n",
    "import json\n",
    "import requests"
   ]
  },
  {
   "cell_type": "code",
   "execution_count": 3,
   "metadata": {
    "executionInfo": {
     "elapsed": 1285,
     "status": "ok",
     "timestamp": 1602544879427,
     "user": {
      "displayName": "Vinh Hiển Mai",
      "photoUrl": "https://lh3.googleusercontent.com/a-/AOh14GhdaI9dSlkd4pL5YGU1HbB91j1rC4-0U5Ae8Jouig=s64",
      "userId": "09910107933255577147"
     },
     "user_tz": -420
    },
    "id": "qVPOaN4nHCyR"
   },
   "outputs": [],
   "source": [
    "base_url = \"https://vnexpress.net/tin-xem-nhieu\"\n",
    "\n",
    "headers = {\n",
    "  'Connection': 'keep-alive',\n",
    "  'Cache-Control': 'max-age=0',\n",
    "  'Upgrade-Insecure-Requests': '1',\n",
    "  'User-Agent': 'Mozilla/5.0 (X11; Linux x86_64) AppleWebKit/537.36 (KHTML, like Gecko) Chrome/84.0.4147.105 Safari/537.36',\n",
    "  'Accept': 'text/html,application/xhtml+xml,application/xml;q=0.9,image/webp,image/apng,*/*;q=0.8,application/signed-exchange;v=b3;q=0.9',\n",
    "  'Referer': 'https://vnexpress.net/tin-xem-nhieu',\n",
    "  'Accept-Language': 'vi-VN,vi;q=0.9,en-US;q=0.8,en;q=0.7',\n",
    "  'Cookie': 'PHPSESSID=o8nvojb1l27s54oltf01fo8nd4; __utma=260197448.1967388804.1601447264.1601447264.1601447264.1; __utmc=260197448; __utmz=260197448.1601447264.1.1.utmcsr=l.facebook.com|utmccn=(referral)|utmcmd=referral|utmcct=/; HIM_on_off=0; HIM_method=0; HIM_ckspell=1; HIM_daucu=1; __RC=5; __R=3; __tb=0; __IP=1934568435; __utma=1.1726918794.1601447580.1601447580.1601447580.1; __utmb=1; __utmc=1; __utmz=1.1601447580.1.1.utmccn=(direct)|utmcsr=(direct)|utmcmd=(none); undefined=undefined; __utmb=260197448.60.10.1601447264; __UF=1%2C5; __uif=__create%3A1601447264%7C__uid%3A2261957651906399196; PHPSESSID=375dfv1vk8m0g9m6h0sakfoa14'\n",
    "}\n",
    "\n",
    "link_list = []\n",
    "num_page = 1000"
   ]
  },
  {
   "cell_type": "code",
   "execution_count": 4,
   "metadata": {
    "id": "7iVbG0YAHkGv"
   },
   "outputs": [],
   "source": [
    "'''\n",
    "    Get link and push to link_list.\n",
    "    If link_list > num_page (num article). Stop push\n",
    "'''\n",
    "def push_link(x):\n",
    "    return re.sub(r'.html.*', '.html', str(x.get('href')))\n",
    "\n",
    "count = 0\n",
    "while link_list.__len__() < num_page:\n",
    "    response = requests.request(\"GET\", base_url, headers=headers)\n",
    "    response = bs4.BeautifulSoup(response.text)\n",
    "    link_list += [i for i in list(set(list(map(push_link, response.find_all('a'))))) if re.match(r'^https://vnexpress.net/', i) and '.html' in i]\n",
    "    base_url = link_list[count]\n",
    "    count += 1\n",
    "link_list = list(set(link_list))"
   ]
  },
  {
   "cell_type": "code",
   "execution_count": 5,
   "metadata": {},
   "outputs": [
    {
     "name": "stdout",
     "output_type": "stream",
     "text": [
      "392\n"
     ]
    }
   ],
   "source": [
    "print(len(link_list))"
   ]
  },
  {
   "cell_type": "code",
   "execution_count": 6,
   "metadata": {
    "id": "MeBQXcrcHn8T"
   },
   "outputs": [
    {
     "name": "stdout",
     "output_type": "stream",
     "text": [
      "Requirement already satisfied: pandas in c:\\programdata\\anaconda3\\lib\\site-packages (1.0.5)\n",
      "Requirement already satisfied: python-dateutil>=2.6.1 in c:\\programdata\\anaconda3\\lib\\site-packages (from pandas) (2.8.1)\n",
      "Requirement already satisfied: pytz>=2017.2 in c:\\programdata\\anaconda3\\lib\\site-packages (from pandas) (2020.1)\n",
      "Requirement already satisfied: numpy>=1.13.3 in c:\\programdata\\anaconda3\\lib\\site-packages (from pandas) (1.18.5)\n",
      "Requirement already satisfied: six>=1.5 in c:\\programdata\\anaconda3\\lib\\site-packages (from python-dateutil>=2.6.1->pandas) (1.15.0)\n"
     ]
    }
   ],
   "source": [
    "!pip install pandas"
   ]
  },
  {
   "cell_type": "code",
   "execution_count": 7,
   "metadata": {
    "id": "AH98UBk3Hpyr"
   },
   "outputs": [],
   "source": [
    "import pandas as pd"
   ]
  },
  {
   "cell_type": "code",
   "execution_count": 8,
   "metadata": {
    "id": "MDVqcee2HrCe"
   },
   "outputs": [],
   "source": [
    "d = {'title': [], 'description': [], 'article': [], 'category': [], 'viewer': []}\n",
    "df = pd.DataFrame(data=d)"
   ]
  },
  {
   "cell_type": "code",
   "execution_count": 9,
   "metadata": {
    "id": "v-AgE7-3H7mS"
   },
   "outputs": [],
   "source": [
    "def request_get_viewer(objectid):\n",
    "    url = f\"https://usi-saas.vnexpress.net/index/get?objectid=\"+str(objectid)+\"&objecttype=1&siteid=1000000\"\n",
    "    \n",
    "    payload = {}\n",
    "    \n",
    "    headers = {\n",
    "      'Cookie': 'usi.saas=s%3A6iX_xZbKv2XUtaq5XpxVJ7AaIqOgRNPY.nfe9%2Fv60Ly1fm5GTwWB1OZHN%2Fa756a2jhh6Z43L9oRs'\n",
    "    }\n",
    "    \n",
    "    response = requests.request(\"GET\", url, headers=headers, data = payload)\n",
    "\n",
    "    try:\n",
    "        ls = [i[\"full_name\"] for i in response.json()[\"data\"][\"items\"]]\n",
    "        ls = list(set(ls))\n",
    "        return ls\n",
    "    except:\n",
    "        return \"\""
   ]
  },
  {
   "cell_type": "code",
   "execution_count": 10,
   "metadata": {
    "id": "9FWRPF6sH8QB"
   },
   "outputs": [],
   "source": [
    "for url in link_list:\n",
    "    try:\n",
    "        response = requests.request(\"GET\", url, headers=headers)\n",
    "        response = bs4.BeautifulSoup(response.text)\n",
    "        id_art = re.search(r'\\d{6,}.html', url).group().replace('.html', '')\n",
    "        category = response.select(\"ul.breadcrumb\")[0].select(\"a\")[0].text\n",
    "        title = response.select(\"h1.title-detail\")[0].text\n",
    "        description = response.select(\"p.description\")[0].text\n",
    "        article = response.select(\"article.fck_detail\")[0].text.strip()\n",
    "        article = re.sub(r'\\W+', \" \", article)\n",
    "        viewer = request_get_viewer(id_art)\n",
    "\n",
    "        d2 = {'title': [title], 'description': [description], 'article': [article], 'category': [category], 'viewer': [viewer]}\n",
    "        df2 = pd.DataFrame(data=d2)\n",
    "        df = df.append(df2)\n",
    "    except:\n",
    "        pass"
   ]
  },
  {
   "cell_type": "code",
   "execution_count": 11,
   "metadata": {
    "id": "LUketNpxH_VL"
   },
   "outputs": [],
   "source": [
    "df = df.reset_index(drop=True)"
   ]
  },
  {
   "cell_type": "code",
   "execution_count": 12,
   "metadata": {
    "id": "w9dGY-NdIB14"
   },
   "outputs": [
    {
     "data": {
      "text/html": [
       "<div>\n",
       "<style scoped>\n",
       "    .dataframe tbody tr th:only-of-type {\n",
       "        vertical-align: middle;\n",
       "    }\n",
       "\n",
       "    .dataframe tbody tr th {\n",
       "        vertical-align: top;\n",
       "    }\n",
       "\n",
       "    .dataframe thead th {\n",
       "        text-align: right;\n",
       "    }\n",
       "</style>\n",
       "<table border=\"1\" class=\"dataframe\">\n",
       "  <thead>\n",
       "    <tr style=\"text-align: right;\">\n",
       "      <th></th>\n",
       "      <th>title</th>\n",
       "      <th>description</th>\n",
       "      <th>article</th>\n",
       "      <th>category</th>\n",
       "      <th>viewer</th>\n",
       "    </tr>\n",
       "  </thead>\n",
       "  <tbody>\n",
       "    <tr>\n",
       "      <th>0</th>\n",
       "      <td>Cắt ngực, bước rủi ro chuyển giới nữ thành nam</td>\n",
       "      <td>TP HCMNhiều người cắt vú để chuyển ngoại hình ...</td>\n",
       "      <td>Quân một người chuyển giới nữ sang nam không m...</td>\n",
       "      <td>Sức khỏe</td>\n",
       "      <td>[omega, Mai Nguyễn, Ph Trung, Hương, Chung Ngu...</td>\n",
       "    </tr>\n",
       "    <tr>\n",
       "      <th>1</th>\n",
       "      <td>Giáo viên lớp 1 'đuối' vì sách giáo khoa mới</td>\n",
       "      <td>Năm đầu dạy sách giáo khoa lớp 1 theo chương t...</td>\n",
       "      <td>Gần một tháng sau khai giảng cô Hạnh 30 tuổi g...</td>\n",
       "      <td>Giáo dục</td>\n",
       "      <td>[kts.lyquochung, Nguyễn Đình Mùi, Dragonman, L...</td>\n",
       "    </tr>\n",
       "    <tr>\n",
       "      <th>2</th>\n",
       "      <td>Giá iPhone 12 cao nhất là 1.300 USD</td>\n",
       "      <td>Phiên bản iPhone 12 nhỏ nhất - iPhone 12 mini ...</td>\n",
       "      <td>iPhone 12 mini là phiên bản màn hình nhỏ nhất ...</td>\n",
       "      <td>Số hóa</td>\n",
       "      <td>[Bóng đá 8-2, thenewsonline24h, Duy Khánh, Son...</td>\n",
       "    </tr>\n",
       "    <tr>\n",
       "      <th>3</th>\n",
       "      <td>Phó thủ tướng: 'Tiếp thu cầu thị góp ý sách gi...</td>\n",
       "      <td>Phó thủ tướng Vũ Đức Đam yêu cầu Bộ Giáo dục v...</td>\n",
       "      <td>Phó thủ tướng Vũ Đức Đam nêu yêu cầu trên sau ...</td>\n",
       "      <td>Giáo dục</td>\n",
       "      <td>[HT (king.pacific74), Long Nam, Derib Rebid, M...</td>\n",
       "    </tr>\n",
       "    <tr>\n",
       "      <th>4</th>\n",
       "      <td>iPhone 12 có thể ra mắt ngày 13/10</td>\n",
       "      <td>Thông tin từ các nhà mạng ở châu Âu cho thấy A...</td>\n",
       "      <td>Marc Allera CEO của nhà mạng BT và EE tại Anh ...</td>\n",
       "      <td>Số hóa</td>\n",
       "      <td>[huy263591, kiplargo4, Vương Nhân Đại Đế, mina...</td>\n",
       "    </tr>\n",
       "    <tr>\n",
       "      <th>...</th>\n",
       "      <td>...</td>\n",
       "      <td>...</td>\n",
       "      <td>...</td>\n",
       "      <td>...</td>\n",
       "      <td>...</td>\n",
       "    </tr>\n",
       "    <tr>\n",
       "      <th>248</th>\n",
       "      <td>Hiệu năng iPhone 12 Pro Max thấp hơn smartphon...</td>\n",
       "      <td>iPhone 12 Pro Max, smartphone cao cấp nhất sắp...</td>\n",
       "      <td>Ice Universe tài khoản Twitter từng chia sẻ nh...</td>\n",
       "      <td>Số hóa</td>\n",
       "      <td>[Duy Tân, MERCEDES E250, Anh Song, Lam rung, V...</td>\n",
       "    </tr>\n",
       "    <tr>\n",
       "      <th>249</th>\n",
       "      <td>Giá iPhone 12 chính hãng cao nhất là 44 triệu ...</td>\n",
       "      <td>Giá đặt hàng của bốn mẫu iPhone 12 chính hãng ...</td>\n",
       "      <td>Tại FPT Shop bản rẻ nhất iPhone 12 mini 64 GB ...</td>\n",
       "      <td>Số hóa</td>\n",
       "      <td>[Xam One, Lưu Linh, Andy Nguyen, tuân, Trần Qu...</td>\n",
       "    </tr>\n",
       "    <tr>\n",
       "      <th>250</th>\n",
       "      <td>Mô hình iPhone 2020 lộ diện</td>\n",
       "      <td>Mô hình được cho là của iPhone 2020 có thiết k...</td>\n",
       "      <td>Sonny Dickson người từng tiết lộ nhiều thông t...</td>\n",
       "      <td>Số hóa</td>\n",
       "      <td>[Duy Tân, Binh Dang Quang, Nguyễn Vũ, Quang Ph...</td>\n",
       "    </tr>\n",
       "    <tr>\n",
       "      <th>251</th>\n",
       "      <td>Người Trung Quốc cãi nhau vì iPhone 12 và Huaw...</td>\n",
       "      <td>Trung QuốciPhone 12 và Huawei Mate 40 dự kiến ...</td>\n",
       "      <td>Hai smartphone được mong chờ nhất trong tháng ...</td>\n",
       "      <td>Số hóa</td>\n",
       "      <td>[quy.ndsteel, Mr Roy, Nguyển anh tuấn, CHN, Sấ...</td>\n",
       "    </tr>\n",
       "    <tr>\n",
       "      <th>252</th>\n",
       "      <td>Vợ chồng tử vong do lũ</td>\n",
       "      <td>Quảng NamVượt qua đoạn đường nước chảy xiết, đ...</td>\n",
       "      <td>Chiều 10 10 anh Lê Tự Quốc 26 tuổi cùng vợ Lưu...</td>\n",
       "      <td>Thời sự</td>\n",
       "      <td>[VU.DNG, Alice, AKa 100/7, tgddvcst2020, Thucu...</td>\n",
       "    </tr>\n",
       "  </tbody>\n",
       "</table>\n",
       "<p>253 rows × 5 columns</p>\n",
       "</div>"
      ],
      "text/plain": [
       "                                                 title  \\\n",
       "0       Cắt ngực, bước rủi ro chuyển giới nữ thành nam   \n",
       "1         Giáo viên lớp 1 'đuối' vì sách giáo khoa mới   \n",
       "2                  Giá iPhone 12 cao nhất là 1.300 USD   \n",
       "3    Phó thủ tướng: 'Tiếp thu cầu thị góp ý sách gi...   \n",
       "4                   iPhone 12 có thể ra mắt ngày 13/10   \n",
       "..                                                 ...   \n",
       "248  Hiệu năng iPhone 12 Pro Max thấp hơn smartphon...   \n",
       "249  Giá iPhone 12 chính hãng cao nhất là 44 triệu ...   \n",
       "250                        Mô hình iPhone 2020 lộ diện   \n",
       "251  Người Trung Quốc cãi nhau vì iPhone 12 và Huaw...   \n",
       "252                             Vợ chồng tử vong do lũ   \n",
       "\n",
       "                                           description  \\\n",
       "0    TP HCMNhiều người cắt vú để chuyển ngoại hình ...   \n",
       "1    Năm đầu dạy sách giáo khoa lớp 1 theo chương t...   \n",
       "2    Phiên bản iPhone 12 nhỏ nhất - iPhone 12 mini ...   \n",
       "3    Phó thủ tướng Vũ Đức Đam yêu cầu Bộ Giáo dục v...   \n",
       "4    Thông tin từ các nhà mạng ở châu Âu cho thấy A...   \n",
       "..                                                 ...   \n",
       "248  iPhone 12 Pro Max, smartphone cao cấp nhất sắp...   \n",
       "249  Giá đặt hàng của bốn mẫu iPhone 12 chính hãng ...   \n",
       "250  Mô hình được cho là của iPhone 2020 có thiết k...   \n",
       "251  Trung QuốciPhone 12 và Huawei Mate 40 dự kiến ...   \n",
       "252  Quảng NamVượt qua đoạn đường nước chảy xiết, đ...   \n",
       "\n",
       "                                               article  category  \\\n",
       "0    Quân một người chuyển giới nữ sang nam không m...  Sức khỏe   \n",
       "1    Gần một tháng sau khai giảng cô Hạnh 30 tuổi g...  Giáo dục   \n",
       "2    iPhone 12 mini là phiên bản màn hình nhỏ nhất ...    Số hóa   \n",
       "3    Phó thủ tướng Vũ Đức Đam nêu yêu cầu trên sau ...  Giáo dục   \n",
       "4    Marc Allera CEO của nhà mạng BT và EE tại Anh ...    Số hóa   \n",
       "..                                                 ...       ...   \n",
       "248  Ice Universe tài khoản Twitter từng chia sẻ nh...    Số hóa   \n",
       "249  Tại FPT Shop bản rẻ nhất iPhone 12 mini 64 GB ...    Số hóa   \n",
       "250  Sonny Dickson người từng tiết lộ nhiều thông t...    Số hóa   \n",
       "251  Hai smartphone được mong chờ nhất trong tháng ...    Số hóa   \n",
       "252  Chiều 10 10 anh Lê Tự Quốc 26 tuổi cùng vợ Lưu...   Thời sự   \n",
       "\n",
       "                                                viewer  \n",
       "0    [omega, Mai Nguyễn, Ph Trung, Hương, Chung Ngu...  \n",
       "1    [kts.lyquochung, Nguyễn Đình Mùi, Dragonman, L...  \n",
       "2    [Bóng đá 8-2, thenewsonline24h, Duy Khánh, Son...  \n",
       "3    [HT (king.pacific74), Long Nam, Derib Rebid, M...  \n",
       "4    [huy263591, kiplargo4, Vương Nhân Đại Đế, mina...  \n",
       "..                                                 ...  \n",
       "248  [Duy Tân, MERCEDES E250, Anh Song, Lam rung, V...  \n",
       "249  [Xam One, Lưu Linh, Andy Nguyen, tuân, Trần Qu...  \n",
       "250  [Duy Tân, Binh Dang Quang, Nguyễn Vũ, Quang Ph...  \n",
       "251  [quy.ndsteel, Mr Roy, Nguyển anh tuấn, CHN, Sấ...  \n",
       "252  [VU.DNG, Alice, AKa 100/7, tgddvcst2020, Thucu...  \n",
       "\n",
       "[253 rows x 5 columns]"
      ]
     },
     "execution_count": 12,
     "metadata": {},
     "output_type": "execute_result"
    }
   ],
   "source": [
    "df"
   ]
  },
  {
   "cell_type": "code",
   "execution_count": 13,
   "metadata": {
    "id": "haAhg6auIC-Y"
   },
   "outputs": [],
   "source": [
    "df.to_csv('data.csv', encoding='utf-8-sig')"
   ]
  },
  {
   "cell_type": "code",
   "execution_count": 14,
   "metadata": {
    "id": "XobH1PO-IFr6"
   },
   "outputs": [
    {
     "name": "stdout",
     "output_type": "stream",
     "text": [
      "Requirement already satisfied: pyspark in c:\\programdata\\anaconda3\\lib\\site-packages (3.0.1)\n",
      "Requirement already satisfied: py4j==0.10.9 in c:\\programdata\\anaconda3\\lib\\site-packages (from pyspark) (0.10.9)\n"
     ]
    }
   ],
   "source": [
    "!pip install pyspark"
   ]
  },
  {
   "cell_type": "markdown",
   "metadata": {
    "id": "ZhAHjav3IHAQ"
   },
   "source": [
    "##### 3. Phân tích dữ liệu"
   ]
  },
  {
   "cell_type": "code",
   "execution_count": 15,
   "metadata": {
    "id": "0HY65i4RIaMd"
   },
   "outputs": [],
   "source": [
    "import os\n",
    "import pyspark\n",
    "import operator\n",
    "from pyspark.sql import *\n",
    "from pyspark.sql.types import *\n",
    "from pyspark.sql.functions import *\n",
    "from pyspark import SparkContext, SparkConf"
   ]
  },
  {
   "cell_type": "code",
   "execution_count": 16,
   "metadata": {
    "id": "scb4tpUVIfIz"
   },
   "outputs": [],
   "source": [
    "# # for google colab\n",
    "#!apt install openjdk-8-jdk-headless -qq\n",
    "# os.environ[\"JAVA_HOME\"] = \"/usr/lib/jvm/java-8-openjdk-amd64\"\n",
    "# # for windows, download and install java\n",
    "os.environ[\"JAVA_HOME\"] = \"C:\\Program Files\\Java\\jdk-15\""
   ]
  },
  {
   "cell_type": "code",
   "execution_count": 17,
   "metadata": {
    "id": "UmOknJ8PInFa"
   },
   "outputs": [],
   "source": [
    "conf = SparkConf().set(\"localhost\", \"4050\")\n",
    "\n",
    "# create the Spark Session\n",
    "spark = SparkSession.builder.getOrCreate()"
   ]
  },
  {
   "cell_type": "code",
   "execution_count": 18,
   "metadata": {
    "id": "tukMKBHqIykA"
   },
   "outputs": [],
   "source": [
    "# As same as below\n",
    "# schema = StructType([\n",
    "#   StructField(\"title\", StringType()),\n",
    "#   StructField(\"description\", StringType()),\n",
    "#   StructField(\"article\", StringType()),\n",
    "#   StructField(\"category\", StringType()),\n",
    "#   StructField(\"viewer\", StringType()),\n",
    "# ])\n",
    "# sc = pyspark.SparkContext(conf=conf)\n",
    "# data_file = sc.textFile(\"data.csv\")\n",
    "# header = data_file.first()\n",
    "# data_file = data_file.filter(lambda line: line != header)\n",
    "# data = spark.read\\\n",
    "#     .option('delimiter', ',')\\\n",
    "#     .csv(data_file, schema=schema)\n",
    "# data.show()"
   ]
  },
  {
   "cell_type": "code",
   "execution_count": 19,
   "metadata": {
    "id": "g2h1GjchI3mP"
   },
   "outputs": [
    {
     "name": "stdout",
     "output_type": "stream",
     "text": [
      "+---+--------------------+--------------------+--------------------+--------+--------------------+\n",
      "|_c0|               title|         description|             article|category|              viewer|\n",
      "+---+--------------------+--------------------+--------------------+--------+--------------------+\n",
      "|  0|Cắt ngực, bước rủ...|TP HCMNhiều người...|Quân một người ch...|Sức khỏe|['omega', 'Mai Ng...|\n",
      "|  1|Giáo viên lớp 1 '...|Năm đầu dạy sách ...|Gần một tháng sau...|Giáo dục|['kts.lyquochung'...|\n",
      "|  2|Giá iPhone 12 cao...|Phiên bản iPhone ...|iPhone 12 mini là...|  Số hóa|['Bóng đá 8-2', '...|\n",
      "|  3|Phó thủ tướng: 'T...|Phó thủ tướng Vũ ...|Phó thủ tướng Vũ ...|Giáo dục|['HT (king.pacifi...|\n",
      "|  4|iPhone 12 có thể ...|Thông tin từ các ...|Marc Allera CEO c...|  Số hóa|['huy263591', 'ki...|\n",
      "+---+--------------------+--------------------+--------------------+--------+--------------------+\n",
      "only showing top 5 rows\n",
      "\n"
     ]
    }
   ],
   "source": [
    "data = spark.read.option(\"header\",\"true\").csv(\"data.csv\")\n",
    "data.show(5)"
   ]
  },
  {
   "cell_type": "code",
   "execution_count": 20,
   "metadata": {
    "id": "uuo20vJoI5Ga"
   },
   "outputs": [
    {
     "name": "stdout",
     "output_type": "stream",
     "text": [
      "Requirement already satisfied: pyvi in c:\\programdata\\anaconda3\\lib\\site-packages (0.1)\n",
      "Requirement already satisfied: sklearn-crfsuite in c:\\programdata\\anaconda3\\lib\\site-packages (from pyvi) (0.3.6)\n",
      "Requirement already satisfied: scikit-learn in c:\\programdata\\anaconda3\\lib\\site-packages (from pyvi) (0.23.1)\n",
      "Requirement already satisfied: tqdm>=2.0 in c:\\programdata\\anaconda3\\lib\\site-packages (from sklearn-crfsuite->pyvi) (4.47.0)\n",
      "Requirement already satisfied: python-crfsuite>=0.8.3 in c:\\programdata\\anaconda3\\lib\\site-packages (from sklearn-crfsuite->pyvi) (0.9.7)\n",
      "Requirement already satisfied: six in c:\\programdata\\anaconda3\\lib\\site-packages (from sklearn-crfsuite->pyvi) (1.15.0)\n",
      "Requirement already satisfied: tabulate in c:\\programdata\\anaconda3\\lib\\site-packages (from sklearn-crfsuite->pyvi) (0.8.7)\n",
      "Requirement already satisfied: scipy>=0.19.1 in c:\\programdata\\anaconda3\\lib\\site-packages (from scikit-learn->pyvi) (1.5.0)\n",
      "Requirement already satisfied: joblib>=0.11 in c:\\programdata\\anaconda3\\lib\\site-packages (from scikit-learn->pyvi) (0.16.0)\n",
      "Requirement already satisfied: numpy>=1.13.3 in c:\\programdata\\anaconda3\\lib\\site-packages (from scikit-learn->pyvi) (1.18.5)\n",
      "Requirement already satisfied: threadpoolctl>=2.0.0 in c:\\programdata\\anaconda3\\lib\\site-packages (from scikit-learn->pyvi) (2.1.0)\n"
     ]
    }
   ],
   "source": [
    "!pip install pyvi"
   ]
  },
  {
   "cell_type": "code",
   "execution_count": 21,
   "metadata": {
    "id": "r4p0kgmbJBnN"
   },
   "outputs": [],
   "source": [
    "STOPWORDS = open('stopwords.txt', mode='r', encoding='utf-8').read().split(\"\\n\")\n",
    "NON_VIETNAMESE = \"[^aáàảãạăắằẳẵặâấầẩẫậbcdđeéèẻẽẹêế\\\n",
    "\t                ềểễệfghiíìỉĩịjklmnoóòỏõọôốồổỗộơớ\\\n",
    "\t                ờởỡợpqrstuúùủũụưứừửữựvwxyýỳỷỹỵzA\\\n",
    "\t                ÁÀẢÃẠĂẮẰẲẴẶÂẤẦẨẪẬBCDĐEÉÈẺẼẸÊẾỀỂỄ\\\n",
    "\t                ỆFGHIÍÌỈĨỊJKLMNOÓÒỎÕỌÔỐỒỔỖỘƠỚỜỞỠ\\\n",
    "\t                ỢPQRSTUÚÙỦŨỤƯỨỪỬỮỰVWXYÝỲỶỸỴZ ]\"\n",
    "from pyvi import ViTokenizer, ViPosTagger"
   ]
  },
  {
   "cell_type": "code",
   "execution_count": 22,
   "metadata": {
    "id": "VZkwFEEbJKUk"
   },
   "outputs": [],
   "source": [
    "def preprocessing(text):\n",
    "    #loại bỏ các từ không phải tiếng việt\n",
    "    text = text.replace(u'\\xa0', u' ').replace(\"\\t\", \" \").lower()\n",
    "    text = re.sub(NON_VIETNAMESE, \" \",text)\n",
    "    #phân mảnh từ\n",
    "    text = ViTokenizer.tokenize(text).split(\" \")\n",
    "    #loại bỏ stopword\n",
    "    for i in range(text.__len__()):\n",
    "        if text[i] in STOPWORDS:\n",
    "            text[i] = \"\"\n",
    "    #nối lại thành 1 câu\n",
    "    text = \" \".join(text)\n",
    "    text = re.sub(r'\\d', ' ', text)\n",
    "    text = re.sub(r' +', ' ', text)\n",
    "    return text"
   ]
  },
  {
   "cell_type": "code",
   "execution_count": 23,
   "metadata": {
    "id": "mZmp5r7mJMcF"
   },
   "outputs": [],
   "source": [
    "def clean_str(text):\n",
    "    return preprocessing(text[0]).strip().split(\" \")"
   ]
  },
  {
   "cell_type": "code",
   "execution_count": 24,
   "metadata": {
    "id": "6GzeuOzEJRYD"
   },
   "outputs": [],
   "source": [
    "def get_max(x, max_val):\n",
    "    if x[1] >= max_val:\n",
    "        return x[0]"
   ]
  },
  {
   "cell_type": "code",
   "execution_count": 25,
   "metadata": {
    "id": "WkxWSOisJSar"
   },
   "outputs": [],
   "source": [
    "def word_freq (col):\n",
    "    if col == \"viewer\":\n",
    "        def split_name(x):\n",
    "            if x[0] == None:\n",
    "                return []\n",
    "            return x[0].split(\", \")\n",
    "            \n",
    "        words = data.select(col).rdd.flatMap(split_name).map(lambda word: (word, 1))\n",
    "    else:\n",
    "        words = data.select(col).rdd.flatMap(clean_str).map(lambda word: (word, 1))\n",
    "    counts = words.reduceByKey(operator.add)\n",
    "    sorted_counts =  counts.sortBy(lambda x: x[1], False)\n",
    "    max_val = sorted_counts.collect()[0][1]\n",
    "    return list(filter(None, set(map(lambda x: get_max(x, max_val), sorted_counts.collect()))))"
   ]
  },
  {
   "cell_type": "code",
   "execution_count": 26,
   "metadata": {
    "id": "M-p0RnPDJVGR"
   },
   "outputs": [],
   "source": [
    "d_freq = {}\n",
    "\n",
    "for i in data.columns[1:]:\n",
    "    d_freq[i] = [word_freq(i)] "
   ]
  },
  {
   "cell_type": "code",
   "execution_count": 27,
   "metadata": {
    "id": "Il2UDW-UJWd_"
   },
   "outputs": [],
   "source": [
    "df = pd.DataFrame(data=d_freq)"
   ]
  },
  {
   "cell_type": "code",
   "execution_count": 28,
   "metadata": {
    "id": "QP7hZ5naJXce"
   },
   "outputs": [
    {
     "name": "stdout",
     "output_type": "stream",
     "text": [
      "Xuấ hiện nhiều lần nhất\n"
     ]
    },
    {
     "data": {
      "text/html": [
       "<div>\n",
       "<style scoped>\n",
       "    .dataframe tbody tr th:only-of-type {\n",
       "        vertical-align: middle;\n",
       "    }\n",
       "\n",
       "    .dataframe tbody tr th {\n",
       "        vertical-align: top;\n",
       "    }\n",
       "\n",
       "    .dataframe thead th {\n",
       "        text-align: right;\n",
       "    }\n",
       "</style>\n",
       "<table border=\"1\" class=\"dataframe\">\n",
       "  <thead>\n",
       "    <tr style=\"text-align: right;\">\n",
       "      <th></th>\n",
       "      <th>title</th>\n",
       "      <th>description</th>\n",
       "      <th>article</th>\n",
       "      <th>category</th>\n",
       "      <th>viewer</th>\n",
       "    </tr>\n",
       "  </thead>\n",
       "  <tbody>\n",
       "    <tr>\n",
       "      <th>0</th>\n",
       "      <td>[iphone]</td>\n",
       "      <td>[iphone]</td>\n",
       "      <td>[iphone]</td>\n",
       "      <td>[số_hóa]</td>\n",
       "      <td>[[]]</td>\n",
       "    </tr>\n",
       "  </tbody>\n",
       "</table>\n",
       "</div>"
      ],
      "text/plain": [
       "      title description   article  category viewer\n",
       "0  [iphone]    [iphone]  [iphone]  [số_hóa]   [[]]"
      ]
     },
     "execution_count": 28,
     "metadata": {},
     "output_type": "execute_result"
    }
   ],
   "source": [
    "print('Xuấ hiện nhiều lần nhất')\n",
    "df"
   ]
  },
  {
   "cell_type": "code",
   "execution_count": 29,
   "metadata": {
    "id": "jPcmuI8zJY1b"
   },
   "outputs": [
    {
     "name": "stdout",
     "output_type": "stream",
     "text": [
      "Requirement already satisfied: openpyxl in c:\\programdata\\anaconda3\\lib\\site-packages (3.0.4)\n",
      "Requirement already satisfied: jdcal in c:\\programdata\\anaconda3\\lib\\site-packages (from openpyxl) (1.4.1)\n",
      "Requirement already satisfied: et-xmlfile in c:\\programdata\\anaconda3\\lib\\site-packages (from openpyxl) (1.0.1)\n"
     ]
    }
   ],
   "source": [
    "!pip install openpyxl"
   ]
  },
  {
   "cell_type": "code",
   "execution_count": 30,
   "metadata": {
    "id": "PTS6HZfyJaqZ"
   },
   "outputs": [],
   "source": [
    "df.to_excel(\"data.xlsx\", sheet_name='Max freq') "
   ]
  },
  {
   "cell_type": "markdown",
   "metadata": {
    "id": "Sb-HCYfpJbsz"
   },
   "source": [
    "##### 4. Phân tích mỗi tương quan"
   ]
  },
  {
   "cell_type": "code",
   "execution_count": 31,
   "metadata": {
    "id": "hmq6xFOaJeFR"
   },
   "outputs": [
    {
     "name": "stdout",
     "output_type": "stream",
     "text": [
      "Requirement already satisfied: sklearn in c:\\programdata\\anaconda3\\lib\\site-packages (0.0)\n",
      "Requirement already satisfied: scikit-learn in c:\\programdata\\anaconda3\\lib\\site-packages (from sklearn) (0.23.1)\n",
      "Requirement already satisfied: scipy>=0.19.1 in c:\\programdata\\anaconda3\\lib\\site-packages (from scikit-learn->sklearn) (1.5.0)\n",
      "Requirement already satisfied: threadpoolctl>=2.0.0 in c:\\programdata\\anaconda3\\lib\\site-packages (from scikit-learn->sklearn) (2.1.0)\n",
      "Requirement already satisfied: joblib>=0.11 in c:\\programdata\\anaconda3\\lib\\site-packages (from scikit-learn->sklearn) (0.16.0)\n",
      "Requirement already satisfied: numpy>=1.13.3 in c:\\programdata\\anaconda3\\lib\\site-packages (from scikit-learn->sklearn) (1.18.5)\n"
     ]
    }
   ],
   "source": [
    "!pip install sklearn"
   ]
  },
  {
   "cell_type": "code",
   "execution_count": 32,
   "metadata": {
    "id": "s_ZmbuTCJfSJ"
   },
   "outputs": [],
   "source": [
    "from sklearn.feature_extraction.text import TfidfVectorizer"
   ]
  },
  {
   "cell_type": "code",
   "execution_count": 33,
   "metadata": {
    "id": "DKNOppujJgk6"
   },
   "outputs": [],
   "source": [
    "vectorizer = TfidfVectorizer()"
   ]
  },
  {
   "cell_type": "code",
   "execution_count": 34,
   "metadata": {
    "id": "3RuMCc4JJhZ9"
   },
   "outputs": [],
   "source": [
    "corpus = [preprocessing(i[0]) for i in data.select('article').rdd.collect()]"
   ]
  },
  {
   "cell_type": "code",
   "execution_count": 35,
   "metadata": {
    "id": "Bwolmtn5JiTO"
   },
   "outputs": [
    {
     "data": {
      "text/plain": [
       "<253x7129 sparse matrix of type '<class 'numpy.float64'>'\n",
       "\twith 34851 stored elements in Compressed Sparse Row format>"
      ]
     },
     "execution_count": 35,
     "metadata": {},
     "output_type": "execute_result"
    }
   ],
   "source": [
    "vectorizer.fit_transform(corpus)"
   ]
  },
  {
   "cell_type": "code",
   "execution_count": 36,
   "metadata": {
    "id": "gT46sLKVJjVs"
   },
   "outputs": [],
   "source": [
    "import numpy as np\n",
    "from scipy.stats import pearsonr, spearmanr #For checking"
   ]
  },
  {
   "cell_type": "code",
   "execution_count": 37,
   "metadata": {},
   "outputs": [],
   "source": [
    "import warnings\n",
    "warnings.filterwarnings('ignore') #skip warnings for constant number when calculating pearson/spearman\n",
    "import time"
   ]
  },
  {
   "cell_type": "code",
   "execution_count": 38,
   "metadata": {
    "id": "1urSqm8VJpQR"
   },
   "outputs": [
    {
     "name": "stdout",
     "output_type": "stream",
     "text": [
      "29:29\t\r"
     ]
    }
   ],
   "source": [
    "_len = data.collect().__len__() - (data.collect().__len__() - 30)\n",
    "pearsonr_array = np.empty([_len, _len])\n",
    "spearmanr_array = np.empty([_len, _len])\n",
    "\n",
    "start_time = time.time()\n",
    "\n",
    "## Checking\n",
    "for row in range(_len):\n",
    "    for col in range(row, _len):\n",
    "        print(f'\\r{row}:{col}\\t', end='\\r')\n",
    "        row_data = preprocessing(data.select('article').collect()[row][0])\n",
    "        row_data2 = preprocessing(data.select('article').collect()[col][0])\n",
    "        tfidf_query = vectorizer.transform([row_data]).toarray()\n",
    "        tfidf_query2 = vectorizer.transform([row_data2]).toarray()\n",
    "        corr, _ = pearsonr(tfidf_query[0], tfidf_query2[0])        \n",
    "        pearsonr_array[row][col] = corr\n",
    "        pearsonr_array[col][row] = corr\n",
    "        coef, p = spearmanr(tfidf_query[0], tfidf_query2[0])\n",
    "        spearmanr_array[row][col] = coef\n",
    "        spearmanr_array[col][row] = coef\n"
   ]
  },
  {
   "cell_type": "code",
   "execution_count": 39,
   "metadata": {},
   "outputs": [
    {
     "name": "stdout",
     "output_type": "stream",
     "text": [
      "Time taken: 70.29972720146179\n"
     ]
    }
   ],
   "source": [
    "total_time = time.time() - start_time\n",
    "print(\"Time taken:\", total_time)"
   ]
  },
  {
   "cell_type": "code",
   "execution_count": 40,
   "metadata": {},
   "outputs": [],
   "source": [
    "# chạy lâu vcl :)"
   ]
  },
  {
   "cell_type": "code",
   "execution_count": 41,
   "metadata": {
    "id": "_0flxT6RKEOO"
   },
   "outputs": [],
   "source": [
    "from math import pow\n",
    "def pearsonr_h(x, y):\n",
    "    # Assume len(x) == len(y)\n",
    "    assert len(x) == len(y) > 0\n",
    "    \n",
    "    mean_x = np.mean(x)\n",
    "    mean_y = np.mean(y)\n",
    "    n = len(x)\n",
    "    num = np.sum(list(map(lambda a, b: (a - mean_x) * (b - mean_y), x, y)))\n",
    "    \n",
    "    sum_x_sq = np.sum(list(map(lambda a: (a - mean_x) ** 2, x)))\n",
    "    sum_y_sq = np.sum(list(map(lambda b: (b - mean_y) ** 2, y)))\n",
    "    \n",
    "    den = (sum_x_sq * sum_y_sq) ** 0.5\n",
    "    if den == 0: return 0\n",
    "    return num / den"
   ]
  },
  {
   "cell_type": "code",
   "execution_count": 42,
   "metadata": {
    "id": "70Ic_D83VZKA"
   },
   "outputs": [],
   "source": [
    "import numpy.ma as ma\n",
    "def spearmanr_h(x, y):\n",
    "    assert len(x) == len(y) > 0\n",
    "    list_x = x.tolist()\n",
    "    list_y = y.tolist()\n",
    "    listx = sorted(set(list_x), reverse=True)\n",
    "    listy = sorted(set(list_y), reverse=True)\n",
    "    rankx = {}\n",
    "    ranky = {}\n",
    "    if len(listx) > len(listy):\n",
    "        rankx[0] = listx.index(0)\n",
    "        ranky[0] = listx.index(0)\n",
    "    else:\n",
    "        rankx[0] = listy.index(0)\n",
    "        ranky[0] = listy.index(0)\n",
    "    for i in listx:\n",
    "        if i > 0:\n",
    "            rankx[i] = listx.index(i)\n",
    "    for i in listy:\n",
    "        if i > 0:\n",
    "            ranky[i] = listy.index(i)\n",
    "    d = 0\n",
    "    ranked = []\n",
    "    for i in range(len(x)):\n",
    "        d += pow(rankx[x[i]] - ranky[y[i]], 2)\n",
    "\n",
    "#     q = lambda n: map(lambda val: sorted(n).index(val) + 1 if val > 0.0 else 0, n)\n",
    "\n",
    "#     d = np.sum(list(map(lambda x, y: pow(x - y, 2), q(x), q(y))))\n",
    "\n",
    "    r =  1.0 - 6.0 * d / float(len(x) * (len(y) ** 2 - 1.0))\n",
    "\n",
    "    return r"
   ]
  },
  {
   "cell_type": "code",
   "execution_count": 43,
   "metadata": {},
   "outputs": [
    {
     "name": "stdout",
     "output_type": "stream",
     "text": [
      "Pearson:  (-0.0060510628860797975, 0.6094722480542086)\n",
      "Spearman:  0.015756248456367406\n",
      "Pearson:  -0.006051062886079796\n",
      "Spearman:  0.9999860718668466\n"
     ]
    }
   ],
   "source": [
    "#I don't calculate the spearman/pearson array again, take so much time, so im just checking that my function is true\n",
    "\n",
    "row_data = preprocessing(data.select('article').collect()[10][0])\n",
    "row_data2 = preprocessing(data.select('article').collect()[11][0])\n",
    "tfidf_query = vectorizer.transform([row_data]).toarray()\n",
    "tfidf_query2 = vectorizer.transform([row_data2]).toarray()\n",
    "\n",
    "corr = pearsonr(tfidf_query[0], tfidf_query2[0]) \n",
    "\n",
    "coef, _ = spearmanr(tfidf_query[0], tfidf_query2[0])\n",
    "\n",
    "print(\"Pearson: \", corr)\n",
    "print(\"Spearman: \", coef)\n",
    "\n",
    "corr = pearsonr_h(tfidf_query[0], tfidf_query2[0]) \n",
    "\n",
    "coef = spearmanr_h(tfidf_query[0], tfidf_query2[0])\n",
    "\n",
    "print(\"Pearson: \", corr)\n",
    "print(\"Spearman: \", coef)\n",
    "\n",
    "# _len = data.collect().__len__()\n",
    "# pearsonr_array_2 = np.empty([_len, _len])\n",
    "# spearmanr_array_2 = np.empty([_len, _len])\n",
    "\n",
    "# for row in range(_len):\n",
    "#     for col in range(row, _len):\n",
    "#         print(f'\\r{row}:{col}\\t', end='\\r')\n",
    "#         row_data = preprocessing(data.select('article').collect()[row][0])\n",
    "#         row_data2 = preprocessing(data.select('article').collect()[col][0])\n",
    "#         tfidf_query = vectorizer.transform([row_data]).toarray()\n",
    "#         tfidf_query2 = vectorizer.transform([row_data2]).toarray()\n",
    "#         corr = pearsonr_h(tfidf_query[0], tfidf_query2[0])        \n",
    "#         pearsonr_array_2[row][col] = corr\n",
    "#         pearsonr_array_2[col][row] = corr\n",
    "#         coef = spearmanr_h(tfidf_query[0], tfidf_query2[0])\n",
    "#         spearmanr_array_2[row][col] = coef\n",
    "#         spearmanr_array_2[col][row] = coef"
   ]
  },
  {
   "cell_type": "code",
   "execution_count": 44,
   "metadata": {},
   "outputs": [
    {
     "name": "stdout",
     "output_type": "stream",
     "text": [
      "Requirement already satisfied: seaborn in c:\\programdata\\anaconda3\\lib\\site-packages (0.10.1)\n",
      "Requirement already satisfied: scipy>=1.0.1 in c:\\programdata\\anaconda3\\lib\\site-packages (from seaborn) (1.5.0)\n",
      "Requirement already satisfied: numpy>=1.13.3 in c:\\programdata\\anaconda3\\lib\\site-packages (from seaborn) (1.18.5)\n",
      "Requirement already satisfied: pandas>=0.22.0 in c:\\programdata\\anaconda3\\lib\\site-packages (from seaborn) (1.0.5)\n",
      "Requirement already satisfied: matplotlib>=2.1.2 in c:\\programdata\\anaconda3\\lib\\site-packages (from seaborn) (3.2.2)\n",
      "Requirement already satisfied: python-dateutil>=2.6.1 in c:\\programdata\\anaconda3\\lib\\site-packages (from pandas>=0.22.0->seaborn) (2.8.1)\n",
      "Requirement already satisfied: pytz>=2017.2 in c:\\programdata\\anaconda3\\lib\\site-packages (from pandas>=0.22.0->seaborn) (2020.1)\n",
      "Requirement already satisfied: cycler>=0.10 in c:\\programdata\\anaconda3\\lib\\site-packages (from matplotlib>=2.1.2->seaborn) (0.10.0)\n",
      "Requirement already satisfied: kiwisolver>=1.0.1 in c:\\programdata\\anaconda3\\lib\\site-packages (from matplotlib>=2.1.2->seaborn) (1.2.0)\n",
      "Requirement already satisfied: pyparsing!=2.0.4,!=2.1.2,!=2.1.6,>=2.0.1 in c:\\programdata\\anaconda3\\lib\\site-packages (from matplotlib>=2.1.2->seaborn) (2.4.7)\n",
      "Requirement already satisfied: six>=1.5 in c:\\programdata\\anaconda3\\lib\\site-packages (from python-dateutil>=2.6.1->pandas>=0.22.0->seaborn) (1.15.0)\n"
     ]
    }
   ],
   "source": [
    "!pip install seaborn"
   ]
  },
  {
   "cell_type": "code",
   "execution_count": 45,
   "metadata": {},
   "outputs": [],
   "source": [
    "import seaborn as sb"
   ]
  },
  {
   "cell_type": "code",
   "execution_count": 46,
   "metadata": {
    "id": "DQz1uZ-ZKfcA"
   },
   "outputs": [
    {
     "data": {
      "image/png": "[encoded data removed]",
      "text/plain": [
       "<Figure size 432x288 with 2 Axes>"
      ]
     },
     "metadata": {
      "needs_background": "light"
     },
     "output_type": "display_data"
    }
   ],
   "source": [
    "heat_map = sb.heatmap(pearsonr_array)"
   ]
  },
  {
   "cell_type": "code",
   "execution_count": 47,
   "metadata": {
    "id": "SSvvS26KVaTL"
   },
   "outputs": [
    {
     "data": {
      "image/png": "[encoded data removed]",
      "text/plain": [
       "<Figure size 432x288 with 2 Axes>"
      ]
     },
     "metadata": {
      "needs_background": "light"
     },
     "output_type": "display_data"
    }
   ],
   "source": [
    "heat_map = sb.heatmap(spearmanr_array)"
   ]
  },
  {
   "cell_type": "markdown",
   "metadata": {
    "id": "wLepfb6TVb-H"
   },
   "source": [
    "##### 5. Dự đoán và đánh giá\n",
    "###### a. Naive Bayes"
   ]
  },
  {
   "cell_type": "code",
   "execution_count": 48,
   "metadata": {
    "id": "PXg40PrOViSQ"
   },
   "outputs": [],
   "source": [
    "_len = data.collect().__len__()\n",
    "X = []\n",
    "\n",
    "for row in data.select('article').collect()[:-10]:\n",
    "    row_data = preprocessing(row[0])\n",
    "    tfidf_query = vectorizer.transform([row_data]).toarray()\n",
    "    X += tfidf_query.tolist()\n",
    "    \n",
    "X = np.array(X)"
   ]
  },
  {
   "cell_type": "code",
   "execution_count": 49,
   "metadata": {
    "id": "mKmjCL4hVkRm"
   },
   "outputs": [],
   "source": [
    "Y = []\n",
    "_dict = list(set([i[0] if i[0].__len__() < 20 else \"Undefine\"  for i in data.select('category').collect()]))\n",
    "\n",
    "for i in data.select('category').collect()[:-10]:\n",
    "    if i[0].__len__() < 20:\n",
    "        Y.append(_dict.index(i[0]))\n",
    "    else:\n",
    "        Y.append(_dict.index(\"Undefine\"))\n",
    "\n",
    "        \n",
    "Y = np.array(Y)"
   ]
  },
  {
   "cell_type": "code",
   "execution_count": 50,
   "metadata": {
    "id": "GLPN3Uy4Vlt_"
   },
   "outputs": [],
   "source": [
    "from sklearn.naive_bayes import GaussianNB\n",
    "from sklearn.model_selection import train_test_split"
   ]
  },
  {
   "cell_type": "code",
   "execution_count": 51,
   "metadata": {
    "id": "8TcQgTp4VnBT"
   },
   "outputs": [
    {
     "data": {
      "text/plain": [
       "GaussianNB()"
      ]
     },
     "execution_count": 51,
     "metadata": {},
     "output_type": "execute_result"
    }
   ],
   "source": [
    "clf = GaussianNB()\n",
    "clf.fit(X, Y)"
   ]
  },
  {
   "cell_type": "code",
   "execution_count": 88,
   "metadata": {
    "id": "7FkaIkEQVoqS"
   },
   "outputs": [],
   "source": [
    "X_test = []\n",
    "for row in data.select('article').collect()[-9:]:\n",
    "    row_data = preprocessing(row[0])\n",
    "    tfidf_query = vectorizer.transform([row_data]).toarray()\n",
    "    X_test.append(tfidf_query.tolist())"
   ]
  },
  {
   "cell_type": "code",
   "execution_count": 89,
   "metadata": {
    "id": "EKmP5N3LVpsI"
   },
   "outputs": [
    {
     "name": "stdout",
     "output_type": "stream",
     "text": [
      "True label: ['Giải trí', 'Số hóa', 'Số hóa', 'Số hóa', 'Số hóa', 'Số hóa', 'Số hóa', 'Số hóa', 'Thời sự']\n"
     ]
    }
   ],
   "source": [
    "label = data.select('category').collect()[-9:]\n",
    "true_label = [x[0] for x in label]\n",
    "print(\"True label:\", true_label)"
   ]
  },
  {
   "cell_type": "code",
   "execution_count": 90,
   "metadata": {},
   "outputs": [
    {
     "name": "stdout",
     "output_type": "stream",
     "text": [
      "Predict label: ['Giải trí', 'Số hóa', 'Số hóa', 'Số hóa', 'Số hóa', 'Số hóa', 'Số hóa', 'Số hóa', 'Thời sự']\n"
     ]
    }
   ],
   "source": [
    "pred_label = []\n",
    "for x_t in X_test:\n",
    "    pred_label.append(_dict[int(clf.predict(x_t))])\n",
    "print(\"Predict label:\", pred_label)"
   ]
  },
  {
   "cell_type": "markdown",
   "metadata": {
    "id": "uCe3ayC2VsXJ"
   },
   "source": [
    "###### b. Đánh giá\n",
    "Hàm đánh giá viết tay:"
   ]
  },
  {
   "cell_type": "code",
   "execution_count": 91,
   "metadata": {
    "id": "nCs1r2jbWl-2"
   },
   "outputs": [],
   "source": [
    "def tp_fp_fn(y_true, y_pred):\n",
    "    #Calculate the precision\n",
    "    #it's also known as accuracy\n",
    "    tp = {}\n",
    "    fp = {}\n",
    "    fn = {}\n",
    "    for label in np.unique(y_true):\n",
    "        if label not in tp:\n",
    "            tp[label] = 0\n",
    "        if label not in fp:\n",
    "            fp[label] = 0\n",
    "        if label not in fn:\n",
    "            fn[label] = 0\n",
    "        #count true positive\n",
    "        for i in range(len(y_pred)):\n",
    "            if (y_pred[i] == y_true[i] == label):\n",
    "                tp[label] += 1\n",
    "    #count false negative\n",
    "    for i in range(len(y_pred)):\n",
    "        if (y_pred[i] != y_true[i]):\n",
    "            if y_pred[i] in fn:\n",
    "                fn[y_pred[i]] += 1\n",
    "            else:\n",
    "                fn[y_pred[i]] = 1\n",
    "    #count false positive\n",
    "    for i in range(len(y_true)):\n",
    "        if (y_pred[i] != y_true[i]):\n",
    "            if y_pred[i] in fn:\n",
    "                fp[y_true[i]] += 1\n",
    "            else:\n",
    "                fp[y_true[i]] = 1\n",
    "    return tp, fp, fn"
   ]
  },
  {
   "cell_type": "code",
   "execution_count": 92,
   "metadata": {},
   "outputs": [],
   "source": [
    "def PR(tp, fp, fn):\n",
    "    try:\n",
    "        #calculate precision/recall\n",
    "        P = float(tp)/(tp + fp)\n",
    "        R = float(tp)/(tp + fn)\n",
    "    except ZeroDivisionError:\n",
    "        P = 0.0\n",
    "        R = 0.0\n",
    "    return (P, R)"
   ]
  },
  {
   "cell_type": "code",
   "execution_count": 93,
   "metadata": {
    "id": "Gw7Fn5KnZaFz"
   },
   "outputs": [],
   "source": [
    "def my_f1(y_true, y_pred):\n",
    "    tp, fp, fn = tp_fp_fn(y_true, y_pred)\n",
    "    f_1 = []\n",
    "    for field in tp:\n",
    "        P, R = PR(tp[field], fp[field], fn[field])\n",
    "        try:\n",
    "            f_1.append(2 * P * R / (P + R))\n",
    "        except ZeroDivisionError:\n",
    "            f_1.append(0.0)\n",
    "    return f_1"
   ]
  },
  {
   "cell_type": "code",
   "execution_count": 94,
   "metadata": {
    "id": "h4UQ7yP_WLQZ"
   },
   "outputs": [],
   "source": [
    "def my_acc(y_true, y_pred):\n",
    "    #Count sum\n",
    "    correct = 0\n",
    "    for i in range(len(y_true)):\n",
    "        if y_true[i] == y_pred[i]:\n",
    "            correct += 1\n",
    "    return float(correct)/len(y_true)"
   ]
  },
  {
   "cell_type": "code",
   "execution_count": 95,
   "metadata": {
    "id": "pZvh8hayV02I"
   },
   "outputs": [],
   "source": [
    "def my_confusion_matrix(y_true, y_pred):\n",
    "    if len(np.unique(y_true)) > len(np.unique(y_pred)):\n",
    "        N = np.unique(y_true) # number of classes \n",
    "    else:\n",
    "        N = np.unique(y_pred)\n",
    "    cm = np.zeros((len(N), len(N)))\n",
    "    for n in range(len(y_true)):\n",
    "        cm[N.tolist().index(y_true[n]), N.tolist().index(y_pred[n])] += 1\n",
    "    return cm"
   ]
  },
  {
   "cell_type": "code",
   "execution_count": 96,
   "metadata": {
    "id": "-HyWNXt4WecW"
   },
   "outputs": [],
   "source": [
    "def conf_matrix_acc(cnf_matrix):\n",
    "    #return confusion matrix accuracy\n",
    "    return np.diagonal(cnf_matrix).sum()/cnf_matrix.sum()"
   ]
  },
  {
   "cell_type": "code",
   "execution_count": 97,
   "metadata": {
    "id": "Ojr5F4qeVu6I"
   },
   "outputs": [],
   "source": [
    "from sklearn.metrics import accuracy_score, confusion_matrix, f1_score #For checking"
   ]
  },
  {
   "cell_type": "code",
   "execution_count": 98,
   "metadata": {
    "id": "UHRQWzkgVwVP"
   },
   "outputs": [],
   "source": [
    "y_pred = [_dict.index(pred_) for pred_ in pred_label]\n",
    "y_true = [_dict.index(true_) for true_ in true_label]"
   ]
  },
  {
   "cell_type": "code",
   "execution_count": 99,
   "metadata": {
    "id": "PllzdUCFVzZA"
   },
   "outputs": [
    {
     "name": "stdout",
     "output_type": "stream",
     "text": [
      "1.0\n",
      "[[7 0 0]\n",
      " [0 1 0]\n",
      " [0 0 1]]\n",
      "[1. 1. 1.]\n"
     ]
    }
   ],
   "source": [
    "print(accuracy_score(y_true, y_pred))\n",
    "print(confusion_matrix(y_true, y_pred))\n",
    "print(f1_score(y_true, y_pred, average=None))"
   ]
  },
  {
   "cell_type": "code",
   "execution_count": 100,
   "metadata": {
    "id": "zrQ2Vt_6ZhhP"
   },
   "outputs": [
    {
     "name": "stdout",
     "output_type": "stream",
     "text": [
      "1.0\n",
      "[[7. 0. 0.]\n",
      " [0. 1. 0.]\n",
      " [0. 0. 1.]]\n",
      "[1.0, 1.0, 1.0]\n"
     ]
    }
   ],
   "source": [
    "print(my_acc(y_true, y_pred))\n",
    "print(my_confusion_matrix(y_true, y_pred))\n",
    "print(my_f1(y_true, y_pred))"
   ]
  },
  {
   "cell_type": "markdown",
   "metadata": {
    "id": "BBqjlgP_aH0H"
   },
   "source": [
    "### Bài 2"
   ]
  },
  {
   "cell_type": "code",
   "execution_count": 101,
   "metadata": {
    "id": "BAXdNBU5aLc_"
   },
   "outputs": [],
   "source": [
    "d_viewer = {}\n",
    "for j in [i[0] for i in data.select('viewer').collect() if i[0] != None]:\n",
    "    for k in j.split(', '):\n",
    "        d_viewer[k] = []"
   ]
  },
  {
   "cell_type": "code",
   "execution_count": 102,
   "metadata": {
    "id": "wE6MZaaZaNDV"
   },
   "outputs": [],
   "source": [
    "df_viewer = pd.DataFrame(data=d_viewer)"
   ]
  },
  {
   "cell_type": "code",
   "execution_count": 103,
   "metadata": {
    "id": "mQ1JsJRRaOf-"
   },
   "outputs": [],
   "source": [
    "for i in data.select('viewer').collect():\n",
    "    d_tmp = {}\n",
    "    for k in df_viewer.columns:\n",
    "        d_tmp[k] = [False]\n",
    "        \n",
    "        if i[0] != None:\n",
    "            if k in i[0].split(\", \"):\n",
    "                d_tmp[k] = [True]\n",
    "    \n",
    "    df_tmp = pd.DataFrame(data=d_tmp)\n",
    "    df_viewer = df_viewer.append(df_tmp, ignore_index=True)"
   ]
  },
  {
   "cell_type": "code",
   "execution_count": 104,
   "metadata": {},
   "outputs": [
    {
     "data": {
      "text/html": [
       "<div>\n",
       "<style scoped>\n",
       "    .dataframe tbody tr th:only-of-type {\n",
       "        vertical-align: middle;\n",
       "    }\n",
       "\n",
       "    .dataframe tbody tr th {\n",
       "        vertical-align: top;\n",
       "    }\n",
       "\n",
       "    .dataframe thead th {\n",
       "        text-align: right;\n",
       "    }\n",
       "</style>\n",
       "<table border=\"1\" class=\"dataframe\">\n",
       "  <thead>\n",
       "    <tr style=\"text-align: right;\">\n",
       "      <th></th>\n",
       "      <th>['omega'</th>\n",
       "      <th>'Mai Nguyễn'</th>\n",
       "      <th>'Ph Trung'</th>\n",
       "      <th>'Hương'</th>\n",
       "      <th>'Chung Nguyen'</th>\n",
       "      <th>'Marco Max'</th>\n",
       "      <th>'Thanh Thanh'</th>\n",
       "      <th>'Ác Mộng Pép Si']</th>\n",
       "      <th>['kts.lyquochung'</th>\n",
       "      <th>'Nguyễn Đình Mùi'</th>\n",
       "      <th>...</th>\n",
       "      <th>'Chương Hoàng'</th>\n",
       "      <th>'stonecool1988'</th>\n",
       "      <th>'Nguyễn Hân'</th>\n",
       "      <th>'Bủm'</th>\n",
       "      <th>'trungnguyen'</th>\n",
       "      <th>'Son Lan'</th>\n",
       "      <th>'Danh Tran Van'</th>\n",
       "      <th>'Mr_Che'</th>\n",
       "      <th>'Phan Cường'</th>\n",
       "      <th>'Quang Minh']</th>\n",
       "    </tr>\n",
       "  </thead>\n",
       "  <tbody>\n",
       "    <tr>\n",
       "      <th>0</th>\n",
       "      <td>1.0</td>\n",
       "      <td>1.0</td>\n",
       "      <td>1.0</td>\n",
       "      <td>1.0</td>\n",
       "      <td>1.0</td>\n",
       "      <td>1.0</td>\n",
       "      <td>1.0</td>\n",
       "      <td>1.0</td>\n",
       "      <td>0.0</td>\n",
       "      <td>0.0</td>\n",
       "      <td>...</td>\n",
       "      <td>0.0</td>\n",
       "      <td>0.0</td>\n",
       "      <td>0.0</td>\n",
       "      <td>0.0</td>\n",
       "      <td>0.0</td>\n",
       "      <td>0.0</td>\n",
       "      <td>0.0</td>\n",
       "      <td>0.0</td>\n",
       "      <td>0.0</td>\n",
       "      <td>0.0</td>\n",
       "    </tr>\n",
       "    <tr>\n",
       "      <th>1</th>\n",
       "      <td>0.0</td>\n",
       "      <td>0.0</td>\n",
       "      <td>0.0</td>\n",
       "      <td>0.0</td>\n",
       "      <td>0.0</td>\n",
       "      <td>0.0</td>\n",
       "      <td>0.0</td>\n",
       "      <td>0.0</td>\n",
       "      <td>1.0</td>\n",
       "      <td>1.0</td>\n",
       "      <td>...</td>\n",
       "      <td>0.0</td>\n",
       "      <td>0.0</td>\n",
       "      <td>0.0</td>\n",
       "      <td>0.0</td>\n",
       "      <td>0.0</td>\n",
       "      <td>0.0</td>\n",
       "      <td>0.0</td>\n",
       "      <td>0.0</td>\n",
       "      <td>0.0</td>\n",
       "      <td>0.0</td>\n",
       "    </tr>\n",
       "    <tr>\n",
       "      <th>2</th>\n",
       "      <td>0.0</td>\n",
       "      <td>0.0</td>\n",
       "      <td>0.0</td>\n",
       "      <td>0.0</td>\n",
       "      <td>0.0</td>\n",
       "      <td>0.0</td>\n",
       "      <td>0.0</td>\n",
       "      <td>0.0</td>\n",
       "      <td>0.0</td>\n",
       "      <td>0.0</td>\n",
       "      <td>...</td>\n",
       "      <td>0.0</td>\n",
       "      <td>0.0</td>\n",
       "      <td>0.0</td>\n",
       "      <td>0.0</td>\n",
       "      <td>0.0</td>\n",
       "      <td>0.0</td>\n",
       "      <td>0.0</td>\n",
       "      <td>0.0</td>\n",
       "      <td>0.0</td>\n",
       "      <td>0.0</td>\n",
       "    </tr>\n",
       "    <tr>\n",
       "      <th>3</th>\n",
       "      <td>0.0</td>\n",
       "      <td>0.0</td>\n",
       "      <td>0.0</td>\n",
       "      <td>0.0</td>\n",
       "      <td>0.0</td>\n",
       "      <td>0.0</td>\n",
       "      <td>0.0</td>\n",
       "      <td>0.0</td>\n",
       "      <td>0.0</td>\n",
       "      <td>0.0</td>\n",
       "      <td>...</td>\n",
       "      <td>0.0</td>\n",
       "      <td>0.0</td>\n",
       "      <td>0.0</td>\n",
       "      <td>0.0</td>\n",
       "      <td>0.0</td>\n",
       "      <td>0.0</td>\n",
       "      <td>0.0</td>\n",
       "      <td>0.0</td>\n",
       "      <td>0.0</td>\n",
       "      <td>0.0</td>\n",
       "    </tr>\n",
       "    <tr>\n",
       "      <th>4</th>\n",
       "      <td>0.0</td>\n",
       "      <td>0.0</td>\n",
       "      <td>0.0</td>\n",
       "      <td>0.0</td>\n",
       "      <td>0.0</td>\n",
       "      <td>0.0</td>\n",
       "      <td>0.0</td>\n",
       "      <td>0.0</td>\n",
       "      <td>0.0</td>\n",
       "      <td>0.0</td>\n",
       "      <td>...</td>\n",
       "      <td>0.0</td>\n",
       "      <td>0.0</td>\n",
       "      <td>0.0</td>\n",
       "      <td>0.0</td>\n",
       "      <td>0.0</td>\n",
       "      <td>0.0</td>\n",
       "      <td>0.0</td>\n",
       "      <td>0.0</td>\n",
       "      <td>0.0</td>\n",
       "      <td>0.0</td>\n",
       "    </tr>\n",
       "    <tr>\n",
       "      <th>...</th>\n",
       "      <td>...</td>\n",
       "      <td>...</td>\n",
       "      <td>...</td>\n",
       "      <td>...</td>\n",
       "      <td>...</td>\n",
       "      <td>...</td>\n",
       "      <td>...</td>\n",
       "      <td>...</td>\n",
       "      <td>...</td>\n",
       "      <td>...</td>\n",
       "      <td>...</td>\n",
       "      <td>...</td>\n",
       "      <td>...</td>\n",
       "      <td>...</td>\n",
       "      <td>...</td>\n",
       "      <td>...</td>\n",
       "      <td>...</td>\n",
       "      <td>...</td>\n",
       "      <td>...</td>\n",
       "      <td>...</td>\n",
       "      <td>...</td>\n",
       "    </tr>\n",
       "    <tr>\n",
       "      <th>248</th>\n",
       "      <td>0.0</td>\n",
       "      <td>0.0</td>\n",
       "      <td>0.0</td>\n",
       "      <td>0.0</td>\n",
       "      <td>0.0</td>\n",
       "      <td>0.0</td>\n",
       "      <td>0.0</td>\n",
       "      <td>0.0</td>\n",
       "      <td>0.0</td>\n",
       "      <td>0.0</td>\n",
       "      <td>...</td>\n",
       "      <td>0.0</td>\n",
       "      <td>0.0</td>\n",
       "      <td>0.0</td>\n",
       "      <td>0.0</td>\n",
       "      <td>0.0</td>\n",
       "      <td>0.0</td>\n",
       "      <td>0.0</td>\n",
       "      <td>0.0</td>\n",
       "      <td>0.0</td>\n",
       "      <td>0.0</td>\n",
       "    </tr>\n",
       "    <tr>\n",
       "      <th>249</th>\n",
       "      <td>0.0</td>\n",
       "      <td>0.0</td>\n",
       "      <td>0.0</td>\n",
       "      <td>0.0</td>\n",
       "      <td>0.0</td>\n",
       "      <td>0.0</td>\n",
       "      <td>0.0</td>\n",
       "      <td>0.0</td>\n",
       "      <td>0.0</td>\n",
       "      <td>0.0</td>\n",
       "      <td>...</td>\n",
       "      <td>0.0</td>\n",
       "      <td>0.0</td>\n",
       "      <td>0.0</td>\n",
       "      <td>0.0</td>\n",
       "      <td>0.0</td>\n",
       "      <td>0.0</td>\n",
       "      <td>0.0</td>\n",
       "      <td>0.0</td>\n",
       "      <td>0.0</td>\n",
       "      <td>0.0</td>\n",
       "    </tr>\n",
       "    <tr>\n",
       "      <th>250</th>\n",
       "      <td>0.0</td>\n",
       "      <td>0.0</td>\n",
       "      <td>0.0</td>\n",
       "      <td>0.0</td>\n",
       "      <td>0.0</td>\n",
       "      <td>0.0</td>\n",
       "      <td>0.0</td>\n",
       "      <td>0.0</td>\n",
       "      <td>0.0</td>\n",
       "      <td>0.0</td>\n",
       "      <td>...</td>\n",
       "      <td>0.0</td>\n",
       "      <td>0.0</td>\n",
       "      <td>0.0</td>\n",
       "      <td>0.0</td>\n",
       "      <td>0.0</td>\n",
       "      <td>0.0</td>\n",
       "      <td>0.0</td>\n",
       "      <td>0.0</td>\n",
       "      <td>0.0</td>\n",
       "      <td>0.0</td>\n",
       "    </tr>\n",
       "    <tr>\n",
       "      <th>251</th>\n",
       "      <td>0.0</td>\n",
       "      <td>0.0</td>\n",
       "      <td>0.0</td>\n",
       "      <td>0.0</td>\n",
       "      <td>0.0</td>\n",
       "      <td>0.0</td>\n",
       "      <td>0.0</td>\n",
       "      <td>0.0</td>\n",
       "      <td>0.0</td>\n",
       "      <td>0.0</td>\n",
       "      <td>...</td>\n",
       "      <td>0.0</td>\n",
       "      <td>0.0</td>\n",
       "      <td>0.0</td>\n",
       "      <td>0.0</td>\n",
       "      <td>0.0</td>\n",
       "      <td>0.0</td>\n",
       "      <td>0.0</td>\n",
       "      <td>0.0</td>\n",
       "      <td>0.0</td>\n",
       "      <td>0.0</td>\n",
       "    </tr>\n",
       "    <tr>\n",
       "      <th>252</th>\n",
       "      <td>0.0</td>\n",
       "      <td>0.0</td>\n",
       "      <td>0.0</td>\n",
       "      <td>0.0</td>\n",
       "      <td>0.0</td>\n",
       "      <td>0.0</td>\n",
       "      <td>0.0</td>\n",
       "      <td>0.0</td>\n",
       "      <td>0.0</td>\n",
       "      <td>0.0</td>\n",
       "      <td>...</td>\n",
       "      <td>1.0</td>\n",
       "      <td>1.0</td>\n",
       "      <td>1.0</td>\n",
       "      <td>1.0</td>\n",
       "      <td>1.0</td>\n",
       "      <td>1.0</td>\n",
       "      <td>1.0</td>\n",
       "      <td>1.0</td>\n",
       "      <td>1.0</td>\n",
       "      <td>1.0</td>\n",
       "    </tr>\n",
       "  </tbody>\n",
       "</table>\n",
       "<p>253 rows × 1330 columns</p>\n",
       "</div>"
      ],
      "text/plain": [
       "     ['omega'  'Mai Nguyễn'  'Ph Trung'  'Hương'  'Chung Nguyen'  'Marco Max'  \\\n",
       "0         1.0           1.0         1.0      1.0             1.0          1.0   \n",
       "1         0.0           0.0         0.0      0.0             0.0          0.0   \n",
       "2         0.0           0.0         0.0      0.0             0.0          0.0   \n",
       "3         0.0           0.0         0.0      0.0             0.0          0.0   \n",
       "4         0.0           0.0         0.0      0.0             0.0          0.0   \n",
       "..        ...           ...         ...      ...             ...          ...   \n",
       "248       0.0           0.0         0.0      0.0             0.0          0.0   \n",
       "249       0.0           0.0         0.0      0.0             0.0          0.0   \n",
       "250       0.0           0.0         0.0      0.0             0.0          0.0   \n",
       "251       0.0           0.0         0.0      0.0             0.0          0.0   \n",
       "252       0.0           0.0         0.0      0.0             0.0          0.0   \n",
       "\n",
       "     'Thanh Thanh'  'Ác Mộng Pép Si']  ['kts.lyquochung'  'Nguyễn Đình Mùi'  \\\n",
       "0              1.0                1.0                0.0                0.0   \n",
       "1              0.0                0.0                1.0                1.0   \n",
       "2              0.0                0.0                0.0                0.0   \n",
       "3              0.0                0.0                0.0                0.0   \n",
       "4              0.0                0.0                0.0                0.0   \n",
       "..             ...                ...                ...                ...   \n",
       "248            0.0                0.0                0.0                0.0   \n",
       "249            0.0                0.0                0.0                0.0   \n",
       "250            0.0                0.0                0.0                0.0   \n",
       "251            0.0                0.0                0.0                0.0   \n",
       "252            0.0                0.0                0.0                0.0   \n",
       "\n",
       "     ...  'Chương Hoàng'  'stonecool1988'  'Nguyễn Hân'  'Bủm'  'trungnguyen'  \\\n",
       "0    ...             0.0              0.0           0.0    0.0            0.0   \n",
       "1    ...             0.0              0.0           0.0    0.0            0.0   \n",
       "2    ...             0.0              0.0           0.0    0.0            0.0   \n",
       "3    ...             0.0              0.0           0.0    0.0            0.0   \n",
       "4    ...             0.0              0.0           0.0    0.0            0.0   \n",
       "..   ...             ...              ...           ...    ...            ...   \n",
       "248  ...             0.0              0.0           0.0    0.0            0.0   \n",
       "249  ...             0.0              0.0           0.0    0.0            0.0   \n",
       "250  ...             0.0              0.0           0.0    0.0            0.0   \n",
       "251  ...             0.0              0.0           0.0    0.0            0.0   \n",
       "252  ...             1.0              1.0           1.0    1.0            1.0   \n",
       "\n",
       "     'Son Lan'  'Danh Tran Van'  'Mr_Che'  'Phan Cường'  'Quang Minh']  \n",
       "0          0.0              0.0       0.0           0.0            0.0  \n",
       "1          0.0              0.0       0.0           0.0            0.0  \n",
       "2          0.0              0.0       0.0           0.0            0.0  \n",
       "3          0.0              0.0       0.0           0.0            0.0  \n",
       "4          0.0              0.0       0.0           0.0            0.0  \n",
       "..         ...              ...       ...           ...            ...  \n",
       "248        0.0              0.0       0.0           0.0            0.0  \n",
       "249        0.0              0.0       0.0           0.0            0.0  \n",
       "250        0.0              0.0       0.0           0.0            0.0  \n",
       "251        0.0              0.0       0.0           0.0            0.0  \n",
       "252        1.0              1.0       1.0           1.0            1.0  \n",
       "\n",
       "[253 rows x 1330 columns]"
      ]
     },
     "execution_count": 104,
     "metadata": {},
     "output_type": "execute_result"
    }
   ],
   "source": [
    "df_viewer"
   ]
  },
  {
   "cell_type": "code",
   "execution_count": 105,
   "metadata": {
    "id": "IrJwBYWbaQWe"
   },
   "outputs": [
    {
     "data": {
      "text/html": [
       "<div>\n",
       "<style scoped>\n",
       "    .dataframe tbody tr th:only-of-type {\n",
       "        vertical-align: middle;\n",
       "    }\n",
       "\n",
       "    .dataframe tbody tr th {\n",
       "        vertical-align: top;\n",
       "    }\n",
       "\n",
       "    .dataframe thead th {\n",
       "        text-align: right;\n",
       "    }\n",
       "</style>\n",
       "<table border=\"1\" class=\"dataframe\">\n",
       "  <thead>\n",
       "    <tr style=\"text-align: right;\">\n",
       "      <th></th>\n",
       "      <th>0</th>\n",
       "      <th>1</th>\n",
       "      <th>2</th>\n",
       "      <th>3</th>\n",
       "      <th>4</th>\n",
       "      <th>5</th>\n",
       "      <th>6</th>\n",
       "      <th>7</th>\n",
       "      <th>8</th>\n",
       "      <th>9</th>\n",
       "      <th>...</th>\n",
       "      <th>243</th>\n",
       "      <th>244</th>\n",
       "      <th>245</th>\n",
       "      <th>246</th>\n",
       "      <th>247</th>\n",
       "      <th>248</th>\n",
       "      <th>249</th>\n",
       "      <th>250</th>\n",
       "      <th>251</th>\n",
       "      <th>252</th>\n",
       "    </tr>\n",
       "  </thead>\n",
       "  <tbody>\n",
       "    <tr>\n",
       "      <th>['omega'</th>\n",
       "      <td>1.0</td>\n",
       "      <td>0.0</td>\n",
       "      <td>0.0</td>\n",
       "      <td>0.0</td>\n",
       "      <td>0.0</td>\n",
       "      <td>0.0</td>\n",
       "      <td>0.0</td>\n",
       "      <td>0.0</td>\n",
       "      <td>0.0</td>\n",
       "      <td>0.0</td>\n",
       "      <td>...</td>\n",
       "      <td>0.0</td>\n",
       "      <td>0.0</td>\n",
       "      <td>0.0</td>\n",
       "      <td>0.0</td>\n",
       "      <td>0.0</td>\n",
       "      <td>0.0</td>\n",
       "      <td>0.0</td>\n",
       "      <td>0.0</td>\n",
       "      <td>0.0</td>\n",
       "      <td>0.0</td>\n",
       "    </tr>\n",
       "    <tr>\n",
       "      <th>'Mai Nguyễn'</th>\n",
       "      <td>1.0</td>\n",
       "      <td>0.0</td>\n",
       "      <td>0.0</td>\n",
       "      <td>0.0</td>\n",
       "      <td>0.0</td>\n",
       "      <td>0.0</td>\n",
       "      <td>0.0</td>\n",
       "      <td>0.0</td>\n",
       "      <td>0.0</td>\n",
       "      <td>0.0</td>\n",
       "      <td>...</td>\n",
       "      <td>0.0</td>\n",
       "      <td>0.0</td>\n",
       "      <td>0.0</td>\n",
       "      <td>0.0</td>\n",
       "      <td>0.0</td>\n",
       "      <td>0.0</td>\n",
       "      <td>0.0</td>\n",
       "      <td>0.0</td>\n",
       "      <td>0.0</td>\n",
       "      <td>0.0</td>\n",
       "    </tr>\n",
       "    <tr>\n",
       "      <th>'Ph Trung'</th>\n",
       "      <td>1.0</td>\n",
       "      <td>0.0</td>\n",
       "      <td>0.0</td>\n",
       "      <td>0.0</td>\n",
       "      <td>0.0</td>\n",
       "      <td>0.0</td>\n",
       "      <td>0.0</td>\n",
       "      <td>0.0</td>\n",
       "      <td>0.0</td>\n",
       "      <td>0.0</td>\n",
       "      <td>...</td>\n",
       "      <td>0.0</td>\n",
       "      <td>0.0</td>\n",
       "      <td>0.0</td>\n",
       "      <td>0.0</td>\n",
       "      <td>0.0</td>\n",
       "      <td>0.0</td>\n",
       "      <td>0.0</td>\n",
       "      <td>0.0</td>\n",
       "      <td>0.0</td>\n",
       "      <td>0.0</td>\n",
       "    </tr>\n",
       "    <tr>\n",
       "      <th>'Hương'</th>\n",
       "      <td>1.0</td>\n",
       "      <td>0.0</td>\n",
       "      <td>0.0</td>\n",
       "      <td>0.0</td>\n",
       "      <td>0.0</td>\n",
       "      <td>0.0</td>\n",
       "      <td>0.0</td>\n",
       "      <td>0.0</td>\n",
       "      <td>0.0</td>\n",
       "      <td>0.0</td>\n",
       "      <td>...</td>\n",
       "      <td>0.0</td>\n",
       "      <td>0.0</td>\n",
       "      <td>0.0</td>\n",
       "      <td>0.0</td>\n",
       "      <td>0.0</td>\n",
       "      <td>0.0</td>\n",
       "      <td>0.0</td>\n",
       "      <td>0.0</td>\n",
       "      <td>0.0</td>\n",
       "      <td>0.0</td>\n",
       "    </tr>\n",
       "    <tr>\n",
       "      <th>'Chung Nguyen'</th>\n",
       "      <td>1.0</td>\n",
       "      <td>0.0</td>\n",
       "      <td>0.0</td>\n",
       "      <td>0.0</td>\n",
       "      <td>0.0</td>\n",
       "      <td>0.0</td>\n",
       "      <td>0.0</td>\n",
       "      <td>0.0</td>\n",
       "      <td>0.0</td>\n",
       "      <td>0.0</td>\n",
       "      <td>...</td>\n",
       "      <td>0.0</td>\n",
       "      <td>0.0</td>\n",
       "      <td>0.0</td>\n",
       "      <td>0.0</td>\n",
       "      <td>0.0</td>\n",
       "      <td>0.0</td>\n",
       "      <td>0.0</td>\n",
       "      <td>0.0</td>\n",
       "      <td>0.0</td>\n",
       "      <td>0.0</td>\n",
       "    </tr>\n",
       "    <tr>\n",
       "      <th>...</th>\n",
       "      <td>...</td>\n",
       "      <td>...</td>\n",
       "      <td>...</td>\n",
       "      <td>...</td>\n",
       "      <td>...</td>\n",
       "      <td>...</td>\n",
       "      <td>...</td>\n",
       "      <td>...</td>\n",
       "      <td>...</td>\n",
       "      <td>...</td>\n",
       "      <td>...</td>\n",
       "      <td>...</td>\n",
       "      <td>...</td>\n",
       "      <td>...</td>\n",
       "      <td>...</td>\n",
       "      <td>...</td>\n",
       "      <td>...</td>\n",
       "      <td>...</td>\n",
       "      <td>...</td>\n",
       "      <td>...</td>\n",
       "      <td>...</td>\n",
       "    </tr>\n",
       "    <tr>\n",
       "      <th>'Son Lan'</th>\n",
       "      <td>0.0</td>\n",
       "      <td>0.0</td>\n",
       "      <td>0.0</td>\n",
       "      <td>0.0</td>\n",
       "      <td>0.0</td>\n",
       "      <td>0.0</td>\n",
       "      <td>0.0</td>\n",
       "      <td>0.0</td>\n",
       "      <td>0.0</td>\n",
       "      <td>0.0</td>\n",
       "      <td>...</td>\n",
       "      <td>0.0</td>\n",
       "      <td>0.0</td>\n",
       "      <td>0.0</td>\n",
       "      <td>0.0</td>\n",
       "      <td>0.0</td>\n",
       "      <td>0.0</td>\n",
       "      <td>0.0</td>\n",
       "      <td>0.0</td>\n",
       "      <td>0.0</td>\n",
       "      <td>1.0</td>\n",
       "    </tr>\n",
       "    <tr>\n",
       "      <th>'Danh Tran Van'</th>\n",
       "      <td>0.0</td>\n",
       "      <td>0.0</td>\n",
       "      <td>0.0</td>\n",
       "      <td>0.0</td>\n",
       "      <td>0.0</td>\n",
       "      <td>0.0</td>\n",
       "      <td>0.0</td>\n",
       "      <td>0.0</td>\n",
       "      <td>0.0</td>\n",
       "      <td>0.0</td>\n",
       "      <td>...</td>\n",
       "      <td>0.0</td>\n",
       "      <td>0.0</td>\n",
       "      <td>0.0</td>\n",
       "      <td>0.0</td>\n",
       "      <td>0.0</td>\n",
       "      <td>0.0</td>\n",
       "      <td>0.0</td>\n",
       "      <td>0.0</td>\n",
       "      <td>0.0</td>\n",
       "      <td>1.0</td>\n",
       "    </tr>\n",
       "    <tr>\n",
       "      <th>'Mr_Che'</th>\n",
       "      <td>0.0</td>\n",
       "      <td>0.0</td>\n",
       "      <td>0.0</td>\n",
       "      <td>0.0</td>\n",
       "      <td>0.0</td>\n",
       "      <td>0.0</td>\n",
       "      <td>0.0</td>\n",
       "      <td>0.0</td>\n",
       "      <td>0.0</td>\n",
       "      <td>0.0</td>\n",
       "      <td>...</td>\n",
       "      <td>0.0</td>\n",
       "      <td>0.0</td>\n",
       "      <td>0.0</td>\n",
       "      <td>0.0</td>\n",
       "      <td>0.0</td>\n",
       "      <td>0.0</td>\n",
       "      <td>0.0</td>\n",
       "      <td>0.0</td>\n",
       "      <td>0.0</td>\n",
       "      <td>1.0</td>\n",
       "    </tr>\n",
       "    <tr>\n",
       "      <th>'Phan Cường'</th>\n",
       "      <td>0.0</td>\n",
       "      <td>0.0</td>\n",
       "      <td>0.0</td>\n",
       "      <td>0.0</td>\n",
       "      <td>0.0</td>\n",
       "      <td>0.0</td>\n",
       "      <td>0.0</td>\n",
       "      <td>0.0</td>\n",
       "      <td>0.0</td>\n",
       "      <td>0.0</td>\n",
       "      <td>...</td>\n",
       "      <td>0.0</td>\n",
       "      <td>0.0</td>\n",
       "      <td>0.0</td>\n",
       "      <td>0.0</td>\n",
       "      <td>0.0</td>\n",
       "      <td>0.0</td>\n",
       "      <td>0.0</td>\n",
       "      <td>0.0</td>\n",
       "      <td>0.0</td>\n",
       "      <td>1.0</td>\n",
       "    </tr>\n",
       "    <tr>\n",
       "      <th>'Quang Minh']</th>\n",
       "      <td>0.0</td>\n",
       "      <td>0.0</td>\n",
       "      <td>0.0</td>\n",
       "      <td>0.0</td>\n",
       "      <td>0.0</td>\n",
       "      <td>0.0</td>\n",
       "      <td>0.0</td>\n",
       "      <td>0.0</td>\n",
       "      <td>0.0</td>\n",
       "      <td>0.0</td>\n",
       "      <td>...</td>\n",
       "      <td>0.0</td>\n",
       "      <td>0.0</td>\n",
       "      <td>0.0</td>\n",
       "      <td>0.0</td>\n",
       "      <td>0.0</td>\n",
       "      <td>0.0</td>\n",
       "      <td>0.0</td>\n",
       "      <td>0.0</td>\n",
       "      <td>0.0</td>\n",
       "      <td>1.0</td>\n",
       "    </tr>\n",
       "  </tbody>\n",
       "</table>\n",
       "<p>1330 rows × 253 columns</p>\n",
       "</div>"
      ],
      "text/plain": [
       "                 0    1    2    3    4    5    6    7    8    9    ...  243  \\\n",
       "['omega'         1.0  0.0  0.0  0.0  0.0  0.0  0.0  0.0  0.0  0.0  ...  0.0   \n",
       "'Mai Nguyễn'     1.0  0.0  0.0  0.0  0.0  0.0  0.0  0.0  0.0  0.0  ...  0.0   \n",
       "'Ph Trung'       1.0  0.0  0.0  0.0  0.0  0.0  0.0  0.0  0.0  0.0  ...  0.0   \n",
       "'Hương'          1.0  0.0  0.0  0.0  0.0  0.0  0.0  0.0  0.0  0.0  ...  0.0   \n",
       "'Chung Nguyen'   1.0  0.0  0.0  0.0  0.0  0.0  0.0  0.0  0.0  0.0  ...  0.0   \n",
       "...              ...  ...  ...  ...  ...  ...  ...  ...  ...  ...  ...  ...   \n",
       "'Son Lan'        0.0  0.0  0.0  0.0  0.0  0.0  0.0  0.0  0.0  0.0  ...  0.0   \n",
       "'Danh Tran Van'  0.0  0.0  0.0  0.0  0.0  0.0  0.0  0.0  0.0  0.0  ...  0.0   \n",
       "'Mr_Che'         0.0  0.0  0.0  0.0  0.0  0.0  0.0  0.0  0.0  0.0  ...  0.0   \n",
       "'Phan Cường'     0.0  0.0  0.0  0.0  0.0  0.0  0.0  0.0  0.0  0.0  ...  0.0   \n",
       "'Quang Minh']    0.0  0.0  0.0  0.0  0.0  0.0  0.0  0.0  0.0  0.0  ...  0.0   \n",
       "\n",
       "                 244  245  246  247  248  249  250  251  252  \n",
       "['omega'         0.0  0.0  0.0  0.0  0.0  0.0  0.0  0.0  0.0  \n",
       "'Mai Nguyễn'     0.0  0.0  0.0  0.0  0.0  0.0  0.0  0.0  0.0  \n",
       "'Ph Trung'       0.0  0.0  0.0  0.0  0.0  0.0  0.0  0.0  0.0  \n",
       "'Hương'          0.0  0.0  0.0  0.0  0.0  0.0  0.0  0.0  0.0  \n",
       "'Chung Nguyen'   0.0  0.0  0.0  0.0  0.0  0.0  0.0  0.0  0.0  \n",
       "...              ...  ...  ...  ...  ...  ...  ...  ...  ...  \n",
       "'Son Lan'        0.0  0.0  0.0  0.0  0.0  0.0  0.0  0.0  1.0  \n",
       "'Danh Tran Van'  0.0  0.0  0.0  0.0  0.0  0.0  0.0  0.0  1.0  \n",
       "'Mr_Che'         0.0  0.0  0.0  0.0  0.0  0.0  0.0  0.0  1.0  \n",
       "'Phan Cường'     0.0  0.0  0.0  0.0  0.0  0.0  0.0  0.0  1.0  \n",
       "'Quang Minh']    0.0  0.0  0.0  0.0  0.0  0.0  0.0  0.0  1.0  \n",
       "\n",
       "[1330 rows x 253 columns]"
      ]
     },
     "execution_count": 105,
     "metadata": {},
     "output_type": "execute_result"
    }
   ],
   "source": [
    "df_ = df_viewer.transpose()\n",
    "df_"
   ]
  },
  {
   "cell_type": "code",
   "execution_count": 106,
   "metadata": {
    "id": "nxpzFEf2aSWk"
   },
   "outputs": [
    {
     "name": "stdout",
     "output_type": "stream",
     "text": [
      "Requirement already satisfied: mlxtend in c:\\programdata\\anaconda3\\lib\\site-packages (0.17.3)\n",
      "Requirement already satisfied: joblib>=0.13.2 in c:\\programdata\\anaconda3\\lib\\site-packages (from mlxtend) (0.16.0)\n",
      "Requirement already satisfied: scipy>=1.2.1 in c:\\programdata\\anaconda3\\lib\\site-packages (from mlxtend) (1.5.0)\n",
      "Requirement already satisfied: scikit-learn>=0.20.3 in c:\\programdata\\anaconda3\\lib\\site-packages (from mlxtend) (0.23.1)\n",
      "Requirement already satisfied: pandas>=0.24.2 in c:\\programdata\\anaconda3\\lib\\site-packages (from mlxtend) (1.0.5)\n",
      "Requirement already satisfied: setuptools in c:\\programdata\\anaconda3\\lib\\site-packages (from mlxtend) (49.2.0.post20200714)\n",
      "Requirement already satisfied: matplotlib>=3.0.0 in c:\\programdata\\anaconda3\\lib\\site-packages (from mlxtend) (3.2.2)\n",
      "Requirement already satisfied: numpy>=1.16.2 in c:\\programdata\\anaconda3\\lib\\site-packages (from mlxtend) (1.18.5)\n",
      "Requirement already satisfied: threadpoolctl>=2.0.0 in c:\\programdata\\anaconda3\\lib\\site-packages (from scikit-learn>=0.20.3->mlxtend) (2.1.0)\n",
      "Requirement already satisfied: python-dateutil>=2.6.1 in c:\\programdata\\anaconda3\\lib\\site-packages (from pandas>=0.24.2->mlxtend) (2.8.1)\n",
      "Requirement already satisfied: pytz>=2017.2 in c:\\programdata\\anaconda3\\lib\\site-packages (from pandas>=0.24.2->mlxtend) (2020.1)\n",
      "Requirement already satisfied: pyparsing!=2.0.4,!=2.1.2,!=2.1.6,>=2.0.1 in c:\\programdata\\anaconda3\\lib\\site-packages (from matplotlib>=3.0.0->mlxtend) (2.4.7)\n",
      "Requirement already satisfied: cycler>=0.10 in c:\\programdata\\anaconda3\\lib\\site-packages (from matplotlib>=3.0.0->mlxtend) (0.10.0)\n",
      "Requirement already satisfied: kiwisolver>=1.0.1 in c:\\programdata\\anaconda3\\lib\\site-packages (from matplotlib>=3.0.0->mlxtend) (1.2.0)\n",
      "Requirement already satisfied: six>=1.5 in c:\\programdata\\anaconda3\\lib\\site-packages (from python-dateutil>=2.6.1->pandas>=0.24.2->mlxtend) (1.15.0)\n"
     ]
    }
   ],
   "source": [
    "!pip install mlxtend"
   ]
  },
  {
   "cell_type": "code",
   "execution_count": 107,
   "metadata": {
    "id": "CcwV2la8aUb1"
   },
   "outputs": [],
   "source": [
    "from mlxtend.frequent_patterns import apriori, fpgrowth #For checking"
   ]
  },
  {
   "cell_type": "code",
   "execution_count": 108,
   "metadata": {
    "id": "f1NleIsJaWI1"
   },
   "outputs": [
    {
     "data": {
      "text/html": [
       "<div>\n",
       "<style scoped>\n",
       "    .dataframe tbody tr th:only-of-type {\n",
       "        vertical-align: middle;\n",
       "    }\n",
       "\n",
       "    .dataframe tbody tr th {\n",
       "        vertical-align: top;\n",
       "    }\n",
       "\n",
       "    .dataframe thead th {\n",
       "        text-align: right;\n",
       "    }\n",
       "</style>\n",
       "<table border=\"1\" class=\"dataframe\">\n",
       "  <thead>\n",
       "    <tr style=\"text-align: right;\">\n",
       "      <th></th>\n",
       "      <th>support</th>\n",
       "      <th>itemsets</th>\n",
       "    </tr>\n",
       "  </thead>\n",
       "  <tbody>\n",
       "    <tr>\n",
       "      <th>0</th>\n",
       "      <td>0.006015</td>\n",
       "      <td>(0)</td>\n",
       "    </tr>\n",
       "    <tr>\n",
       "      <th>1</th>\n",
       "      <td>0.011278</td>\n",
       "      <td>(1)</td>\n",
       "    </tr>\n",
       "    <tr>\n",
       "      <th>2</th>\n",
       "      <td>0.011278</td>\n",
       "      <td>(2)</td>\n",
       "    </tr>\n",
       "    <tr>\n",
       "      <th>3</th>\n",
       "      <td>0.012030</td>\n",
       "      <td>(3)</td>\n",
       "    </tr>\n",
       "    <tr>\n",
       "      <th>4</th>\n",
       "      <td>0.008271</td>\n",
       "      <td>(4)</td>\n",
       "    </tr>\n",
       "    <tr>\n",
       "      <th>...</th>\n",
       "      <td>...</td>\n",
       "      <td>...</td>\n",
       "    </tr>\n",
       "    <tr>\n",
       "      <th>561</th>\n",
       "      <td>0.001504</td>\n",
       "      <td>(2, 165, 134, 40, 118, 246)</td>\n",
       "    </tr>\n",
       "    <tr>\n",
       "      <th>562</th>\n",
       "      <td>0.001504</td>\n",
       "      <td>(163, 229, 18, 246, 23, 88)</td>\n",
       "    </tr>\n",
       "    <tr>\n",
       "      <th>563</th>\n",
       "      <td>0.001504</td>\n",
       "      <td>(165, 134, 40, 118, 23, 246)</td>\n",
       "    </tr>\n",
       "    <tr>\n",
       "      <th>564</th>\n",
       "      <td>0.001504</td>\n",
       "      <td>(2, 163, 229, 18, 246, 23, 88)</td>\n",
       "    </tr>\n",
       "    <tr>\n",
       "      <th>565</th>\n",
       "      <td>0.001504</td>\n",
       "      <td>(2, 165, 134, 40, 118, 23, 246)</td>\n",
       "    </tr>\n",
       "  </tbody>\n",
       "</table>\n",
       "<p>566 rows × 2 columns</p>\n",
       "</div>"
      ],
      "text/plain": [
       "      support                         itemsets\n",
       "0    0.006015                              (0)\n",
       "1    0.011278                              (1)\n",
       "2    0.011278                              (2)\n",
       "3    0.012030                              (3)\n",
       "4    0.008271                              (4)\n",
       "..        ...                              ...\n",
       "561  0.001504      (2, 165, 134, 40, 118, 246)\n",
       "562  0.001504      (163, 229, 18, 246, 23, 88)\n",
       "563  0.001504     (165, 134, 40, 118, 23, 246)\n",
       "564  0.001504   (2, 163, 229, 18, 246, 23, 88)\n",
       "565  0.001504  (2, 165, 134, 40, 118, 23, 246)\n",
       "\n",
       "[566 rows x 2 columns]"
      ]
     },
     "execution_count": 108,
     "metadata": {},
     "output_type": "execute_result"
    }
   ],
   "source": [
    "apriori(df_, min_support=0.001, use_colnames=True)"
   ]
  },
  {
   "cell_type": "code",
   "execution_count": 109,
   "metadata": {
    "id": "GGHSyyk5aXQl"
   },
   "outputs": [
    {
     "data": {
      "text/html": [
       "<div>\n",
       "<style scoped>\n",
       "    .dataframe tbody tr th:only-of-type {\n",
       "        vertical-align: middle;\n",
       "    }\n",
       "\n",
       "    .dataframe tbody tr th {\n",
       "        vertical-align: top;\n",
       "    }\n",
       "\n",
       "    .dataframe thead th {\n",
       "        text-align: right;\n",
       "    }\n",
       "</style>\n",
       "<table border=\"1\" class=\"dataframe\">\n",
       "  <thead>\n",
       "    <tr style=\"text-align: right;\">\n",
       "      <th></th>\n",
       "      <th>support</th>\n",
       "      <th>itemsets</th>\n",
       "    </tr>\n",
       "  </thead>\n",
       "  <tbody>\n",
       "    <tr>\n",
       "      <th>0</th>\n",
       "      <td>0.011278</td>\n",
       "      <td>(171)</td>\n",
       "    </tr>\n",
       "    <tr>\n",
       "      <th>1</th>\n",
       "      <td>0.006015</td>\n",
       "      <td>(0)</td>\n",
       "    </tr>\n",
       "    <tr>\n",
       "      <th>2</th>\n",
       "      <td>0.011278</td>\n",
       "      <td>(1)</td>\n",
       "    </tr>\n",
       "    <tr>\n",
       "      <th>3</th>\n",
       "      <td>0.011278</td>\n",
       "      <td>(36)</td>\n",
       "    </tr>\n",
       "    <tr>\n",
       "      <th>4</th>\n",
       "      <td>0.010526</td>\n",
       "      <td>(152)</td>\n",
       "    </tr>\n",
       "    <tr>\n",
       "      <th>...</th>\n",
       "      <td>...</td>\n",
       "      <td>...</td>\n",
       "    </tr>\n",
       "    <tr>\n",
       "      <th>561</th>\n",
       "      <td>0.001504</td>\n",
       "      <td>(233, 207)</td>\n",
       "    </tr>\n",
       "    <tr>\n",
       "      <th>562</th>\n",
       "      <td>0.001504</td>\n",
       "      <td>(32, 159)</td>\n",
       "    </tr>\n",
       "    <tr>\n",
       "      <th>563</th>\n",
       "      <td>0.001504</td>\n",
       "      <td>(81, 194)</td>\n",
       "    </tr>\n",
       "    <tr>\n",
       "      <th>564</th>\n",
       "      <td>0.001504</td>\n",
       "      <td>(81, 101)</td>\n",
       "    </tr>\n",
       "    <tr>\n",
       "      <th>565</th>\n",
       "      <td>0.011278</td>\n",
       "      <td>(89, 199)</td>\n",
       "    </tr>\n",
       "  </tbody>\n",
       "</table>\n",
       "<p>566 rows × 2 columns</p>\n",
       "</div>"
      ],
      "text/plain": [
       "      support    itemsets\n",
       "0    0.011278       (171)\n",
       "1    0.006015         (0)\n",
       "2    0.011278         (1)\n",
       "3    0.011278        (36)\n",
       "4    0.010526       (152)\n",
       "..        ...         ...\n",
       "561  0.001504  (233, 207)\n",
       "562  0.001504   (32, 159)\n",
       "563  0.001504   (81, 194)\n",
       "564  0.001504   (81, 101)\n",
       "565  0.011278   (89, 199)\n",
       "\n",
       "[566 rows x 2 columns]"
      ]
     },
     "execution_count": 109,
     "metadata": {},
     "output_type": "execute_result"
    }
   ],
   "source": [
    "fpgrowth(df_, min_support=0.001, use_colnames=True)"
   ]
  },
  {
   "cell_type": "code",
   "execution_count": 110,
   "metadata": {},
   "outputs": [],
   "source": [
    "import threading\n",
    "import os"
   ]
  },
  {
   "cell_type": "code",
   "execution_count": 111,
   "metadata": {},
   "outputs": [],
   "source": [
    "def apriori_h(df_, min_supp, use_colname):\n",
    "    print(apriori(df_, min_support=min_supp, use_colnames=use_colname))"
   ]
  },
  {
   "cell_type": "code",
   "execution_count": 112,
   "metadata": {},
   "outputs": [],
   "source": [
    "def fpgrowth_h(df_, min_supp, use_colname):\n",
    "    print(fpgrowth(df_, min_support=min_supp, use_colnames=use_colname))"
   ]
  },
  {
   "cell_type": "code",
   "execution_count": 113,
   "metadata": {},
   "outputs": [],
   "source": [
    "def Multithread():  \n",
    "    t1= threading.Thread(target= apriori_h, args=(df_, 0.001, True))\n",
    "    t2= threading.Thread(target= fpgrowth_h, args=(df_, 0.001, True))\n",
    "    \n",
    "    t1.start()\n",
    "    t2.start()\n",
    "    t1.join()\n",
    "    t2.join()"
   ]
  },
  {
   "cell_type": "code",
   "execution_count": 114,
   "metadata": {},
   "outputs": [
    {
     "name": "stdout",
     "output_type": "stream",
     "text": [
      "      support    itemsets\n",
      "0    0.011278       (171)\n",
      "1    0.006015         (0)\n",
      "2    0.011278         (1)\n",
      "3    0.011278        (36)\n",
      "4    0.010526       (152)\n",
      "..        ...         ...\n",
      "561  0.001504  (233, 207)\n",
      "562  0.001504   (32, 159)\n",
      "563  0.001504   (81, 194)\n",
      "564  0.001504   (81, 101)\n",
      "565  0.011278   (89, 199)\n",
      "\n",
      "[566 rows x 2 columns]\n",
      "      support                         itemsets\n",
      "0    0.006015                              (0)\n",
      "1    0.011278                              (1)\n",
      "2    0.011278                              (2)\n",
      "3    0.012030                              (3)\n",
      "4    0.008271                              (4)\n",
      "..        ...                              ...\n",
      "561  0.001504      (2, 165, 134, 40, 118, 246)\n",
      "562  0.001504      (163, 229, 18, 246, 23, 88)\n",
      "563  0.001504     (165, 134, 40, 118, 23, 246)\n",
      "564  0.001504   (2, 163, 229, 18, 246, 23, 88)\n",
      "565  0.001504  (2, 165, 134, 40, 118, 23, 246)\n",
      "\n",
      "[566 rows x 2 columns]\n"
     ]
    }
   ],
   "source": [
    "if __name__ == '__main__':\n",
    "     Multithread()"
   ]
  },
  {
   "cell_type": "code",
   "execution_count": null,
   "metadata": {},
   "outputs": [],
   "source": []
  },
  {
   "cell_type": "code",
   "execution_count": null,
   "metadata": {},
   "outputs": [],
   "source": []
  },
  {
   "cell_type": "code",
   "execution_count": null,
   "metadata": {},
   "outputs": [],
   "source": []
  }
 ],
 "metadata": {
  "colab": {
   "authorship_tag": "ABX9TyNrcCkb5SpcoN8kthYyWNNk",
   "collapsed_sections": [],
   "name": "Midterm.ipynb",
   "provenance": [],
   "toc_visible": true
  },
  "kernelspec": {
   "display_name": "Python 3",
   "language": "python",
   "name": "python3"
  },
  "language_info": {
   "codemirror_mode": {
    "name": "ipython",
    "version": 3
   },
   "file_extension": ".py",
   "mimetype": "text/x-python",
   "name": "python",
   "nbconvert_exporter": "python",
   "pygments_lexer": "ipython3",
   "version": "3.8.3"
  }
 },
 "nbformat": 4,
 "nbformat_minor": 1
}
