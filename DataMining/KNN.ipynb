{
 "cells": [
  {
   "cell_type": "code",
   "execution_count": 1,
   "metadata": {},
   "outputs": [],
   "source": [
    "from math import sqrt\n",
    "def distance(train, test):\n",
    "    return sqrt(sum([(train[idx] - test[idx])**2 for idx in range(len(train))]))"
   ]
  },
  {
   "cell_type": "code",
   "execution_count": 2,
   "metadata": {},
   "outputs": [],
   "source": [
    "def KNN(trainset, test, k):\n",
    "    global min_distance\n",
    "    \n",
    "    distance_ls = [distance(train[:-1], test) for train in trainset]\n",
    "    result = sorted([[distance_ls[i], trainset[i][-1]] for i in range(len(trainset))])[:k]\n",
    "    count = list()\n",
    "    lable = list()\n",
    "    for i in result:\n",
    "        if i[-1] not in lable:\n",
    "            count.append(1)\n",
    "            lable.append(i[-1])\n",
    "        else:\n",
    "            count[lable.index(i[-1])] += 1\n",
    "    min_distance = result[0][0]\n",
    "    return lable[count.index(max(count))]"
   ]
  },
  {
   "cell_type": "code",
   "execution_count": 3,
   "metadata": {},
   "outputs": [],
   "source": [
    "def load_data(filename):\n",
    "    return [[float(j) for j in i.split(',')[1:-1]] + [i.split(',')[-1]] for i in open(filename, 'r').read().split('\\n')[1:]]"
   ]
  },
  {
   "cell_type": "markdown",
   "metadata": {},
   "source": [
    "## For UI"
   ]
  },
  {
   "cell_type": "code",
   "execution_count": 4,
   "metadata": {},
   "outputs": [],
   "source": [
    "def initial_UI():\n",
    "    global SepalLengthCm, SepalWidthCm, PetalLengthCm, PetalWidthCm, K\n",
    "    \n",
    "    tk.Label(master, text=\"Sepal Length Cm\\t\").grid(row=0)\n",
    "    tk.Label(master, text=\"Sepal Width Cm\\t\").grid(row=1)\n",
    "    tk.Label(master, text=\"Petal Length Cm\\t\").grid(row=2)\n",
    "    tk.Label(master, text=\"Petal Width Cm\\t\").grid(row=3)\n",
    "    tk.Label(master, text=\"K = \").grid(row=4)\n",
    "\n",
    "    SepalLengthCm = tk.Entry(master)\n",
    "    SepalWidthCm = tk.Entry(master)\n",
    "    PetalLengthCm = tk.Entry(master)\n",
    "    PetalWidthCm = tk.Entry(master)\n",
    "    K = tk.Entry(master)\n",
    "\n",
    "    SepalLengthCm.grid(row=0, column=1)\n",
    "    SepalWidthCm.grid(row=1, column=1)\n",
    "    PetalLengthCm.grid(row=2, column=1)\n",
    "    PetalWidthCm.grid(row=3, column=1)\n",
    "    K.grid(row=4, column=1)\n",
    "    \n",
    "    # tk.Button(master, text='Quit', command=master.quit).grid(row=3, column=0, sticky=tk.W, pady=4)\n",
    "    choose = tk.Button(master, text='Choose file', command=get_file_address).grid(row=5, column=0, sticky=tk.W, pady=4)\n",
    "    tk.Button(master, text='Get result', command=show_entry_fields).grid(row=5, column=1, sticky=tk.W)\n",
    "\n",
    "    tk.mainloop()"
   ]
  },
  {
   "cell_type": "code",
   "execution_count": 5,
   "metadata": {},
   "outputs": [],
   "source": [
    "def show_entry_fields():\n",
    "    global SepalLengthCm, SepalWidthCm, PetalLengthCm, PetalWidthCm, K\n",
    "    \n",
    "    SepalLengthCm = float(SepalLengthCm.get())\n",
    "    SepalWidthCm = float(SepalWidthCm.get())\n",
    "    PetalLengthCm = float(PetalLengthCm.get())\n",
    "    PetalWidthCm = float(PetalWidthCm.get())\n",
    "    K = int(K.get())\n",
    "    \n",
    "    trainset = load_data(filename)\n",
    "    result = \"Result: \" + KNN(trainset, [SepalLengthCm, SepalWidthCm, PetalLengthCm, PetalWidthCm], K)\n",
    "    tk.Label(master, text=result).grid(row=7, column=1,)\n",
    "    distance = \"Distance: \" + str(min_distance)\n",
    "    tk.Label(master, text=distance).grid(row=8, column=1, pady=20)"
   ]
  },
  {
   "cell_type": "code",
   "execution_count": 6,
   "metadata": {},
   "outputs": [],
   "source": [
    "def get_file_address():\n",
    "    global filename\n",
    "    \n",
    "    filename = filedialog.askopenfilename(initialdir = os.getcwd(), title='Select', filetypes=[(\"Data train\", \"*.csv\")])\n",
    "    filename = filename.replace(\"/\", \"\\\\\")\n",
    "    tk.Label(master, text=filename).grid(row=6, column=0, columnspan=3)"
   ]
  },
  {
   "cell_type": "code",
   "execution_count": 7,
   "metadata": {},
   "outputs": [],
   "source": [
    "import tkinter as tk\n",
    "from tkinter import filedialog\n",
    "import os\n",
    "import re\n",
    "\n",
    "filename = ''\n",
    "SepalLengthCm = None\n",
    "SepalWidthCm = None\n",
    "PetalLengthCm = None\n",
    "PetalWidthCm = None\n",
    "K = None\n",
    "min_distance = None\n",
    "\n",
    "master = tk.Tk()\n",
    "\n",
    "def main():\n",
    "    initial_UI()\n",
    "    \n",
    "    \n",
    "#     trainset = load_data('Iris.csv')\n",
    "#     print(trainset)\n",
    "#     k = 2\n",
    "#     print(KNN(trainset, [5.0,3.4,1.5,0.2], k))\n",
    "\n",
    "if __name__ == '__main__':\n",
    "    main()"
   ]
  },
  {
   "cell_type": "code",
   "execution_count": null,
   "metadata": {},
   "outputs": [],
   "source": []
  }
 ],
 "metadata": {
  "kernelspec": {
   "display_name": "Python 3",
   "language": "python",
   "name": "python3"
  },
  "language_info": {
   "codemirror_mode": {
    "name": "ipython",
    "version": 3
   },
   "file_extension": ".py",
   "mimetype": "text/x-python",
   "name": "python",
   "nbconvert_exporter": "python",
   "pygments_lexer": "ipython3",
   "version": "3.7.4"
  }
 },
 "nbformat": 4,
 "nbformat_minor": 2
}
