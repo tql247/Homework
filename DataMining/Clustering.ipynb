{
 "cells": [
  {
   "cell_type": "code",
   "execution_count": 1,
   "metadata": {},
   "outputs": [],
   "source": [
    "import numpy as np\n",
    "from math import sqrt"
   ]
  },
  {
   "cell_type": "code",
   "execution_count": 2,
   "metadata": {},
   "outputs": [],
   "source": [
    "def distance_to_g(data, g):\n",
    "    list_point = data[1:,1:].astype(np.float)\n",
    "    g = g.astype(np.float)\n",
    "    \n",
    "    ls_distance = list()\n",
    "    for point in list_point:\n",
    "        ls_distance.append([sqrt(sum([(point - g_i)[i]**2 for i in range(len(g_i))])) for g_i in g])\n",
    "    \n",
    "    return ls_distance"
   ]
  },
  {
   "cell_type": "code",
   "execution_count": 3,
   "metadata": {},
   "outputs": [],
   "source": [
    "def clustering(data, dist):\n",
    "    clust = [[] for i in range(len(dist[0]))]\n",
    "    i = 1\n",
    "    for idx in dist:\n",
    "        clust[idx.index(min(idx))].append(data[i][0])\n",
    "        i += 1\n",
    "    return clust"
   ]
  },
  {
   "cell_type": "code",
   "execution_count": 4,
   "metadata": {},
   "outputs": [],
   "source": [
    "def pick_g(data, clust):\n",
    "    new_g = list()\n",
    "    for clust_i in clust:\n",
    "        list_clust = list()\n",
    "        for el in clust_i:\n",
    "            for data_i in data:\n",
    "                if data_i[0] == el:\n",
    "                    list_clust.append(data_i[1:].astype(np.float))\n",
    "        \n",
    "        new_g.append([np.mean([list_clust[i][j] for i in range(len(list_clust))]) for j in range(len(list_clust[0]))])\n",
    "        \n",
    "    return np.array(new_g)"
   ]
  },
  {
   "cell_type": "code",
   "execution_count": 5,
   "metadata": {},
   "outputs": [],
   "source": [
    "def k_clustering(data, k):\n",
    "#     initial\n",
    "    crr_g = data[1:k + 1,1:]\n",
    "    crr_clust = list()\n",
    "    \n",
    "    print(crr_clust)\n",
    "#     loop\n",
    "    while True:\n",
    "        new_clust = clustering(data, distance_to_g(data, crr_g))\n",
    "        print(new_clust)\n",
    "        \n",
    "        if new_clust == crr_clust:\n",
    "            break\n",
    "        \n",
    "        crr_g = pick_g(data, new_clust)\n",
    "        crr_clust = new_clust\n",
    "        print(crr_clust)\n",
    "        \n",
    "    return crr_g"
   ]
  },
  {
   "cell_type": "code",
   "execution_count": 7,
   "metadata": {},
   "outputs": [
    {
     "name": "stdout",
     "output_type": "stream",
     "text": [
      "[]\n",
      "[['Lam'], ['Hung'], ['Duc', 'Mai']]\n",
      "[['Lam'], ['Hung'], ['Duc', 'Mai']]\n",
      "[['Lam'], ['Hung'], ['Duc', 'Mai']]\n"
     ]
    }
   ],
   "source": [
    "data = [['Custome', 'Age', 'Income'], \n",
    "        ['Lam', 0, 0], \n",
    "        ['Hung', 50, 50], \n",
    "        ['Duc', 75, 75], \n",
    "        ['Mai', 100, 100]]\n",
    "\n",
    "data = np.array(data)\n",
    "\n",
    "def main():\n",
    "    k_clustering(data, 3)\n",
    "    \n",
    "if __name__ == '__main__':\n",
    "    main()"
   ]
  }
 ],
 "metadata": {
  "kernelspec": {
   "display_name": "Python 3",
   "language": "python",
   "name": "python3"
  },
  "language_info": {
   "codemirror_mode": {
    "name": "ipython",
    "version": 3
   },
   "file_extension": ".py",
   "mimetype": "text/x-python",
   "name": "python",
   "nbconvert_exporter": "python",
   "pygments_lexer": "ipython3",
   "version": "3.7.4"
  }
 },
 "nbformat": 4,
 "nbformat_minor": 2
}
