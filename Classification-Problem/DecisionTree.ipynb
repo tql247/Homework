{
 "cells": [
  {
   "cell_type": "markdown",
   "metadata": {},
   "source": [
    "# Decision Tree "
   ]
  },
  {
   "cell_type": "code",
   "execution_count": 5,
   "metadata": {},
   "outputs": [],
   "source": [
    "class cube:\n",
    "    def __init__(self, table, cond):\n",
    "        self.table = table\n",
    "        self.cond = cond\n",
    "        \n",
    "    def get_value(self):\n",
    "        return self.table\n",
    "    \n",
    "    def get_cond(self):\n",
    "        return self.cond"
   ]
  },
  {
   "cell_type": "code",
   "execution_count": 6,
   "metadata": {},
   "outputs": [],
   "source": [
    "from math import log\n",
    "def entropy_table(table):\n",
    "    '''\n",
    "        table: two dimensional array [[]]\n",
    "        out put: An int value that calculate by E(S) = - p/(p + q)*log(p/(p + q), 2) - q/(p + q)*log(q/(p + q), 2)\n",
    "    '''\n",
    "    Entropy = 0\n",
    "    ls_e = list()\n",
    "    for i in table[-1][1:]:\n",
    "        if i not in ls_e:\n",
    "            ls_e.append(i)\n",
    "            Entropy += - table[-1].count(i)/(len(table[0]) - 1)*log(table[-1].count(i)/(len(table[0]) - 1), 2)\n",
    "    return Entropy"
   ]
  },
  {
   "cell_type": "code",
   "execution_count": 7,
   "metadata": {},
   "outputs": [],
   "source": [
    "def new_table(lable, table):\n",
    "    '''\n",
    "        lable: string\n",
    "        table: [[]]\n",
    "        output: new table fit with lable\n",
    "    '''\n",
    "    src = list()\n",
    "    for row in table:\n",
    "        if lable in row:\n",
    "            src = row\n",
    "            break\n",
    "\n",
    "    new = [[]]\n",
    "    for row in table:\n",
    "        if row[0] != src[0]:\n",
    "            tmp2 = [row[0], ]\n",
    "            for i in range(src.__len__()):\n",
    "                if src[i] == lable:\n",
    "                    tmp2.append(row[i])\n",
    "            new.append(tmp2)\n",
    "                \n",
    "    return new[1:]"
   ]
  },
  {
   "cell_type": "code",
   "execution_count": 8,
   "metadata": {},
   "outputs": [],
   "source": [
    "def gain_table(E, table):\n",
    "    '''\n",
    "        E: float value\n",
    "        table: two dimensional array [[]]\n",
    "        output: Lable of Vi that have max Gain(E, V) value\n",
    "    '''\n",
    "    V_imax = ''\n",
    "    max_gain = 0\n",
    "    val = list()\n",
    "    for row in table[:-1]:\n",
    "        sum_e = 0\n",
    "        for lable in row[1:]:\n",
    "            if lable not in val:\n",
    "                val.append(lable)\n",
    "                sum_e += row.count(lable)/(row.__len__() - 1)*entropy_table(new_table(lable, table))\n",
    "        if max_gain < E - sum_e:\n",
    "            max_gain = E - sum_e\n",
    "            V_imax = row[0]\n",
    "    return V_imax"
   ]
  },
  {
   "cell_type": "code",
   "execution_count": 9,
   "metadata": {},
   "outputs": [],
   "source": [
    "def divive_table(t, lable):\n",
    "    '''\n",
    "        lable: an string\n",
    "        t: a class table\n",
    "        output: a list of class that contain new tables\n",
    "            - set condition and new tables value\n",
    "            - condition is inheritance (condition = t.cond() + ', ' + lable + ':' + V)\n",
    "    '''\n",
    "    tables = list()\n",
    "    table = t.get_value()\n",
    "    cond = t.get_cond()\n",
    "    \n",
    "    src = list()\n",
    "    for row in table:\n",
    "        if lable in row:\n",
    "            src = row\n",
    "            break\n",
    "    \n",
    "    added = list()\n",
    "    for V in src[1:]:\n",
    "        if V not in added:\n",
    "            added.append(V)\n",
    "            new_cube = cube(new_table(V, table), cond + ', ' + lable + ': ' + V)\n",
    "            tables.append(new_cube)\n",
    "            \n",
    "    return tables"
   ]
  },
  {
   "cell_type": "code",
   "execution_count": 10,
   "metadata": {},
   "outputs": [],
   "source": [
    "def decision_tree(initial):\n",
    "    '''\n",
    "        initial: [[]]\n",
    "        output: dictionary contain conditions\n",
    "        Use Queue:\n",
    "            - Push cube(initial) to Queue\n",
    "            - Get first value of Queue and set to variable t\n",
    "            - if E(t) == 0: add to dict\n",
    "            - else: divive t to piece (with lable) and add to Queue\n",
    "            * cube: class\n",
    "            * divive to piece depend on gain value\n",
    "    '''\n",
    "    cond = {}\n",
    "    tables = [cube(initial,''), ]\n",
    "    for t in tables:\n",
    "        E = entropy_table(t.get_value())\n",
    "        if E == 0:\n",
    "            cond[t.get_cond().strip(', ')] = t.get_value()[-1][1]\n",
    "        else:\n",
    "            lable = gain_table(E, t.get_value())\n",
    "            tables.extend(divive_table(t, lable))\n",
    "    return cond"
   ]
  },
  {
   "cell_type": "code",
   "execution_count": 11,
   "metadata": {},
   "outputs": [],
   "source": [
    "def load_data():\n",
    "    '''\n",
    "        input: ...\n",
    "    '''\n",
    "    filename = 'dataDT.txt'\n",
    "    return [[j for j in i.split(', ')] for i in open(filename, 'r').read().split('\\n')]"
   ]
  },
  {
   "cell_type": "code",
   "execution_count": 12,
   "metadata": {},
   "outputs": [],
   "source": [
    "def load_test():\n",
    "    '''\n",
    "        input: ...\n",
    "    '''\n",
    "    return 'Quoc tich: Y, Gia canh: Doc than'"
   ]
  },
  {
   "cell_type": "code",
   "execution_count": 13,
   "metadata": {},
   "outputs": [],
   "source": [
    "def is_in_set(setA, setB):\n",
    "    for item in setA:\n",
    "        if item not in setB:\n",
    "            return False\n",
    "    return True"
   ]
  },
  {
   "cell_type": "code",
   "execution_count": 14,
   "metadata": {},
   "outputs": [],
   "source": [
    "def test(conds):\n",
    "#     need fix`\n",
    "    testset = load_test().split(', ')\n",
    "    for cond in conds:\n",
    "        if is_in_set([cond], testset):\n",
    "            print(conds[cond])"
   ]
  },
  {
   "cell_type": "code",
   "execution_count": 15,
   "metadata": {},
   "outputs": [
    {
     "name": "stdout",
     "output_type": "stream",
     "text": [
      "B\n",
      "{'Quoc tich: Phap': 'A', 'Quoc tich: Y': 'B', 'Quoc tich: Duc, Gia canh: Doc than': 'A', 'Quoc tich: Duc, Gia canh: Co gia dinh': 'B'}\n"
     ]
    }
   ],
   "source": [
    "def main():\n",
    "    conds = decision_tree(table)\n",
    "    test(conds)\n",
    "    print(conds)\n",
    "    \n",
    "if __name__ == '__main__':\n",
    "    main()"
   ]
  },
  {
   "cell_type": "code",
   "execution_count": null,
   "metadata": {},
   "outputs": [],
   "source": []
  }
 ],
 "metadata": {
  "kernelspec": {
   "display_name": "Python 3",
   "language": "python",
   "name": "python3"
  },
  "language_info": {
   "codemirror_mode": {
    "name": "ipython",
    "version": 3
   },
   "file_extension": ".py",
   "mimetype": "text/x-python",
   "name": "python",
   "nbconvert_exporter": "python",
   "pygments_lexer": "ipython3",
   "version": "3.7.4"
  }
 },
 "nbformat": 4,
 "nbformat_minor": 2
}
