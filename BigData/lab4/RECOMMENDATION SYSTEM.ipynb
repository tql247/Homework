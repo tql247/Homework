{
 "cells": [
  {
   "cell_type": "markdown",
   "metadata": {},
   "source": [
    "# Set up"
   ]
  },
  {
   "cell_type": "code",
   "execution_count": 30,
   "metadata": {},
   "outputs": [],
   "source": [
    "from math import sqrt"
   ]
  },
  {
   "cell_type": "code",
   "execution_count": 31,
   "metadata": {},
   "outputs": [],
   "source": [
    "LIMIT_USER = 1000\n",
    "LIMIT_MOVIE = 200"
   ]
  },
  {
   "cell_type": "code",
   "execution_count": 32,
   "metadata": {},
   "outputs": [],
   "source": [
    "data = list()\n",
    "counter = 0\n",
    "with open('user-shows.txt') as f:\n",
    "    for l in f:\n",
    "        if counter == LIMIT_USER:\n",
    "            break\n",
    "        \n",
    "        data.append([int(e) for e in l.strip().split(' ')[:LIMIT_MOVIE]])\n",
    "        \n",
    "        counter += 1\n",
    "\n",
    "Thach = data[499]\n",
    "movie_ls = list(map(list, zip(*data)))"
   ]
  },
  {
   "cell_type": "code",
   "execution_count": 33,
   "metadata": {},
   "outputs": [],
   "source": [
    "movie_name = list()\n",
    "counter = 0\n",
    "with open('shows.txt') as f:\n",
    "    for l in f:\n",
    "        if counter == LIMIT_MOVIE:\n",
    "            break\n",
    "        movie_name.append(l.strip().strip('\"'))\n",
    "        \n",
    "        counter += 1"
   ]
  },
  {
   "cell_type": "markdown",
   "metadata": {},
   "source": [
    "# Job"
   ]
  },
  {
   "cell_type": "code",
   "execution_count": 34,
   "metadata": {},
   "outputs": [
    {
     "data": {
      "text/plain": [
       "'\\n    1/ Determine/Caculate:\\n        - User-User Similarity matrix\\n        - Movie-Movie Similarity matrix\\n        \\n    2/ Fill new value at 0 in matrix by:\\n        - User-User : Ru,s = sum(cos_sim(u, x) * Rx,s for x in users)\\n        - Movie-Movie : Ru,s = sum(cos_sim(s, y) * Ry,u for y in movies)\\n'"
      ]
     },
     "execution_count": 34,
     "metadata": {},
     "output_type": "execute_result"
    }
   ],
   "source": [
    "'''\n",
    "    1/ Determine/Caculate:\n",
    "        - User-User Similarity matrix\n",
    "        - Movie-Movie Similarity matrix\n",
    "        \n",
    "    2/ Fill new value at 0 in matrix by:\n",
    "        - User-User : Ru,s = sum(cos_sim(u, x) * Rx,s for x in users)\n",
    "        - Movie-Movie : Ru,s = sum(cos_sim(s, y) * Ry,u for y in movies)\n",
    "'''"
   ]
  },
  {
   "cell_type": "code",
   "execution_count": 35,
   "metadata": {},
   "outputs": [],
   "source": [
    "# cos similarity\n",
    "def cos_similarity(u, v):\n",
    "    '''\n",
    "        In: vector u, v\n",
    "        Out: Number of similarity\n",
    "        Run: search gg about cos similarity\n",
    "    '''\n",
    "    \n",
    "    numerator = sum([u[i]*v[i] for i in range(len(u))])\n",
    "    \n",
    "    denominator = sqrt(sum([i**2 for i in u])) * sqrt(sum([i**2 for i in v]))\n",
    "    \n",
    "    if numerator == 0:\n",
    "        return 0\n",
    "    return numerator/denominator"
   ]
  },
  {
   "cell_type": "code",
   "execution_count": 36,
   "metadata": {},
   "outputs": [],
   "source": [
    "def get_not_view_movie_yet(user):\n",
    "    s = list()\n",
    "    \n",
    "    for idx, rate in enumerate(user):\n",
    "        if rate == 0:\n",
    "            s.append(idx)\n",
    "            \n",
    "    return s"
   ]
  },
  {
   "cell_type": "code",
   "execution_count": 40,
   "metadata": {},
   "outputs": [],
   "source": [
    "def get_similarity_user(user):\n",
    "    ls_similarity = list()\n",
    "    \n",
    "    for _user in data[:LIMIT_USER]:\n",
    "        ls_similarity.append(cos_similarity(user, _user))\n",
    "        \n",
    "    return ls_similarity"
   ]
  },
  {
   "cell_type": "code",
   "execution_count": 41,
   "metadata": {},
   "outputs": [],
   "source": [
    "def get_similarity_movie(movie):\n",
    "    ls_similarity = list()\n",
    "    \n",
    "    for _movie in movie_ls[:LIMIT_MOVIE]:\n",
    "        ls_similarity.append(cos_similarity(movie, _movie))\n",
    "        \n",
    "    return ls_similarity"
   ]
  },
  {
   "cell_type": "code",
   "execution_count": 72,
   "metadata": {},
   "outputs": [],
   "source": [
    "recommendation_by_user = dict()\n",
    "recommendation_by_item = dict()\n",
    "\n",
    "ls_not_view = get_not_view_movie_yet(Thach)\n",
    "ls_similarity_user = get_similarity_user(Thach)\n",
    "\n",
    "# user - user\n",
    "for idx, movie in enumerate(ls_not_view):\n",
    "    temp = sum(ls_similarity_user[i]*movie_ls[idx][i] for i in range(LIMIT_USER))\n",
    "    recommendation_by_user[idx] = temp\n",
    "\n",
    "# movie - movie\n",
    "for idx, movie in enumerate(ls_not_view):\n",
    "    ls_similarity_movie = get_similarity_movie(movie_ls[idx])\n",
    "    \n",
    "    temp = sum(ls_similarity_movie[i]*data[idx][i] for i in range(LIMIT_MOVIE))\n",
    "    recommendation_by_item[idx] = temp"
   ]
  },
  {
   "cell_type": "code",
   "execution_count": 100,
   "metadata": {},
   "outputs": [],
   "source": [
    "result_by_user = {k: v for k, v in sorted(recommendation_by_user.items(), key=lambda item: item[1])}\n",
    "result_by_movie = {k: v for k, v in sorted(recommendation_by_item.items(), key=lambda item: item[1])}"
   ]
  },
  {
   "cell_type": "markdown",
   "metadata": {},
   "source": [
    "# Result"
   ]
  },
  {
   "cell_type": "code",
   "execution_count": 108,
   "metadata": {},
   "outputs": [
    {
     "name": "stdout",
     "output_type": "stream",
     "text": [
      "Recommender by user-user\n",
      "------------------------\n",
      "MLB Spring Training\n",
      "Pirates of the Caribbean: At World's End\n",
      "Your World with Neil Cavuto\n",
      "Transformers\n",
      "Made of Honor\n"
     ]
    }
   ],
   "source": [
    "print('Recommender by user-user')\n",
    "print('------------------------')\n",
    "counter = 0\n",
    "for i in result_by_user:\n",
    "    if counter == 5:\n",
    "        break\n",
    "    print(movie_name[i])\n",
    "    counter += 1"
   ]
  },
  {
   "cell_type": "code",
   "execution_count": 107,
   "metadata": {},
   "outputs": [
    {
     "name": "stdout",
     "output_type": "stream",
     "text": [
      "Recommender by movie-movie\n",
      "------------------------\n",
      "Zoey 101\n",
      "The Parent Trap \n",
      "Presidential Press Conference\n",
      "Blue's Clues\n",
      "The Colbert Report\n"
     ]
    }
   ],
   "source": [
    "print('Recommender by movie-movie')\n",
    "print('------------------------')\n",
    "counter = 0\n",
    "for i in result_by_movie:\n",
    "    if counter == 5:\n",
    "        break\n",
    "    print(movie_name[i])\n",
    "    counter += 1"
   ]
  },
  {
   "cell_type": "code",
   "execution_count": null,
   "metadata": {},
   "outputs": [],
   "source": []
  }
 ],
 "metadata": {
  "kernelspec": {
   "display_name": "Python 3",
   "language": "python",
   "name": "python3"
  },
  "language_info": {
   "codemirror_mode": {
    "name": "ipython",
    "version": 3
   },
   "file_extension": ".py",
   "mimetype": "text/x-python",
   "name": "python",
   "nbconvert_exporter": "python",
   "pygments_lexer": "ipython3",
   "version": "3.7.7"
  }
 },
 "nbformat": 4,
 "nbformat_minor": 4
}
