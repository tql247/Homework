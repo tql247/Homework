{
  "nbformat": 4,
  "nbformat_minor": 0,
  "metadata": {
    "colab": {
      "name": "Friend_Recommendation",
      "provenance": [],
      "toc_visible": true
    },
    "kernelspec": {
      "name": "python3",
      "display_name": "Python 3"
    }
  },
  "cells": [
    {
      "cell_type": "markdown",
      "metadata": {
        "id": "Xhd6BpmPkz5J",
        "colab_type": "text"
      },
      "source": [
        "# Set up"
      ]
    },
    {
      "cell_type": "code",
      "metadata": {
        "id": "qXmqnhZfjW5V",
        "colab_type": "code",
        "outputId": "70d252d7-8ac4-4ce4-d76f-bfe0e66fff14",
        "colab": {
          "base_uri": "https://localhost:8080/",
          "height": 87
        }
      },
      "source": [
        "!pip install pyspark\n",
        "!pip install -U -q PyDrive\n",
        "!apt install openjdk-8-jdk-headless -qq\n",
        "import os\n",
        "os.environ[\"JAVA_HOME\"] = \"/usr/lib/jvm/java-8-openjdk-amd64\""
      ],
      "execution_count": 241,
      "outputs": [
        {
          "output_type": "stream",
          "text": [
            "Requirement already satisfied: pyspark in /usr/local/lib/python3.6/dist-packages (2.4.5)\n",
            "Requirement already satisfied: py4j==0.10.7 in /usr/local/lib/python3.6/dist-packages (from pyspark) (0.10.7)\n",
            "openjdk-8-jdk-headless is already the newest version (8u242-b08-0ubuntu3~18.04).\n",
            "0 upgraded, 0 newly installed, 0 to remove and 25 not upgraded.\n"
          ],
          "name": "stdout"
        }
      ]
    },
    {
      "cell_type": "code",
      "metadata": {
        "id": "Ao2dWx_Cjz5j",
        "colab_type": "code",
        "colab": {}
      },
      "source": [
        "from pydrive.auth import GoogleAuth\n",
        "from pydrive.drive import GoogleDrive\n",
        "from google.colab import auth\n",
        "from oauth2client.client import GoogleCredentials\n",
        "\n",
        "# Authenticate and create the PyDrive client\n",
        "auth.authenticate_user()\n",
        "gauth = GoogleAuth()\n",
        "gauth.credentials = GoogleCredentials.get_application_default()\n",
        "drive = GoogleDrive(gauth)"
      ],
      "execution_count": 0,
      "outputs": []
    },
    {
      "cell_type": "code",
      "metadata": {
        "id": "c8_AThqanR04",
        "colab_type": "code",
        "colab": {}
      },
      "source": [
        "from pyspark.sql import *\n",
        "from pyspark.sql.functions import *\n",
        "from pyspark import SparkContext\n",
        "from pyspark.sql.types import *\n",
        "import pandas as pd\n",
        "from operator import add\n",
        "\n",
        "\n",
        "# create the Spark Session\n",
        "spark = SparkSession.builder.getOrCreate()\n",
        "\n",
        "# create the Spark Context\n",
        "sc = spark.sparkContext"
      ],
      "execution_count": 0,
      "outputs": []
    },
    {
      "cell_type": "code",
      "metadata": {
        "id": "zmO3NUAyjsF8",
        "colab_type": "code",
        "colab": {}
      },
      "source": [
        "id='1-kKDZ--SDPgClLDT3W6wjogxexzYnIMb'\n",
        "downloaded = drive.CreateFile({'id': id}) \n",
        "downloaded.GetContentFile('soc-LiveJournal1Adj.txt')"
      ],
      "execution_count": 0,
      "outputs": []
    },
    {
      "cell_type": "code",
      "metadata": {
        "id": "P6jlATLSnWKv",
        "colab_type": "code",
        "colab": {}
      },
      "source": [
        "data_file = sc.textFile(\"soc-LiveJournal1Adj.txt\")"
      ],
      "execution_count": 0,
      "outputs": []
    },
    {
      "cell_type": "code",
      "metadata": {
        "id": "3nNy6twMlO-q",
        "colab_type": "code",
        "colab": {}
      },
      "source": [
        "schema = StructType([\n",
        "  StructField(\"user\", StringType()),\n",
        "  StructField(\"friends\", StringType()),\n",
        "])"
      ],
      "execution_count": 0,
      "outputs": []
    },
    {
      "cell_type": "code",
      "metadata": {
        "id": "0Z8S5YMICISl",
        "colab_type": "code",
        "colab": {}
      },
      "source": [
        " data = spark.read\\\n",
        "        .option('delimiter', '\\t')\\\n",
        "        .csv(data_file, schema=schema)"
      ],
      "execution_count": 0,
      "outputs": []
    },
    {
      "cell_type": "code",
      "metadata": {
        "id": "oz6Lwq8glpDV",
        "colab_type": "code",
        "outputId": "8358ff66-75ee-45e8-f64a-734d5f27101f",
        "colab": {
          "base_uri": "https://localhost:8080/",
          "height": 472
        }
      },
      "source": [
        "data.show()"
      ],
      "execution_count": 248,
      "outputs": [
        {
          "output_type": "stream",
          "text": [
            "+----+--------------------+\n",
            "|user|             friends|\n",
            "+----+--------------------+\n",
            "|   0|1,2,3,4,5,6,7,8,9...|\n",
            "|   1|0,5,20,135,2409,8...|\n",
            "|   2|0,117,135,1220,27...|\n",
            "|   3|0,12,41,55,1532,1...|\n",
            "|   4|0,8,14,15,18,27,7...|\n",
            "|   5|0,1,20,2022,22939...|\n",
            "|   6|0,21,98,2203,3238...|\n",
            "|   7|0,31993,40218,404...|\n",
            "|   8|0,4,38,46,72,85,2...|\n",
            "|   9|  0,6085,18972,19269|\n",
            "|  10|0,12,16,30,6027,1...|\n",
            "|  11|0,1754,6027,7789,...|\n",
            "|  12|0,3,10,16,29,38,4...|\n",
            "|  13|0,12584,32064,27,...|\n",
            "|  14|0,4,19,19079,4269...|\n",
            "|  15|           0,4,27,80|\n",
            "|  16|0,10,12,18,30,38,...|\n",
            "|  17|0,19,26,28,95,128...|\n",
            "|  18|0,4,16,30,89,2406...|\n",
            "|  19|0,14,17,439,1100,...|\n",
            "+----+--------------------+\n",
            "only showing top 20 rows\n",
            "\n"
          ],
          "name": "stdout"
        }
      ]
    },
    {
      "cell_type": "markdown",
      "metadata": {
        "id": "mwotWkv6VgfA",
        "colab_type": "text"
      },
      "source": [
        "# Find list recommendation\n"
      ]
    },
    {
      "cell_type": "code",
      "metadata": {
        "id": "Xi4iPb8JK2pq",
        "colab_type": "code",
        "colab": {}
      },
      "source": [
        "def find_recommendation(id_us):\n",
        "  list_friend = data.filter(\"user = '{}'\".format(id_us)).collect()[0]['friends'].split(',')\n",
        "  friend_may_know_table = data.select('friends').filter(col('user').isin(list_friend))\n",
        "  friend_may_know_ls = friend_may_know_table.rdd.flatMap(lambda x: x).flatMap(lambda x: x.split(','))\n",
        "  remove_knew_already = friend_may_know_ls.filter(lambda x: not x in list_friend).filter(lambda x: x != str(id_us))\n",
        "  set_relation = remove_knew_already.map(lambda x: (x, 1))\n",
        "  count_relation = set_relation.reduceByKey(add)\n",
        "  sort = count_relation.map(lambda x: (x[1], x[0])).takeOrdered(10, lambda x: (-x[0], x[1]))\n",
        "  result = [i[1] for i in sort]\n",
        "  return result"
      ],
      "execution_count": 0,
      "outputs": []
    },
    {
      "cell_type": "code",
      "metadata": {
        "id": "VzWoq7X2tFkd",
        "colab_type": "code",
        "colab": {}
      },
      "source": [
        "ls_quest = [924, 8941, 8942, 9019, 9020, 9021, 9022, 9990, 9992, 9993]\n",
        "result_ls = dict()\n",
        "\n",
        "for user in ls_quest:\n",
        "  result_ls[user] = find_recommendation(user)\n"
      ],
      "execution_count": 0,
      "outputs": []
    },
    {
      "cell_type": "code",
      "metadata": {
        "id": "AWkQb9pttfc0",
        "colab_type": "code",
        "outputId": "f6c30ee1-792b-4068-f036-889d39a6887d",
        "colab": {
          "base_uri": "https://localhost:8080/",
          "height": 54
        }
      },
      "source": [
        "print(result_ls)"
      ],
      "execution_count": 253,
      "outputs": [
        {
          "output_type": "stream",
          "text": [
            "{924: ['11860', '15416', '2409', '43748', '439', '45881', '6995'], 8941: ['8943', '8944', '8940'], 8942: ['8939', '8940', '8943', '8944'], 9019: ['9022', '317', '9023'], 9020: ['9021', '9016', '9017', '9022', '317', '9023'], 9021: ['9020', '9016', '9017', '9022', '317', '9023'], 9022: ['9019', '9020', '9021', '317', '9016', '9017', '9023'], 9990: ['13134', '13478', '13877', '34299', '34485', '34642', '37941'], 9992: ['9987', '9989', '35667', '9991'], 9993: ['9991', '13134', '13478', '13877', '34299', '34485', '34642', '37941']}\n"
          ],
          "name": "stdout"
        }
      ]
    },
    {
      "cell_type": "code",
      "metadata": {
        "id": "HGbNLLzFtgwN",
        "colab_type": "code",
        "colab": {}
      },
      "source": [
        ""
      ],
      "execution_count": 0,
      "outputs": []
    }
  ]
}